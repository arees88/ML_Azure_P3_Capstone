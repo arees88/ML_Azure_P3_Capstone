{
 "cells": [
  {
   "cell_type": "markdown",
   "metadata": {},
   "source": [
    "# Automated ML\n",
    "\n",
    "Import Dependencies. In the cell below, import all the dependencies that you will need to complete the project."
   ]
  },
  {
   "cell_type": "code",
   "execution_count": 1,
   "metadata": {
    "gather": {
     "logged": 1598423888013
    },
    "jupyter": {
     "outputs_hidden": false,
     "source_hidden": false
    },
    "nteract": {
     "transient": {
      "deleting": false
     }
    }
   },
   "outputs": [
    {
     "name": "stdout",
     "output_type": "stream",
     "text": [
      "SDK version: 1.28.0\n"
     ]
    }
   ],
   "source": [
    "import logging\n",
    "import os\n",
    "import csv\n",
    "\n",
    "from matplotlib import pyplot as plt\n",
    "import numpy as np\n",
    "import pandas as pd\n",
    "from sklearn import datasets\n",
    "import pkg_resources\n",
    "\n",
    "import azureml.core\n",
    "from azureml.core.experiment import Experiment\n",
    "from azureml.core.environment import Environment\n",
    "from azureml.core.workspace import Workspace\n",
    "from azureml.train.automl import AutoMLConfig\n",
    "from azureml.core.dataset import Dataset\n",
    "from azureml.core import Model\n",
    "\n",
    "from azureml.train.automl.utilities import get_primary_metrics\n",
    "from azureml.core.model import InferenceConfig\n",
    "from azureml.core.webservice import AciWebservice\n",
    "from azureml.core.webservice import Webservice\n",
    "from azureml.automl.core.shared import constants\n",
    "\n",
    "# Check core SDK version number\n",
    "print(\"SDK version:\", azureml.core.VERSION)"
   ]
  },
  {
   "cell_type": "markdown",
   "metadata": {},
   "source": [
    "## Predicting presence of Amphibians using GIS and satellite images"
   ]
  },
  {
   "cell_type": "markdown",
   "metadata": {},
   "source": [
    "### Initialize Workspace"
   ]
  },
  {
   "cell_type": "code",
   "execution_count": 2,
   "metadata": {},
   "outputs": [],
   "source": [
    "ws = Workspace.from_config()"
   ]
  },
  {
   "cell_type": "code",
   "execution_count": 3,
   "metadata": {},
   "outputs": [
    {
     "name": "stdout",
     "output_type": "stream",
     "text": [
      "Workspace name:  quick-starts-ws-147168\n",
      "Azure region:    southcentralus\n",
      "Subscription id: 48a74bb7-9950-4cc1-9caa-5d50f995cc55\n",
      "Resource group:  aml-quickstarts-147168\n"
     ]
    }
   ],
   "source": [
    "print('Workspace name:  ' + ws.name, \n",
    "      'Azure region:    ' + ws.location, \n",
    "      'Subscription id: ' + ws.subscription_id, \n",
    "      'Resource group:  ' + ws.resource_group, sep = '\\n')"
   ]
  },
  {
   "cell_type": "markdown",
   "metadata": {},
   "source": [
    "### Azure ML experiment"
   ]
  },
  {
   "cell_type": "code",
   "execution_count": 4,
   "metadata": {},
   "outputs": [
    {
     "data": {
      "text/html": [
       "<table style=\"width:100%\"><tr><th>Name</th><th>Workspace</th><th>Report Page</th><th>Docs Page</th></tr><tr><td>AR-Capstone-Automl</td><td>quick-starts-ws-147168</td><td><a href=\"https://ml.azure.com/experiments/id/dd7fdef6-922f-45e9-98de-16dc0dd52210?wsid=/subscriptions/48a74bb7-9950-4cc1-9caa-5d50f995cc55/resourcegroups/aml-quickstarts-147168/workspaces/quick-starts-ws-147168&amp;tid=660b3398-b80e-49d2-bc5b-ac1dc93b5254\" target=\"_blank\" rel=\"noopener\">Link to Azure Machine Learning studio</a></td><td><a href=\"https://docs.microsoft.com/en-us/python/api/azureml-core/azureml.core.experiment.Experiment?view=azure-ml-py\" target=\"_blank\" rel=\"noopener\">Link to Documentation</a></td></tr></table>"
      ],
      "text/plain": [
       "Experiment(Name: AR-Capstone-Automl,\n",
       "Workspace: quick-starts-ws-147168)"
      ]
     },
     "execution_count": 4,
     "metadata": {},
     "output_type": "execute_result"
    }
   ],
   "source": [
    "# choose a name for experiment\n",
    "experiment_name = 'AR-Capstone-Automl'\n",
    "project_folder = './automl-project'\n",
    "\n",
    "experiment=Experiment(ws, experiment_name)\n",
    "experiment"
   ]
  },
  {
   "cell_type": "markdown",
   "metadata": {},
   "source": [
    "## Compute cluster"
   ]
  },
  {
   "cell_type": "code",
   "execution_count": 5,
   "metadata": {},
   "outputs": [
    {
     "name": "stdout",
     "output_type": "stream",
     "text": [
      "Creating new compute cluster ...\n",
      "Creating.........\n",
      "SucceededProvisioning operation finished, operation \"Succeeded\"\n",
      "Succeeded\n",
      "AmlCompute wait for completion finished\n",
      "\n",
      "Minimum number of nodes requested have been provisioned\n"
     ]
    }
   ],
   "source": [
    "from azureml.core.compute import AmlCompute\n",
    "from azureml.core.compute import ComputeTarget\n",
    "from azureml.core.compute_target import ComputeTargetException\n",
    "\n",
    "cluster_name = \"ar-compute\"\n",
    "\n",
    "try:\n",
    "    compute_cluster = ComputeTarget(workspace=ws, name = cluster_name)\n",
    "    print('Found existing compute cluster')\n",
    "    \n",
    "except ComputeTargetException:\n",
    "    print('Creating new compute cluster ...')\n",
    "    compute_config = AmlCompute.provisioning_configuration(vm_size='STANDARD_D2_V2', max_nodes=5)\n",
    "    compute_cluster = ComputeTarget.create(ws, cluster_name, compute_config)\n",
    "\n",
    "compute_cluster.wait_for_completion(show_output=True)"
   ]
  },
  {
   "cell_type": "markdown",
   "metadata": {},
   "source": [
    "## Dataset\n",
    "\n",
    "In this markdown cell, give an overview of the dataset you are using. Also mention the task you will be performing.\n",
    "\n",
    "Get data. In the cell below, write code to access the data you will be using in this project. Remember that the dataset needs to be external."
   ]
  },
  {
   "cell_type": "markdown",
   "metadata": {},
   "source": [
    "### Overview"
   ]
  },
  {
   "cell_type": "markdown",
   "metadata": {},
   "source": [
    "The goal of the project is to predict the presence of amphibians species near the water reservoirs based on features obtained from GIS and satellite images.\n",
    "\n",
    "The dataset used for the project is the **Amphibians Data Set** available from Machine Learning Repository at University of California, Irvine.\n",
    "\n",
    "The dataset is multilabel and can be used to predict presence of a number of amphibian species.\n",
    "\n",
    "In this project we will be using the dataset to predict the presence of **Green frogs** (Label 1).\n",
    "\n",
    "The link to the original dataset is: http://archive.ics.uci.edu/ml/datasets/Amphibians"
   ]
  },
  {
   "cell_type": "markdown",
   "metadata": {},
   "source": [
    "### Amphibians Data Set"
   ]
  },
  {
   "cell_type": "code",
   "execution_count": 6,
   "metadata": {},
   "outputs": [
    {
     "name": "stdout",
     "output_type": "stream",
     "text": [
      "Creating dataset ...\n"
     ]
    },
    {
     "data": {
      "text/html": [
       "<div>\n",
       "<style scoped>\n",
       "    .dataframe tbody tr th:only-of-type {\n",
       "        vertical-align: middle;\n",
       "    }\n",
       "\n",
       "    .dataframe tbody tr th {\n",
       "        vertical-align: top;\n",
       "    }\n",
       "\n",
       "    .dataframe thead th {\n",
       "        text-align: right;\n",
       "    }\n",
       "</style>\n",
       "<table border=\"1\" class=\"dataframe\">\n",
       "  <thead>\n",
       "    <tr style=\"text-align: right;\">\n",
       "      <th></th>\n",
       "      <th>SR</th>\n",
       "      <th>NR</th>\n",
       "      <th>TR</th>\n",
       "      <th>VR</th>\n",
       "      <th>SUR1</th>\n",
       "      <th>SUR2</th>\n",
       "      <th>SUR3</th>\n",
       "      <th>UR</th>\n",
       "      <th>FR</th>\n",
       "      <th>OR</th>\n",
       "      <th>RR</th>\n",
       "      <th>BR</th>\n",
       "      <th>MR</th>\n",
       "      <th>CR</th>\n",
       "      <th>Label1</th>\n",
       "    </tr>\n",
       "  </thead>\n",
       "  <tbody>\n",
       "    <tr>\n",
       "      <th>count</th>\n",
       "      <td>189.000000</td>\n",
       "      <td>189.000000</td>\n",
       "      <td>189.000000</td>\n",
       "      <td>189.000000</td>\n",
       "      <td>189.000000</td>\n",
       "      <td>189.000000</td>\n",
       "      <td>189.00000</td>\n",
       "      <td>189.000000</td>\n",
       "      <td>189.000000</td>\n",
       "      <td>189.000000</td>\n",
       "      <td>189.000000</td>\n",
       "      <td>189.000000</td>\n",
       "      <td>189.000000</td>\n",
       "      <td>189.000000</td>\n",
       "      <td>189.000000</td>\n",
       "    </tr>\n",
       "    <tr>\n",
       "      <th>mean</th>\n",
       "      <td>9633.227513</td>\n",
       "      <td>1.566138</td>\n",
       "      <td>4.952381</td>\n",
       "      <td>1.904762</td>\n",
       "      <td>4.232804</td>\n",
       "      <td>5.391534</td>\n",
       "      <td>5.84127</td>\n",
       "      <td>0.841270</td>\n",
       "      <td>0.846561</td>\n",
       "      <td>89.962963</td>\n",
       "      <td>2.333333</td>\n",
       "      <td>2.502646</td>\n",
       "      <td>0.047619</td>\n",
       "      <td>1.015873</td>\n",
       "      <td>0.571429</td>\n",
       "    </tr>\n",
       "    <tr>\n",
       "      <th>std</th>\n",
       "      <td>46256.078309</td>\n",
       "      <td>1.544419</td>\n",
       "      <td>5.590918</td>\n",
       "      <td>1.317407</td>\n",
       "      <td>3.434615</td>\n",
       "      <td>3.515185</td>\n",
       "      <td>3.29348</td>\n",
       "      <td>1.315291</td>\n",
       "      <td>1.349843</td>\n",
       "      <td>19.904926</td>\n",
       "      <td>2.520132</td>\n",
       "      <td>2.640971</td>\n",
       "      <td>0.296894</td>\n",
       "      <td>0.125316</td>\n",
       "      <td>0.496186</td>\n",
       "    </tr>\n",
       "    <tr>\n",
       "      <th>min</th>\n",
       "      <td>30.000000</td>\n",
       "      <td>1.000000</td>\n",
       "      <td>1.000000</td>\n",
       "      <td>0.000000</td>\n",
       "      <td>1.000000</td>\n",
       "      <td>1.000000</td>\n",
       "      <td>1.00000</td>\n",
       "      <td>0.000000</td>\n",
       "      <td>0.000000</td>\n",
       "      <td>25.000000</td>\n",
       "      <td>0.000000</td>\n",
       "      <td>0.000000</td>\n",
       "      <td>0.000000</td>\n",
       "      <td>1.000000</td>\n",
       "      <td>0.000000</td>\n",
       "    </tr>\n",
       "    <tr>\n",
       "      <th>25%</th>\n",
       "      <td>300.000000</td>\n",
       "      <td>1.000000</td>\n",
       "      <td>1.000000</td>\n",
       "      <td>1.000000</td>\n",
       "      <td>2.000000</td>\n",
       "      <td>2.000000</td>\n",
       "      <td>2.00000</td>\n",
       "      <td>0.000000</td>\n",
       "      <td>0.000000</td>\n",
       "      <td>99.000000</td>\n",
       "      <td>1.000000</td>\n",
       "      <td>1.000000</td>\n",
       "      <td>0.000000</td>\n",
       "      <td>1.000000</td>\n",
       "      <td>0.000000</td>\n",
       "    </tr>\n",
       "    <tr>\n",
       "      <th>50%</th>\n",
       "      <td>700.000000</td>\n",
       "      <td>1.000000</td>\n",
       "      <td>1.000000</td>\n",
       "      <td>2.000000</td>\n",
       "      <td>2.000000</td>\n",
       "      <td>6.000000</td>\n",
       "      <td>6.00000</td>\n",
       "      <td>0.000000</td>\n",
       "      <td>0.000000</td>\n",
       "      <td>100.000000</td>\n",
       "      <td>1.000000</td>\n",
       "      <td>1.000000</td>\n",
       "      <td>0.000000</td>\n",
       "      <td>1.000000</td>\n",
       "      <td>1.000000</td>\n",
       "    </tr>\n",
       "    <tr>\n",
       "      <th>75%</th>\n",
       "      <td>3300.000000</td>\n",
       "      <td>1.000000</td>\n",
       "      <td>12.000000</td>\n",
       "      <td>3.000000</td>\n",
       "      <td>7.000000</td>\n",
       "      <td>9.000000</td>\n",
       "      <td>9.00000</td>\n",
       "      <td>3.000000</td>\n",
       "      <td>2.000000</td>\n",
       "      <td>100.000000</td>\n",
       "      <td>5.000000</td>\n",
       "      <td>5.000000</td>\n",
       "      <td>0.000000</td>\n",
       "      <td>1.000000</td>\n",
       "      <td>1.000000</td>\n",
       "    </tr>\n",
       "    <tr>\n",
       "      <th>max</th>\n",
       "      <td>500000.000000</td>\n",
       "      <td>12.000000</td>\n",
       "      <td>15.000000</td>\n",
       "      <td>4.000000</td>\n",
       "      <td>14.000000</td>\n",
       "      <td>11.000000</td>\n",
       "      <td>11.00000</td>\n",
       "      <td>3.000000</td>\n",
       "      <td>4.000000</td>\n",
       "      <td>100.000000</td>\n",
       "      <td>10.000000</td>\n",
       "      <td>10.000000</td>\n",
       "      <td>2.000000</td>\n",
       "      <td>2.000000</td>\n",
       "      <td>1.000000</td>\n",
       "    </tr>\n",
       "  </tbody>\n",
       "</table>\n",
       "</div>"
      ],
      "text/plain": [
       "                  SR          NR          TR          VR        SUR1  \\\n",
       "count     189.000000  189.000000  189.000000  189.000000  189.000000   \n",
       "mean     9633.227513    1.566138    4.952381    1.904762    4.232804   \n",
       "std     46256.078309    1.544419    5.590918    1.317407    3.434615   \n",
       "min        30.000000    1.000000    1.000000    0.000000    1.000000   \n",
       "25%       300.000000    1.000000    1.000000    1.000000    2.000000   \n",
       "50%       700.000000    1.000000    1.000000    2.000000    2.000000   \n",
       "75%      3300.000000    1.000000   12.000000    3.000000    7.000000   \n",
       "max    500000.000000   12.000000   15.000000    4.000000   14.000000   \n",
       "\n",
       "             SUR2       SUR3          UR          FR          OR          RR  \\\n",
       "count  189.000000  189.00000  189.000000  189.000000  189.000000  189.000000   \n",
       "mean     5.391534    5.84127    0.841270    0.846561   89.962963    2.333333   \n",
       "std      3.515185    3.29348    1.315291    1.349843   19.904926    2.520132   \n",
       "min      1.000000    1.00000    0.000000    0.000000   25.000000    0.000000   \n",
       "25%      2.000000    2.00000    0.000000    0.000000   99.000000    1.000000   \n",
       "50%      6.000000    6.00000    0.000000    0.000000  100.000000    1.000000   \n",
       "75%      9.000000    9.00000    3.000000    2.000000  100.000000    5.000000   \n",
       "max     11.000000   11.00000    3.000000    4.000000  100.000000   10.000000   \n",
       "\n",
       "               BR          MR          CR      Label1  \n",
       "count  189.000000  189.000000  189.000000  189.000000  \n",
       "mean     2.502646    0.047619    1.015873    0.571429  \n",
       "std      2.640971    0.296894    0.125316    0.496186  \n",
       "min      0.000000    0.000000    1.000000    0.000000  \n",
       "25%      1.000000    0.000000    1.000000    0.000000  \n",
       "50%      1.000000    0.000000    1.000000    1.000000  \n",
       "75%      5.000000    0.000000    1.000000    1.000000  \n",
       "max     10.000000    2.000000    2.000000    1.000000  "
      ]
     },
     "execution_count": 6,
     "metadata": {},
     "output_type": "execute_result"
    }
   ],
   "source": [
    "from azureml.data.dataset_factory import TabularDatasetFactory\n",
    "\n",
    "# Try to load the dataset from the Workspace. Otherwise, create it from the file\n",
    "found = False\n",
    "key = \"Amphibians Dataset\"\n",
    "description_text = \"Amphibians Dataset for Udacity Capstone project\"\n",
    "\n",
    "if key in ws.datasets.keys(): \n",
    "        print('Found existing dataset')\n",
    "        found = True\n",
    "        dataset = ws.datasets[key] \n",
    "\n",
    "if not found:\n",
    "        # Create Dataset and register it in Workspace\n",
    "        print('Creating dataset ...')\n",
    "        data_loc = \"https://raw.githubusercontent.com/arees88/ML_Azure_P3_Capstone/main/Amphibians_dataset_green_frogs.csv\"\n",
    "        dataset = Dataset.Tabular.from_delimited_files(data_loc)\n",
    "        \n",
    "        # Register Dataset in Workspace\n",
    "        dataset = dataset.register(workspace=ws,\n",
    "                                   name=key,\n",
    "                                   description=description_text)\n",
    "\n",
    "\n",
    "df = dataset.to_pandas_dataframe()\n",
    "df.describe()"
   ]
  },
  {
   "cell_type": "markdown",
   "metadata": {},
   "source": [
    "## AutoML Configuration\n",
    "\n",
    "Explain why you chose the automl settings and cofiguration you used below."
   ]
  },
  {
   "cell_type": "markdown",
   "metadata": {},
   "source": [
    "Setting early termination to True and the timeout to 30 min to limit AutoML duration.\n",
    "Setting the maximum iterations concurrency to 4, as the maximum nodes configured in the compute cluster must be greater than the number of concurrent operations in the experiment, and the compute cluster has 5 nodes configured. \n",
    "I selected accuracy as the primary metric. The AutoML will perform 4 cross validations."
   ]
  },
  {
   "cell_type": "code",
   "execution_count": 7,
   "metadata": {},
   "outputs": [],
   "source": [
    "# automl settings \n",
    "automl_settings = {\n",
    "    \"enable_early_stopping\": True,\n",
    "    \"experiment_timeout_minutes\": 30,\n",
    "    \"max_concurrent_iterations\": 4,\n",
    "    \"featurization\": 'auto',\n",
    "    \"primary_metric\": 'accuracy',\n",
    "    \"verbosity\": logging.INFO,\n",
    "    \"n_cross_validations\": 4\n",
    "}\n",
    "\n",
    "# Automl config \n",
    "automl_config = AutoMLConfig(  \n",
    "                    task = \"classification\",\n",
    "                    compute_target = compute_cluster, \n",
    "                    training_data = dataset,\n",
    "                    label_column_name = \"Label1\",   \n",
    "                    debug_log = \"automl_errors.log\",\n",
    "                    enable_onnx_compatible_models = True,\n",
    "                    **automl_settings  \n",
    ")"
   ]
  },
  {
   "cell_type": "code",
   "execution_count": 8,
   "metadata": {},
   "outputs": [
    {
     "name": "stdout",
     "output_type": "stream",
     "text": [
      "Submitting remote run.\n",
      "No run_configuration provided, running on ar-compute with default configuration\n",
      "Running on remote compute: ar-compute\n"
     ]
    },
    {
     "data": {
      "text/html": [
       "<table style=\"width:100%\"><tr><th>Experiment</th><th>Id</th><th>Type</th><th>Status</th><th>Details Page</th><th>Docs Page</th></tr><tr><td>AR-Capstone-Automl</td><td>AutoML_2886a22c-d991-455c-93ec-194bd8969aaf</td><td>automl</td><td>NotStarted</td><td><a href=\"https://ml.azure.com/runs/AutoML_2886a22c-d991-455c-93ec-194bd8969aaf?wsid=/subscriptions/48a74bb7-9950-4cc1-9caa-5d50f995cc55/resourcegroups/aml-quickstarts-147168/workspaces/quick-starts-ws-147168&amp;tid=660b3398-b80e-49d2-bc5b-ac1dc93b5254\" target=\"_blank\" rel=\"noopener\">Link to Azure Machine Learning studio</a></td><td><a href=\"https://docs.microsoft.com/en-us/python/api/overview/azure/ml/intro?view=azure-ml-py\" target=\"_blank\" rel=\"noopener\">Link to Documentation</a></td></tr></table>"
      ],
      "text/plain": [
       "<IPython.core.display.HTML object>"
      ]
     },
     "metadata": {},
     "output_type": "display_data"
    },
    {
     "name": "stdout",
     "output_type": "stream",
     "text": [
      "\n",
      "Current status: FeaturesGeneration. Generating features for the dataset.\n",
      "Current status: DatasetFeaturization. Beginning to fit featurizers and featurize the dataset.\n",
      "Current status: DatasetCrossValidationSplit. Generating individually featurized CV splits.\n",
      "Current status: ModelSelection. Beginning model selection.\n",
      "\n",
      "****************************************************************************************************\n",
      "DATA GUARDRAILS: \n",
      "\n",
      "TYPE:         Class balancing detection\n",
      "STATUS:       PASSED\n",
      "DESCRIPTION:  Your inputs were analyzed, and all classes are balanced in your training data.\n",
      "              Learn more about imbalanced data: https://aka.ms/AutomatedMLImbalancedData\n",
      "\n",
      "****************************************************************************************************\n",
      "\n",
      "TYPE:         Missing feature values imputation\n",
      "STATUS:       PASSED\n",
      "DESCRIPTION:  No feature missing values were detected in the training data.\n",
      "              Learn more about missing value imputation: https://aka.ms/AutomatedMLFeaturization\n",
      "\n",
      "****************************************************************************************************\n",
      "\n",
      "TYPE:         High cardinality feature detection\n",
      "STATUS:       PASSED\n",
      "DESCRIPTION:  Your inputs were analyzed, and no high cardinality features were detected.\n",
      "              Learn more about high cardinality feature handling: https://aka.ms/AutomatedMLFeaturization\n",
      "\n",
      "****************************************************************************************************\n",
      "\n",
      "****************************************************************************************************\n",
      "ITERATION: The iteration being evaluated.\n",
      "PIPELINE: A summary description of the pipeline being evaluated.\n",
      "DURATION: Time taken for the current iteration.\n",
      "METRIC: The result of computing score on the fitted pipeline.\n",
      "BEST: The best observed score thus far.\n",
      "****************************************************************************************************\n",
      "\n",
      " ITERATION   PIPELINE                                       DURATION      METRIC      BEST\n",
      "         2   MaxAbsScaler RandomForest                      0:00:49       0.6822    0.6822\n",
      "         1   MaxAbsScaler XGBoostClassifier                 0:00:47       0.6400    0.6822\n",
      "         0   MaxAbsScaler LightGBM                          0:00:46       0.6508    0.6822\n",
      "         5   MaxAbsScaler RandomForest                      0:00:49       0.6875    0.6875\n",
      "         7   SparseNormalizer XGBoostClassifier             0:00:51       0.6822    0.6875\n",
      "         3   MaxAbsScaler RandomForest                      0:02:14       0.6717    0.6875\n",
      "         8   MaxAbsScaler LogisticRegression                0:00:45       0.6718    0.6875\n",
      "         9   SparseNormalizer XGBoostClassifier             0:00:45       0.6396    0.6875\n",
      "        10   StandardScalerWrapper RandomForest             0:00:46       0.6927    0.6927\n",
      "        11   MaxAbsScaler RandomForest                      0:00:54       0.6556    0.6927\n",
      "        12   StandardScalerWrapper LightGBM                 0:00:47       0.6664    0.6927\n",
      "        13   MaxAbsScaler LightGBM                          0:00:48       0.6453    0.6927\n",
      "         4   MaxAbsScaler RandomForest                      0:05:36       0.6879    0.6927\n",
      "         6   SparseNormalizer LightGBM                      0:05:21       0.6824    0.6927\n",
      "        15   StandardScalerWrapper XGBoostClassifier        0:00:44       0.6508    0.6927\n",
      "        16   SparseNormalizer ExtremeRandomTrees            0:00:47       0.6400    0.6927\n",
      "        17   StandardScalerWrapper LightGBM                 0:00:47       0.6824    0.6927\n",
      "        18   SparseNormalizer LightGBM                      0:00:45       0.6240    0.6927\n",
      "        14   MaxAbsScaler ExtremeRandomTrees                0:02:11       0.6980    0.6980\n",
      "        19   SparseNormalizer XGBoostClassifier             0:00:43       0.6610    0.6980\n",
      "        20   SparseNormalizer XGBoostClassifier             0:00:47       0.6874    0.6980\n",
      "        21   MaxAbsScaler LightGBM                          0:00:47       0.6930    0.6980\n",
      "        22   StandardScalerWrapper LogisticRegression       0:00:44       0.6772    0.6980\n",
      "        23   MaxAbsScaler LightGBM                          0:00:47       0.6664    0.6980\n",
      "        24   TruncatedSVDWrapper XGBoostClassifier          0:00:42       0.6346    0.6980\n",
      "        25   TruncatedSVDWrapper ExtremeRandomTrees         0:00:44       0.5716    0.6980\n",
      "        26   StandardScalerWrapper XGBoostClassifier        0:00:47       0.6877    0.6980\n",
      "        27   SparseNormalizer XGBoostClassifier             0:00:47       0.6555    0.6980\n",
      "        28   StandardScalerWrapper XGBoostClassifier        0:00:42       0.6449    0.6980\n",
      "        29   StandardScalerWrapper LightGBM                 0:00:47       0.6666    0.6980\n",
      "        30   MaxAbsScaler ExtremeRandomTrees                0:00:51       0.5344    0.6980\n",
      "        31   StandardScalerWrapper ExtremeRandomTrees       0:00:51       0.6825    0.6980\n",
      "        32   StandardScalerWrapper ExtremeRandomTrees       0:00:51       0.6980    0.6980\n",
      "        33   StandardScalerWrapper XGBoostClassifier        0:00:50       0.6664    0.6980\n",
      "        34   SparseNormalizer XGBoostClassifier             0:00:47       0.6771    0.6980\n",
      "        36   StandardScalerWrapper LightGBM                 0:00:45       0.6558    0.6980\n",
      "        35   StandardScalerWrapper ExtremeRandomTrees       0:00:54       0.5716    0.6980\n",
      "        37   StandardScalerWrapper LightGBM                 0:00:50       0.6821    0.6980\n",
      "        38   StandardScalerWrapper LogisticRegression       0:00:45       0.6823    0.6980\n",
      "        39   StandardScalerWrapper LogisticRegression       0:00:47       0.6771    0.6980\n",
      "        40   MaxAbsScaler ExtremeRandomTrees                0:00:45       0.6822    0.6980\n",
      "        41   StandardScalerWrapper LogisticRegression       0:00:48       0.7137    0.7137\n",
      "        42   MaxAbsScaler LightGBM                          0:00:50       0.6612    0.7137\n",
      "        43   MaxAbsScaler LightGBM                          0:00:50       0.6875    0.7137\n",
      "        44   MaxAbsScaler LightGBM                          0:00:47       0.6609    0.7137\n",
      "        45   TruncatedSVDWrapper LogisticRegression         0:00:50       0.5716    0.7137\n",
      "        46   MaxAbsScaler ExtremeRandomTrees                0:00:47       0.6667    0.7137\n",
      "        47   SparseNormalizer LightGBM                      0:00:47       0.7037    0.7137\n",
      "        48   MaxAbsScaler RandomForest                      0:00:46       0.6929    0.7137\n",
      "        50   TruncatedSVDWrapper LogisticRegression         0:00:41       0.6610    0.7137\n",
      "        49   StandardScalerWrapper XGBoostClassifier        0:00:57       0.6558    0.7137\n",
      "        51   StandardScalerWrapper ExtremeRandomTrees       0:00:50       0.7089    0.7137\n",
      "        52   StandardScalerWrapper XGBoostClassifier        0:00:44       0.6402    0.7137\n",
      "        53   MaxAbsScaler RandomForest                      0:00:53       0.6771    0.7137\n",
      "        54   StandardScalerWrapper LightGBM                 0:00:48       0.6398    0.7137\n",
      "        55   StandardScalerWrapper LogisticRegression       0:00:43       0.5716    0.7137\n",
      "        56   StandardScalerWrapper LightGBM                 0:00:43       0.6772    0.7137\n",
      "        57                                                  0:00:07          nan    0.7137\n",
      "        58    VotingEnsemble                                0:01:15       0.7458    0.7458\n"
     ]
    }
   ],
   "source": [
    "# Submit your experiment\n",
    "remote_run = experiment.submit(automl_config, show_output = True)"
   ]
  },
  {
   "cell_type": "markdown",
   "metadata": {},
   "source": [
    "## Run Details\n",
    "\n",
    "OPTIONAL: Write about the different models trained and their performance. Why do you think some models did better than others?\n",
    "\n",
    "In the cell below, use the `RunDetails` widget to show the different experiments."
   ]
  },
  {
   "cell_type": "code",
   "execution_count": 9,
   "metadata": {},
   "outputs": [
    {
     "data": {
      "application/vnd.jupyter.widget-view+json": {
       "model_id": "1af3274a38be406ebef8d6cbe6791bed",
       "version_major": 2,
       "version_minor": 0
      },
      "text/plain": [
       "_AutoMLWidget(widget_settings={'childWidgetDisplay': 'popup', 'send_telemetry': False, 'log_level': 'INFO', 's…"
      ]
     },
     "metadata": {},
     "output_type": "display_data"
    },
    {
     "data": {
      "application/aml.mini.widget.v1": "{\"status\": \"Completed\", \"workbench_run_details_uri\": \"https://ml.azure.com/runs/AutoML_2886a22c-d991-455c-93ec-194bd8969aaf?wsid=/subscriptions/48a74bb7-9950-4cc1-9caa-5d50f995cc55/resourcegroups/aml-quickstarts-147168/workspaces/quick-starts-ws-147168&tid=660b3398-b80e-49d2-bc5b-ac1dc93b5254\", \"run_id\": \"AutoML_2886a22c-d991-455c-93ec-194bd8969aaf\", \"run_properties\": {\"run_id\": \"AutoML_2886a22c-d991-455c-93ec-194bd8969aaf\", \"created_utc\": \"2021-06-14T17:39:17.593346Z\", \"properties\": {\"num_iterations\": \"1000\", \"training_type\": \"TrainFull\", \"acquisition_function\": \"EI\", \"primary_metric\": \"accuracy\", \"train_split\": \"0\", \"acquisition_parameter\": \"0\", \"num_cross_validation\": \"4\", \"target\": \"ar-compute\", \"AMLSettingsJsonString\": \"{\\\"path\\\":null,\\\"name\\\":\\\"AR-Capstone-Automl\\\",\\\"subscription_id\\\":\\\"48a74bb7-9950-4cc1-9caa-5d50f995cc55\\\",\\\"resource_group\\\":\\\"aml-quickstarts-147168\\\",\\\"workspace_name\\\":\\\"quick-starts-ws-147168\\\",\\\"region\\\":\\\"southcentralus\\\",\\\"compute_target\\\":\\\"ar-compute\\\",\\\"spark_service\\\":null,\\\"azure_service\\\":\\\"remote\\\",\\\"many_models\\\":false,\\\"pipeline_fetch_max_batch_size\\\":1,\\\"enable_batch_run\\\":false,\\\"enable_run_restructure\\\":false,\\\"start_auxiliary_runs_before_parent_complete\\\":false,\\\"enable_code_generation\\\":false,\\\"iterations\\\":1000,\\\"primary_metric\\\":\\\"accuracy\\\",\\\"task_type\\\":\\\"classification\\\",\\\"data_script\\\":null,\\\"test_size\\\":0.0,\\\"validation_size\\\":0.0,\\\"n_cross_validations\\\":4,\\\"y_min\\\":null,\\\"y_max\\\":null,\\\"num_classes\\\":null,\\\"featurization\\\":\\\"auto\\\",\\\"_ignore_package_version_incompatibilities\\\":false,\\\"is_timeseries\\\":false,\\\"max_cores_per_iteration\\\":1,\\\"max_concurrent_iterations\\\":4,\\\"iteration_timeout_minutes\\\":null,\\\"mem_in_mb\\\":null,\\\"enforce_time_on_windows\\\":false,\\\"experiment_timeout_minutes\\\":30,\\\"experiment_exit_score\\\":null,\\\"whitelist_models\\\":null,\\\"blacklist_algos\\\":[\\\"TensorFlowLinearClassifier\\\",\\\"TensorFlowDNN\\\"],\\\"supported_models\\\":[\\\"LinearSVM\\\",\\\"GradientBoosting\\\",\\\"BernoulliNaiveBayes\\\",\\\"ExtremeRandomTrees\\\",\\\"TensorFlowLinearClassifier\\\",\\\"XGBoostClassifier\\\",\\\"KNN\\\",\\\"MultinomialNaiveBayes\\\",\\\"LightGBM\\\",\\\"LogisticRegression\\\",\\\"RandomForest\\\",\\\"TensorFlowDNN\\\",\\\"SGD\\\",\\\"SVM\\\",\\\"AveragedPerceptronClassifier\\\",\\\"DecisionTree\\\"],\\\"private_models\\\":[],\\\"auto_blacklist\\\":true,\\\"blacklist_samples_reached\\\":false,\\\"exclude_nan_labels\\\":true,\\\"verbosity\\\":20,\\\"_debug_log\\\":\\\"azureml_automl.log\\\",\\\"show_warnings\\\":false,\\\"model_explainability\\\":true,\\\"service_url\\\":null,\\\"sdk_url\\\":null,\\\"sdk_packages\\\":null,\\\"enable_onnx_compatible_models\\\":true,\\\"enable_split_onnx_featurizer_estimator_models\\\":false,\\\"vm_type\\\":\\\"STANDARD_D2_V2\\\",\\\"telemetry_verbosity\\\":20,\\\"send_telemetry\\\":true,\\\"enable_dnn\\\":false,\\\"scenario\\\":\\\"SDK-1.13.0\\\",\\\"environment_label\\\":null,\\\"save_mlflow\\\":false,\\\"force_text_dnn\\\":false,\\\"enable_feature_sweeping\\\":false,\\\"enable_early_stopping\\\":true,\\\"early_stopping_n_iters\\\":10,\\\"metrics\\\":null,\\\"enable_metric_confidence\\\":false,\\\"enable_ensembling\\\":true,\\\"enable_stack_ensembling\\\":false,\\\"ensemble_iterations\\\":15,\\\"enable_tf\\\":false,\\\"enable_subsampling\\\":null,\\\"subsample_seed\\\":null,\\\"enable_nimbusml\\\":false,\\\"enable_streaming\\\":false,\\\"force_streaming\\\":false,\\\"track_child_runs\\\":true,\\\"allowed_private_models\\\":[],\\\"label_column_name\\\":\\\"Label1\\\",\\\"weight_column_name\\\":null,\\\"cv_split_column_names\\\":null,\\\"enable_local_managed\\\":false,\\\"_local_managed_run_id\\\":null,\\\"cost_mode\\\":1,\\\"lag_length\\\":0,\\\"metric_operation\\\":\\\"maximize\\\",\\\"preprocess\\\":true}\", \"DataPrepJsonString\": \"{\\\\\\\"training_data\\\\\\\": {\\\\\\\"datasetId\\\\\\\": \\\\\\\"f0411195-08dc-48b6-9b2a-5071d27264fb\\\\\\\"}, \\\\\\\"datasets\\\\\\\": 0}\", \"EnableSubsampling\": null, \"runTemplate\": \"AutoML\", \"azureml.runsource\": \"automl\", \"display_task_type\": \"classification\", \"dependencies_versions\": \"{\\\"azureml-widgets\\\": \\\"1.28.0\\\", \\\"azureml-train\\\": \\\"1.28.0\\\", \\\"azureml-train-restclients-hyperdrive\\\": \\\"1.28.0\\\", \\\"azureml-train-core\\\": \\\"1.28.0\\\", \\\"azureml-train-automl\\\": \\\"1.28.0\\\", \\\"azureml-train-automl-runtime\\\": \\\"1.28.0\\\", \\\"azureml-train-automl-client\\\": \\\"1.28.0\\\", \\\"azureml-tensorboard\\\": \\\"1.28.0\\\", \\\"azureml-telemetry\\\": \\\"1.28.0\\\", \\\"azureml-sdk\\\": \\\"1.28.0\\\", \\\"azureml-samples\\\": \\\"0+unknown\\\", \\\"azureml-pipeline\\\": \\\"1.28.0\\\", \\\"azureml-pipeline-steps\\\": \\\"1.28.0\\\", \\\"azureml-pipeline-core\\\": \\\"1.28.0\\\", \\\"azureml-opendatasets\\\": \\\"1.28.0\\\", \\\"azureml-model-management-sdk\\\": \\\"1.0.1b6.post1\\\", \\\"azureml-mlflow\\\": \\\"1.28.0\\\", \\\"azureml-interpret\\\": \\\"1.28.0\\\", \\\"azureml-explain-model\\\": \\\"1.28.0\\\", \\\"azureml-defaults\\\": \\\"1.28.0\\\", \\\"azureml-dataset-runtime\\\": \\\"1.28.0\\\", \\\"azureml-dataprep\\\": \\\"2.15.0\\\", \\\"azureml-dataprep-rslex\\\": \\\"1.13.0\\\", \\\"azureml-dataprep-native\\\": \\\"33.0.0\\\", \\\"azureml-datadrift\\\": \\\"1.28.0\\\", \\\"azureml-core\\\": \\\"1.28.0\\\", \\\"azureml-contrib-services\\\": \\\"1.28.0\\\", \\\"azureml-contrib-server\\\": \\\"1.28.0\\\", \\\"azureml-contrib-reinforcementlearning\\\": \\\"1.28.0\\\", \\\"azureml-contrib-pipeline-steps\\\": \\\"1.28.0\\\", \\\"azureml-contrib-notebook\\\": \\\"1.28.0\\\", \\\"azureml-contrib-gbdt\\\": \\\"1.28.0\\\", \\\"azureml-contrib-fairness\\\": \\\"1.28.0\\\", \\\"azureml-contrib-dataset\\\": \\\"1.28.0\\\", \\\"azureml-cli-common\\\": \\\"1.28.0\\\", \\\"azureml-automl-runtime\\\": \\\"1.28.0.post2\\\", \\\"azureml-automl-dnn-nlp\\\": \\\"1.28.0\\\", \\\"azureml-automl-core\\\": \\\"1.28.0\\\", \\\"azureml-accel-models\\\": \\\"1.28.0\\\"}\", \"_aml_system_scenario_identification\": \"Remote.Parent\", \"ClientType\": \"SDK\", \"environment_cpu_name\": \"AzureML-AutoML\", \"environment_cpu_label\": \"prod\", \"environment_gpu_name\": \"AzureML-AutoML-GPU\", \"environment_gpu_label\": \"prod\", \"root_attribution\": \"automl\", \"attribution\": \"AutoML\", \"Orchestrator\": \"AutoML\", \"CancelUri\": \"https://southcentralus.api.azureml.ms/jasmine/v1.0/subscriptions/48a74bb7-9950-4cc1-9caa-5d50f995cc55/resourceGroups/aml-quickstarts-147168/providers/Microsoft.MachineLearningServices/workspaces/quick-starts-ws-147168/experimentids/dd7fdef6-922f-45e9-98de-16dc0dd52210/cancel/AutoML_2886a22c-d991-455c-93ec-194bd8969aaf\", \"ClientSdkVersion\": \"1.29.0\", \"snapshotId\": \"00000000-0000-0000-0000-000000000000\", \"SetupRunId\": \"AutoML_2886a22c-d991-455c-93ec-194bd8969aaf_setup\", \"SetupRunContainerId\": \"dcid.AutoML_2886a22c-d991-455c-93ec-194bd8969aaf_setup\", \"FeaturizationRunJsonPath\": \"featurizer_container.json\", \"FeaturizationRunId\": \"AutoML_2886a22c-d991-455c-93ec-194bd8969aaf_featurize\", \"ProblemInfoJsonString\": \"{\\\"dataset_num_categorical\\\": 0, \\\"is_sparse\\\": true, \\\"subsampling\\\": false, \\\"has_extra_col\\\": true, \\\"dataset_classes\\\": 2, \\\"dataset_features\\\": 68, \\\"dataset_samples\\\": 189, \\\"single_frequency_class_detected\\\": false}\", \"ModelExplainRunId\": \"AutoML_2886a22c-d991-455c-93ec-194bd8969aaf_ModelExplain\"}, \"tags\": {\"model_explain_run\": \"best_run\", \"_aml_system_azureml.automlComponent\": \"AutoML\", \"pipeline_id\": \"\", \"score\": \"\", \"predicted_cost\": \"\", \"fit_time\": \"\", \"training_percent\": \"\", \"iteration\": \"\", \"run_preprocessor\": \"\", \"run_algorithm\": \"\", \"dynamic_whitelisting_iterations\": \"<25>;<30>;<35>;<40>;<45>;<50>;<55>;\", \"automl_best_child_run_id\": \"AutoML_2886a22c-d991-455c-93ec-194bd8969aaf_58\", \"model_explain_best_run_child_id\": \"AutoML_2886a22c-d991-455c-93ec-194bd8969aaf_58\"}, \"end_time_utc\": \"2021-06-14T18:08:09.529527Z\", \"status\": \"Completed\", \"log_files\": {}, \"log_groups\": [], \"run_duration\": \"0:28:51\", \"run_number\": \"1\", \"run_queued_details\": {\"status\": \"Completed\", \"details\": null}}, \"child_runs\": [{\"run_id\": \"AutoML_2886a22c-d991-455c-93ec-194bd8969aaf_0\", \"run_number\": 5, \"metric\": null, \"status\": \"Completed\", \"run_type\": \"azureml.scriptrun\", \"training_percent\": \"100\", \"start_time\": \"2021-06-14T17:49:22.070958Z\", \"end_time\": \"2021-06-14T17:50:07.734861Z\", \"created_time\": \"2021-06-14T17:46:57.994926Z\", \"created_time_dt\": \"2021-06-14T17:46:57.994926Z\", \"duration\": \"0:03:09\", \"iteration\": \"0\", \"goal\": \"accuracy_max\", \"run_name\": \"MaxAbsScaler, LightGBM\", \"run_properties\": \"copy=True\", \"primary_metric\": 0.65082004, \"best_metric\": 0.65082004}, {\"run_id\": \"AutoML_2886a22c-d991-455c-93ec-194bd8969aaf_1\", \"run_number\": 6, \"metric\": null, \"status\": \"Completed\", \"run_type\": \"azureml.scriptrun\", \"training_percent\": \"100\", \"start_time\": \"2021-06-14T17:48:17.946596Z\", \"end_time\": \"2021-06-14T17:49:04.793681Z\", \"created_time\": \"2021-06-14T17:46:58.084886Z\", \"created_time_dt\": \"2021-06-14T17:46:58.084886Z\", \"duration\": \"0:02:06\", \"iteration\": \"1\", \"goal\": \"accuracy_max\", \"run_name\": \"MaxAbsScaler, XGBoostClassifier\", \"run_properties\": \"copy=True\", \"primary_metric\": 0.63996011, \"best_metric\": 0.65082004}, {\"run_id\": \"AutoML_2886a22c-d991-455c-93ec-194bd8969aaf_2\", \"run_number\": 7, \"metric\": null, \"status\": \"Completed\", \"run_type\": \"azureml.scriptrun\", \"training_percent\": \"100\", \"start_time\": \"2021-06-14T17:47:12.895299Z\", \"end_time\": \"2021-06-14T17:48:02.222611Z\", \"created_time\": \"2021-06-14T17:46:58.09732Z\", \"created_time_dt\": \"2021-06-14T17:46:58.09732Z\", \"duration\": \"0:01:04\", \"iteration\": \"2\", \"goal\": \"accuracy_max\", \"run_name\": \"MaxAbsScaler, RandomForest\", \"run_properties\": \"copy=True\", \"primary_metric\": 0.68218085, \"best_metric\": 0.68218085}, {\"run_id\": \"AutoML_2886a22c-d991-455c-93ec-194bd8969aaf_3\", \"run_number\": 8, \"metric\": null, \"status\": \"Completed\", \"run_type\": \"azureml.scriptrun\", \"training_percent\": \"100\", \"start_time\": \"2021-06-14T17:50:21.313794Z\", \"end_time\": \"2021-06-14T17:52:35.550924Z\", \"created_time\": \"2021-06-14T17:46:58.09619Z\", \"created_time_dt\": \"2021-06-14T17:46:58.09619Z\", \"duration\": \"0:05:37\", \"iteration\": \"3\", \"goal\": \"accuracy_max\", \"run_name\": \"MaxAbsScaler, RandomForest\", \"run_properties\": \"copy=True\", \"primary_metric\": 0.67165337, \"best_metric\": 0.68218085}, {\"run_id\": \"AutoML_2886a22c-d991-455c-93ec-194bd8969aaf_4\", \"run_number\": 9, \"metric\": null, \"status\": \"Completed\", \"run_type\": \"azureml.scriptrun\", \"training_percent\": \"100\", \"start_time\": \"2021-06-14T17:50:20.677288Z\", \"end_time\": \"2021-06-14T17:55:56.588632Z\", \"created_time\": \"2021-06-14T17:48:05.737491Z\", \"created_time_dt\": \"2021-06-14T17:48:05.737491Z\", \"duration\": \"0:07:50\", \"iteration\": \"4\", \"goal\": \"accuracy_max\", \"run_name\": \"MaxAbsScaler, RandomForest\", \"run_properties\": \"copy=True\", \"primary_metric\": 0.68794326, \"best_metric\": 0.68794326}, {\"run_id\": \"AutoML_2886a22c-d991-455c-93ec-194bd8969aaf_5\", \"run_number\": 10, \"metric\": null, \"status\": \"Completed\", \"run_type\": \"azureml.scriptrun\", \"training_percent\": \"100\", \"start_time\": \"2021-06-14T17:50:22.548542Z\", \"end_time\": \"2021-06-14T17:51:11.83484Z\", \"created_time\": \"2021-06-14T17:49:08.843518Z\", \"created_time_dt\": \"2021-06-14T17:49:08.843518Z\", \"duration\": \"0:02:02\", \"iteration\": \"5\", \"goal\": \"accuracy_max\", \"run_name\": \"MaxAbsScaler, RandomForest\", \"run_properties\": \"copy=True\", \"primary_metric\": 0.6875, \"best_metric\": 0.68794326}, {\"run_id\": \"AutoML_2886a22c-d991-455c-93ec-194bd8969aaf_6\", \"run_number\": 11, \"metric\": null, \"status\": \"Completed\", \"run_type\": \"azureml.scriptrun\", \"training_percent\": \"100\", \"start_time\": \"2021-06-14T17:50:34.929772Z\", \"end_time\": \"2021-06-14T17:55:56.113914Z\", \"created_time\": \"2021-06-14T17:50:10.982268Z\", \"created_time_dt\": \"2021-06-14T17:50:10.982268Z\", \"duration\": \"0:05:45\", \"iteration\": \"6\", \"goal\": \"accuracy_max\", \"run_name\": \"SparseNormalizer, LightGBM\", \"run_properties\": \"copy=True, norm='max'\", \"primary_metric\": 0.68240248, \"best_metric\": 0.68794326}, {\"run_id\": \"AutoML_2886a22c-d991-455c-93ec-194bd8969aaf_7\", \"run_number\": 12, \"metric\": null, \"status\": \"Completed\", \"run_type\": \"azureml.scriptrun\", \"training_percent\": \"100\", \"start_time\": \"2021-06-14T17:51:24.88149Z\", \"end_time\": \"2021-06-14T17:52:15.556725Z\", \"created_time\": \"2021-06-14T17:51:14.29134Z\", \"created_time_dt\": \"2021-06-14T17:51:14.29134Z\", \"duration\": \"0:01:01\", \"iteration\": \"7\", \"goal\": \"accuracy_max\", \"run_name\": \"SparseNormalizer, XGBoostClassifier\", \"run_properties\": \"copy=True, norm='l2'\", \"primary_metric\": 0.68218085, \"best_metric\": 0.68794326}, {\"run_id\": \"AutoML_2886a22c-d991-455c-93ec-194bd8969aaf_8\", \"run_number\": 13, \"metric\": null, \"status\": \"Completed\", \"run_type\": \"azureml.scriptrun\", \"training_percent\": \"100\", \"start_time\": \"2021-06-14T17:52:31.494071Z\", \"end_time\": \"2021-06-14T17:53:16.991326Z\", \"created_time\": \"2021-06-14T17:52:18.33604Z\", \"created_time_dt\": \"2021-06-14T17:52:18.33604Z\", \"duration\": \"0:00:58\", \"iteration\": \"8\", \"goal\": \"accuracy_max\", \"run_name\": \"MaxAbsScaler, LogisticRegression\", \"run_properties\": \"copy=True\", \"primary_metric\": 0.67176418, \"best_metric\": 0.68794326}, {\"run_id\": \"AutoML_2886a22c-d991-455c-93ec-194bd8969aaf_9\", \"run_number\": 14, \"metric\": null, \"status\": \"Completed\", \"run_type\": \"azureml.scriptrun\", \"training_percent\": \"100\", \"start_time\": \"2021-06-14T17:52:49.856295Z\", \"end_time\": \"2021-06-14T17:53:35.335561Z\", \"created_time\": \"2021-06-14T17:52:37.84495Z\", \"created_time_dt\": \"2021-06-14T17:52:37.84495Z\", \"duration\": \"0:00:57\", \"iteration\": \"9\", \"goal\": \"accuracy_max\", \"run_name\": \"SparseNormalizer, XGBoostClassifier\", \"run_properties\": \"copy=True, norm='max'\", \"primary_metric\": 0.63962766, \"best_metric\": 0.68794326}, {\"run_id\": \"AutoML_2886a22c-d991-455c-93ec-194bd8969aaf_10\", \"run_number\": 15, \"metric\": null, \"status\": \"Completed\", \"run_type\": \"azureml.scriptrun\", \"training_percent\": \"100\", \"start_time\": \"2021-06-14T17:53:33.66519Z\", \"end_time\": \"2021-06-14T17:54:19.388673Z\", \"created_time\": \"2021-06-14T17:53:19.737662Z\", \"created_time_dt\": \"2021-06-14T17:53:19.737662Z\", \"duration\": \"0:00:59\", \"iteration\": \"10\", \"goal\": \"accuracy_max\", \"run_name\": \"StandardScalerWrapper, RandomForest\", \"run_properties\": \"\\n    copy=True,\\n    with_mean=False,\\n    with_std=True\\n\", \"primary_metric\": 0.69270833, \"best_metric\": 0.69270833}, {\"run_id\": \"AutoML_2886a22c-d991-455c-93ec-194bd8969aaf_11\", \"run_number\": 16, \"metric\": null, \"status\": \"Completed\", \"run_type\": \"azureml.scriptrun\", \"training_percent\": \"100\", \"start_time\": \"2021-06-14T17:53:49.998278Z\", \"end_time\": \"2021-06-14T17:54:44.324547Z\", \"created_time\": \"2021-06-14T17:53:37.502741Z\", \"created_time_dt\": \"2021-06-14T17:53:37.502741Z\", \"duration\": \"0:01:06\", \"iteration\": \"11\", \"goal\": \"accuracy_max\", \"run_name\": \"MaxAbsScaler, RandomForest\", \"run_properties\": \"copy=True\", \"primary_metric\": 0.65558511, \"best_metric\": 0.69270833}, {\"run_id\": \"AutoML_2886a22c-d991-455c-93ec-194bd8969aaf_12\", \"run_number\": 17, \"metric\": null, \"status\": \"Completed\", \"run_type\": \"azureml.scriptrun\", \"training_percent\": \"100\", \"start_time\": \"2021-06-14T17:54:35.770633Z\", \"end_time\": \"2021-06-14T17:55:22.941107Z\", \"created_time\": \"2021-06-14T17:54:21.383138Z\", \"created_time_dt\": \"2021-06-14T17:54:21.383138Z\", \"duration\": \"0:01:01\", \"iteration\": \"12\", \"goal\": \"accuracy_max\", \"run_name\": \"StandardScalerWrapper, LightGBM\", \"run_properties\": \"\\n    copy=True,\\n    with_mean=False,\\n    with_std=True\\n\", \"primary_metric\": 0.66644504, \"best_metric\": 0.69270833}, {\"run_id\": \"AutoML_2886a22c-d991-455c-93ec-194bd8969aaf_13\", \"run_number\": 18, \"metric\": null, \"status\": \"Completed\", \"run_type\": \"azureml.scriptrun\", \"training_percent\": \"100\", \"start_time\": \"2021-06-14T17:54:59.145215Z\", \"end_time\": \"2021-06-14T17:55:47.548985Z\", \"created_time\": \"2021-06-14T17:54:46.989366Z\", \"created_time_dt\": \"2021-06-14T17:54:46.989366Z\", \"duration\": \"0:01:00\", \"iteration\": \"13\", \"goal\": \"accuracy_max\", \"run_name\": \"MaxAbsScaler, LightGBM\", \"run_properties\": \"copy=True\", \"primary_metric\": 0.64527926, \"best_metric\": 0.69270833}, {\"run_id\": \"AutoML_2886a22c-d991-455c-93ec-194bd8969aaf_14\", \"run_number\": 19, \"metric\": null, \"status\": \"Completed\", \"run_type\": \"azureml.scriptrun\", \"training_percent\": \"100\", \"start_time\": \"2021-06-14T17:55:37.222377Z\", \"end_time\": \"2021-06-14T17:57:48.174653Z\", \"created_time\": \"2021-06-14T17:55:25.068134Z\", \"created_time_dt\": \"2021-06-14T17:55:25.068134Z\", \"duration\": \"0:02:23\", \"iteration\": \"14\", \"goal\": \"accuracy_max\", \"run_name\": \"MaxAbsScaler, ExtremeRandomTrees\", \"run_properties\": \"copy=True\", \"primary_metric\": 0.69802748, \"best_metric\": 0.69802748}, {\"run_id\": \"AutoML_2886a22c-d991-455c-93ec-194bd8969aaf_15\", \"run_number\": 20, \"metric\": null, \"status\": \"Completed\", \"run_type\": \"azureml.scriptrun\", \"training_percent\": \"100\", \"start_time\": \"2021-06-14T17:55:59.229117Z\", \"end_time\": \"2021-06-14T17:56:43.309629Z\", \"created_time\": \"2021-06-14T17:55:50.662307Z\", \"created_time_dt\": \"2021-06-14T17:55:50.662307Z\", \"duration\": \"0:00:52\", \"iteration\": \"15\", \"goal\": \"accuracy_max\", \"run_name\": \"StandardScalerWrapper, XGBoostClassifier\", \"run_properties\": \"\\n    copy=True,\\n    with_mean=False,\\n    with_std=False\\n\", \"primary_metric\": 0.65082004, \"best_metric\": 0.69802748}, {\"run_id\": \"AutoML_2886a22c-d991-455c-93ec-194bd8969aaf_16\", \"run_number\": 21, \"metric\": null, \"status\": \"Completed\", \"run_type\": \"azureml.scriptrun\", \"training_percent\": \"100\", \"start_time\": \"2021-06-14T17:56:05.832853Z\", \"end_time\": \"2021-06-14T17:56:52.773821Z\", \"created_time\": \"2021-06-14T17:55:58.097707Z\", \"created_time_dt\": \"2021-06-14T17:55:58.097707Z\", \"duration\": \"0:00:54\", \"iteration\": \"16\", \"goal\": \"accuracy_max\", \"run_name\": \"SparseNormalizer, ExtremeRandomTrees\", \"run_properties\": \"copy=True, norm='l2'\", \"primary_metric\": 0.63996011, \"best_metric\": 0.69802748}, {\"run_id\": \"AutoML_2886a22c-d991-455c-93ec-194bd8969aaf_17\", \"run_number\": 22, \"metric\": null, \"status\": \"Completed\", \"run_type\": \"azureml.scriptrun\", \"training_percent\": \"100\", \"start_time\": \"2021-06-14T17:56:09.421802Z\", \"end_time\": \"2021-06-14T17:56:56.357679Z\", \"created_time\": \"2021-06-14T17:56:01.354185Z\", \"created_time_dt\": \"2021-06-14T17:56:01.354185Z\", \"duration\": \"0:00:55\", \"iteration\": \"17\", \"goal\": \"accuracy_max\", \"run_name\": \"StandardScalerWrapper, LightGBM\", \"run_properties\": \"\\n    copy=True,\\n    with_mean=False,\\n    with_std=False\\n\", \"primary_metric\": 0.68240248, \"best_metric\": 0.69802748}, {\"run_id\": \"AutoML_2886a22c-d991-455c-93ec-194bd8969aaf_18\", \"run_number\": 23, \"metric\": null, \"status\": \"Completed\", \"run_type\": \"azureml.scriptrun\", \"training_percent\": \"100\", \"start_time\": \"2021-06-14T17:56:52.838121Z\", \"end_time\": \"2021-06-14T17:57:37.589785Z\", \"created_time\": \"2021-06-14T17:56:45.2032Z\", \"created_time_dt\": \"2021-06-14T17:56:45.2032Z\", \"duration\": \"0:00:52\", \"iteration\": \"18\", \"goal\": \"accuracy_max\", \"run_name\": \"SparseNormalizer, LightGBM\", \"run_properties\": \"copy=True, norm='l1'\", \"primary_metric\": 0.62400266, \"best_metric\": 0.69802748}, {\"run_id\": \"AutoML_2886a22c-d991-455c-93ec-194bd8969aaf_19\", \"run_number\": 24, \"metric\": null, \"status\": \"Completed\", \"run_type\": \"azureml.scriptrun\", \"training_percent\": \"100\", \"start_time\": \"2021-06-14T17:57:03.821099Z\", \"end_time\": \"2021-06-14T17:57:46.79632Z\", \"created_time\": \"2021-06-14T17:56:54.828788Z\", \"created_time_dt\": \"2021-06-14T17:56:54.828788Z\", \"duration\": \"0:00:51\", \"iteration\": \"19\", \"goal\": \"accuracy_max\", \"run_name\": \"SparseNormalizer, XGBoostClassifier\", \"run_properties\": \"copy=True, norm='l1'\", \"primary_metric\": 0.66101507, \"best_metric\": 0.69802748}, {\"run_id\": \"AutoML_2886a22c-d991-455c-93ec-194bd8969aaf_20\", \"run_number\": 25, \"metric\": null, \"status\": \"Completed\", \"run_type\": \"azureml.scriptrun\", \"training_percent\": \"100\", \"start_time\": \"2021-06-14T17:57:06.280857Z\", \"end_time\": \"2021-06-14T17:57:53.153031Z\", \"created_time\": \"2021-06-14T17:56:58.280008Z\", \"created_time_dt\": \"2021-06-14T17:56:58.280008Z\", \"duration\": \"0:00:54\", \"iteration\": \"20\", \"goal\": \"accuracy_max\", \"run_name\": \"SparseNormalizer, XGBoostClassifier\", \"run_properties\": \"copy=True, norm='l1'\", \"primary_metric\": 0.68738918, \"best_metric\": 0.69802748}, {\"run_id\": \"AutoML_2886a22c-d991-455c-93ec-194bd8969aaf_21\", \"run_number\": 26, \"metric\": null, \"status\": \"Completed\", \"run_type\": \"azureml.scriptrun\", \"training_percent\": \"100\", \"start_time\": \"2021-06-14T17:57:47.83628Z\", \"end_time\": \"2021-06-14T17:58:34.971562Z\", \"created_time\": \"2021-06-14T17:57:39.580002Z\", \"created_time_dt\": \"2021-06-14T17:57:39.580002Z\", \"duration\": \"0:00:55\", \"iteration\": \"21\", \"goal\": \"accuracy_max\", \"run_name\": \"MaxAbsScaler, LightGBM\", \"run_properties\": \"copy=True\", \"primary_metric\": 0.69304078, \"best_metric\": 0.69802748}, {\"run_id\": \"AutoML_2886a22c-d991-455c-93ec-194bd8969aaf_22\", \"run_number\": 27, \"metric\": null, \"status\": \"Completed\", \"run_type\": \"azureml.scriptrun\", \"training_percent\": \"100\", \"start_time\": \"2021-06-14T17:57:56.482573Z\", \"end_time\": \"2021-06-14T17:58:40.633794Z\", \"created_time\": \"2021-06-14T17:57:48.963643Z\", \"created_time_dt\": \"2021-06-14T17:57:48.963643Z\", \"duration\": \"0:00:51\", \"iteration\": \"22\", \"goal\": \"accuracy_max\", \"run_name\": \"StandardScalerWrapper, LogisticRegression\", \"run_properties\": \"\\n    copy=True,\\n    with_mean=False,\\n    with_std=True\\n\", \"primary_metric\": 0.67719415, \"best_metric\": 0.69802748}, {\"run_id\": \"AutoML_2886a22c-d991-455c-93ec-194bd8969aaf_23\", \"run_number\": 28, \"metric\": null, \"status\": \"Completed\", \"run_type\": \"azureml.scriptrun\", \"training_percent\": \"100\", \"start_time\": \"2021-06-14T17:58:00.316616Z\", \"end_time\": \"2021-06-14T17:58:47.265045Z\", \"created_time\": \"2021-06-14T17:57:52.322371Z\", \"created_time_dt\": \"2021-06-14T17:57:52.322371Z\", \"duration\": \"0:00:54\", \"iteration\": \"23\", \"goal\": \"accuracy_max\", \"run_name\": \"MaxAbsScaler, LightGBM\", \"run_properties\": \"copy=True\", \"primary_metric\": 0.66644504, \"best_metric\": 0.69802748}, {\"run_id\": \"AutoML_2886a22c-d991-455c-93ec-194bd8969aaf_24\", \"run_number\": 29, \"metric\": null, \"status\": \"Completed\", \"run_type\": \"azureml.scriptrun\", \"training_percent\": \"100\", \"start_time\": \"2021-06-14T17:58:05.759621Z\", \"end_time\": \"2021-06-14T17:58:47.836265Z\", \"created_time\": \"2021-06-14T17:57:55.882932Z\", \"created_time_dt\": \"2021-06-14T17:57:55.882932Z\", \"duration\": \"0:00:51\", \"iteration\": \"24\", \"goal\": \"accuracy_max\", \"run_name\": \"TruncatedSVDWrapper, XGBoostClassifier\", \"run_properties\": \"n_components=0.7026315789473684, random_state=None\", \"primary_metric\": 0.63464096, \"best_metric\": 0.69802748}, {\"run_id\": \"AutoML_2886a22c-d991-455c-93ec-194bd8969aaf_25\", \"run_number\": 30, \"metric\": null, \"status\": \"Completed\", \"run_type\": \"azureml.scriptrun\", \"training_percent\": \"100\", \"start_time\": \"2021-06-14T17:58:46.36661Z\", \"end_time\": \"2021-06-14T17:59:30.665613Z\", \"created_time\": \"2021-06-14T17:58:38.086366Z\", \"created_time_dt\": \"2021-06-14T17:58:38.086366Z\", \"duration\": \"0:00:52\", \"iteration\": \"25\", \"goal\": \"accuracy_max\", \"run_name\": \"TruncatedSVDWrapper, ExtremeRandomTrees\", \"run_properties\": \"n_components=0.40578947368421053, random_state=None\", \"primary_metric\": 0.57158688, \"best_metric\": 0.69802748}, {\"run_id\": \"AutoML_2886a22c-d991-455c-93ec-194bd8969aaf_26\", \"run_number\": 31, \"metric\": null, \"status\": \"Completed\", \"run_type\": \"azureml.scriptrun\", \"training_percent\": \"100\", \"start_time\": \"2021-06-14T17:58:51.803761Z\", \"end_time\": \"2021-06-14T17:59:38.819217Z\", \"created_time\": \"2021-06-14T17:58:42.466006Z\", \"created_time_dt\": \"2021-06-14T17:58:42.466006Z\", \"duration\": \"0:00:56\", \"iteration\": \"26\", \"goal\": \"accuracy_max\", \"run_name\": \"StandardScalerWrapper, XGBoostClassifier\", \"run_properties\": \"\\n    copy=True,\\n    with_mean=False,\\n    with_std=False\\n\", \"primary_metric\": 0.68772163, \"best_metric\": 0.69802748}, {\"run_id\": \"AutoML_2886a22c-d991-455c-93ec-194bd8969aaf_27\", \"run_number\": 32, \"metric\": null, \"status\": \"Completed\", \"run_type\": \"azureml.scriptrun\", \"training_percent\": \"100\", \"start_time\": \"2021-06-14T17:58:56.874349Z\", \"end_time\": \"2021-06-14T17:59:43.793028Z\", \"created_time\": \"2021-06-14T17:58:49.223855Z\", \"created_time_dt\": \"2021-06-14T17:58:49.223855Z\", \"duration\": \"0:00:54\", \"iteration\": \"27\", \"goal\": \"accuracy_max\", \"run_name\": \"SparseNormalizer, XGBoostClassifier\", \"run_properties\": \"copy=True, norm='max'\", \"primary_metric\": 0.65547429, \"best_metric\": 0.69802748}, {\"run_id\": \"AutoML_2886a22c-d991-455c-93ec-194bd8969aaf_28\", \"run_number\": 33, \"metric\": null, \"status\": \"Completed\", \"run_type\": \"azureml.scriptrun\", \"training_percent\": \"100\", \"start_time\": \"2021-06-14T17:59:03.307529Z\", \"end_time\": \"2021-06-14T17:59:45.500242Z\", \"created_time\": \"2021-06-14T17:58:52.477877Z\", \"created_time_dt\": \"2021-06-14T17:58:52.477877Z\", \"duration\": \"0:00:53\", \"iteration\": \"28\", \"goal\": \"accuracy_max\", \"run_name\": \"StandardScalerWrapper, XGBoostClassifier\", \"run_properties\": \"\\n    copy=True,\\n    with_mean=False,\\n    with_std=False\\n\", \"primary_metric\": 0.64494681, \"best_metric\": 0.69802748}, {\"run_id\": \"AutoML_2886a22c-d991-455c-93ec-194bd8969aaf_29\", \"run_number\": 34, \"metric\": null, \"status\": \"Completed\", \"run_type\": \"azureml.scriptrun\", \"training_percent\": \"100\", \"start_time\": \"2021-06-14T17:59:40.30786Z\", \"end_time\": \"2021-06-14T18:00:27.208175Z\", \"created_time\": \"2021-06-14T17:59:32.723497Z\", \"created_time_dt\": \"2021-06-14T17:59:32.723497Z\", \"duration\": \"0:00:54\", \"iteration\": \"29\", \"goal\": \"accuracy_max\", \"run_name\": \"StandardScalerWrapper, LightGBM\", \"run_properties\": \"\\n    copy=True,\\n    with_mean=False,\\n    with_std=True\\n\", \"primary_metric\": 0.66655585, \"best_metric\": 0.69802748}, {\"run_id\": \"AutoML_2886a22c-d991-455c-93ec-194bd8969aaf_30\", \"run_number\": 35, \"metric\": null, \"status\": \"Completed\", \"run_type\": \"azureml.scriptrun\", \"training_percent\": \"100\", \"start_time\": \"2021-06-14T17:59:50.257775Z\", \"end_time\": \"2021-06-14T18:00:40.870294Z\", \"created_time\": \"2021-06-14T17:59:42.581517Z\", \"created_time_dt\": \"2021-06-14T17:59:42.581517Z\", \"duration\": \"0:00:58\", \"iteration\": \"30\", \"goal\": \"accuracy_max\", \"run_name\": \"MaxAbsScaler, ExtremeRandomTrees\", \"run_properties\": \"copy=True\", \"primary_metric\": 0.53435284, \"best_metric\": 0.69802748}, {\"run_id\": \"AutoML_2886a22c-d991-455c-93ec-194bd8969aaf_31\", \"run_number\": 36, \"metric\": null, \"status\": \"Completed\", \"run_type\": \"azureml.scriptrun\", \"training_percent\": \"100\", \"start_time\": \"2021-06-14T17:59:55.363596Z\", \"end_time\": \"2021-06-14T18:00:45.947194Z\", \"created_time\": \"2021-06-14T17:59:45.709231Z\", \"created_time_dt\": \"2021-06-14T17:59:45.709231Z\", \"duration\": \"0:01:00\", \"iteration\": \"31\", \"goal\": \"accuracy_max\", \"run_name\": \"StandardScalerWrapper, ExtremeRandomTrees\", \"run_properties\": \"\\n    copy=True,\\n    with_mean=False,\\n    with_std=False\\n\", \"primary_metric\": 0.6825133, \"best_metric\": 0.69802748}, {\"run_id\": \"AutoML_2886a22c-d991-455c-93ec-194bd8969aaf_32\", \"run_number\": 37, \"metric\": null, \"status\": \"Completed\", \"run_type\": \"azureml.scriptrun\", \"training_percent\": \"100\", \"start_time\": \"2021-06-14T17:59:58.682558Z\", \"end_time\": \"2021-06-14T18:00:49.307063Z\", \"created_time\": \"2021-06-14T17:59:48.853957Z\", \"created_time_dt\": \"2021-06-14T17:59:48.853957Z\", \"duration\": \"0:01:00\", \"iteration\": \"32\", \"goal\": \"accuracy_max\", \"run_name\": \"StandardScalerWrapper, ExtremeRandomTrees\", \"run_properties\": \"\\n    copy=True,\\n    with_mean=False,\\n    with_std=True\\n\", \"primary_metric\": 0.69802748, \"best_metric\": 0.69802748}, {\"run_id\": \"AutoML_2886a22c-d991-455c-93ec-194bd8969aaf_33\", \"run_number\": 38, \"metric\": null, \"status\": \"Completed\", \"run_type\": \"azureml.scriptrun\", \"training_percent\": \"100\", \"start_time\": \"2021-06-14T18:00:37.397274Z\", \"end_time\": \"2021-06-14T18:01:27.063524Z\", \"created_time\": \"2021-06-14T18:00:29.224452Z\", \"created_time_dt\": \"2021-06-14T18:00:29.224452Z\", \"duration\": \"0:00:57\", \"iteration\": \"33\", \"goal\": \"accuracy_max\", \"run_name\": \"StandardScalerWrapper, XGBoostClassifier\", \"run_properties\": \"\\n    copy=True,\\n    with_mean=False,\\n    with_std=False\\n\", \"primary_metric\": 0.66644504, \"best_metric\": 0.69802748}, {\"run_id\": \"AutoML_2886a22c-d991-455c-93ec-194bd8969aaf_34\", \"run_number\": 39, \"metric\": null, \"status\": \"Completed\", \"run_type\": \"azureml.scriptrun\", \"training_percent\": \"100\", \"start_time\": \"2021-06-14T18:00:51.599101Z\", \"end_time\": \"2021-06-14T18:01:38.642303Z\", \"created_time\": \"2021-06-14T18:00:42.965593Z\", \"created_time_dt\": \"2021-06-14T18:00:42.965593Z\", \"duration\": \"0:00:55\", \"iteration\": \"34\", \"goal\": \"accuracy_max\", \"run_name\": \"SparseNormalizer, XGBoostClassifier\", \"run_properties\": \"copy=True, norm='l2'\", \"primary_metric\": 0.67708333, \"best_metric\": 0.69802748}, {\"run_id\": \"AutoML_2886a22c-d991-455c-93ec-194bd8969aaf_35\", \"run_number\": 40, \"metric\": null, \"status\": \"Completed\", \"run_type\": \"azureml.scriptrun\", \"training_percent\": \"100\", \"start_time\": \"2021-06-14T18:00:58.311114Z\", \"end_time\": \"2021-06-14T18:01:52.045146Z\", \"created_time\": \"2021-06-14T18:00:50.545792Z\", \"created_time_dt\": \"2021-06-14T18:00:50.545792Z\", \"duration\": \"0:01:01\", \"iteration\": \"35\", \"goal\": \"accuracy_max\", \"run_name\": \"StandardScalerWrapper, ExtremeRandomTrees\", \"run_properties\": \"\\n    copy=True,\\n    with_mean=False,\\n    with_std=True\\n\", \"primary_metric\": 0.57158688, \"best_metric\": 0.69802748}, {\"run_id\": \"AutoML_2886a22c-d991-455c-93ec-194bd8969aaf_36\", \"run_number\": 41, \"metric\": null, \"status\": \"Completed\", \"run_type\": \"azureml.scriptrun\", \"training_percent\": \"100\", \"start_time\": \"2021-06-14T18:01:03.843707Z\", \"end_time\": \"2021-06-14T18:01:48.636729Z\", \"created_time\": \"2021-06-14T18:00:53.831519Z\", \"created_time_dt\": \"2021-06-14T18:00:53.831519Z\", \"duration\": \"0:00:54\", \"iteration\": \"36\", \"goal\": \"accuracy_max\", \"run_name\": \"StandardScalerWrapper, LightGBM\", \"run_properties\": \"\\n    copy=True,\\n    with_mean=False,\\n    with_std=False\\n\", \"primary_metric\": 0.65580674, \"best_metric\": 0.69802748}, {\"run_id\": \"AutoML_2886a22c-d991-455c-93ec-194bd8969aaf_37\", \"run_number\": 42, \"metric\": null, \"status\": \"Completed\", \"run_type\": \"azureml.scriptrun\", \"training_percent\": \"100\", \"start_time\": \"2021-06-14T18:01:36.482919Z\", \"end_time\": \"2021-06-14T18:02:26.224516Z\", \"created_time\": \"2021-06-14T18:01:28.988437Z\", \"created_time_dt\": \"2021-06-14T18:01:28.988437Z\", \"duration\": \"0:00:57\", \"iteration\": \"37\", \"goal\": \"accuracy_max\", \"run_name\": \"StandardScalerWrapper, LightGBM\", \"run_properties\": \"\\n    copy=True,\\n    with_mean=False,\\n    with_std=True\\n\", \"primary_metric\": 0.68207004, \"best_metric\": 0.69802748}, {\"run_id\": \"AutoML_2886a22c-d991-455c-93ec-194bd8969aaf_38\", \"run_number\": 43, \"metric\": null, \"status\": \"Completed\", \"run_type\": \"azureml.scriptrun\", \"training_percent\": \"100\", \"start_time\": \"2021-06-14T18:01:50.353532Z\", \"end_time\": \"2021-06-14T18:02:35.253625Z\", \"created_time\": \"2021-06-14T18:01:40.533076Z\", \"created_time_dt\": \"2021-06-14T18:01:40.533076Z\", \"duration\": \"0:00:54\", \"iteration\": \"38\", \"goal\": \"accuracy_max\", \"run_name\": \"StandardScalerWrapper, LogisticRegression\", \"run_properties\": \"\\n    copy=True,\\n    with_mean=False,\\n    with_std=True\\n\", \"primary_metric\": 0.68229167, \"best_metric\": 0.69802748}, {\"run_id\": \"AutoML_2886a22c-d991-455c-93ec-194bd8969aaf_39\", \"run_number\": 44, \"metric\": null, \"status\": \"Completed\", \"run_type\": \"azureml.scriptrun\", \"training_percent\": \"100\", \"start_time\": \"2021-06-14T18:01:58.944984Z\", \"end_time\": \"2021-06-14T18:02:45.836687Z\", \"created_time\": \"2021-06-14T18:01:51.102658Z\", \"created_time_dt\": \"2021-06-14T18:01:51.102658Z\", \"duration\": \"0:00:54\", \"iteration\": \"39\", \"goal\": \"accuracy_max\", \"run_name\": \"StandardScalerWrapper, LogisticRegression\", \"run_properties\": \"\\n    copy=True,\\n    with_mean=False,\\n    with_std=True\\n\", \"primary_metric\": 0.67708333, \"best_metric\": 0.69802748}, {\"run_id\": \"AutoML_2886a22c-d991-455c-93ec-194bd8969aaf_40\", \"run_number\": 45, \"metric\": null, \"status\": \"Completed\", \"run_type\": \"azureml.scriptrun\", \"training_percent\": \"100\", \"start_time\": \"2021-06-14T18:02:05.299582Z\", \"end_time\": \"2021-06-14T18:02:50.110255Z\", \"created_time\": \"2021-06-14T18:01:55.444824Z\", \"created_time_dt\": \"2021-06-14T18:01:55.444824Z\", \"duration\": \"0:00:54\", \"iteration\": \"40\", \"goal\": \"accuracy_max\", \"run_name\": \"MaxAbsScaler, ExtremeRandomTrees\", \"run_properties\": \"copy=True\", \"primary_metric\": 0.68218085, \"best_metric\": 0.69802748}, {\"run_id\": \"AutoML_2886a22c-d991-455c-93ec-194bd8969aaf_41\", \"run_number\": 46, \"metric\": null, \"status\": \"Completed\", \"run_type\": \"azureml.scriptrun\", \"training_percent\": \"100\", \"start_time\": \"2021-06-14T18:02:38.624731Z\", \"end_time\": \"2021-06-14T18:03:26.165683Z\", \"created_time\": \"2021-06-14T18:02:28.90398Z\", \"created_time_dt\": \"2021-06-14T18:02:28.90398Z\", \"duration\": \"0:00:57\", \"iteration\": \"41\", \"goal\": \"accuracy_max\", \"run_name\": \"StandardScalerWrapper, LogisticRegression\", \"run_properties\": \"\\n    copy=True,\\n    with_mean=False,\\n    with_std=False\\n\", \"primary_metric\": 0.71365248, \"best_metric\": 0.71365248}, {\"run_id\": \"AutoML_2886a22c-d991-455c-93ec-194bd8969aaf_42\", \"run_number\": 47, \"metric\": null, \"status\": \"Completed\", \"run_type\": \"azureml.scriptrun\", \"training_percent\": \"100\", \"start_time\": \"2021-06-14T18:02:46.388754Z\", \"end_time\": \"2021-06-14T18:03:36.088077Z\", \"created_time\": \"2021-06-14T18:02:37.592898Z\", \"created_time_dt\": \"2021-06-14T18:02:37.592898Z\", \"duration\": \"0:00:58\", \"iteration\": \"42\", \"goal\": \"accuracy_max\", \"run_name\": \"MaxAbsScaler, LightGBM\", \"run_properties\": \"copy=True\", \"primary_metric\": 0.6612367, \"best_metric\": 0.71365248}, {\"run_id\": \"AutoML_2886a22c-d991-455c-93ec-194bd8969aaf_43\", \"run_number\": 48, \"metric\": null, \"status\": \"Completed\", \"run_type\": \"azureml.scriptrun\", \"training_percent\": \"100\", \"start_time\": \"2021-06-14T18:02:56.534646Z\", \"end_time\": \"2021-06-14T18:03:46.401012Z\", \"created_time\": \"2021-06-14T18:02:48.062848Z\", \"created_time_dt\": \"2021-06-14T18:02:48.062848Z\", \"duration\": \"0:00:58\", \"iteration\": \"43\", \"goal\": \"accuracy_max\", \"run_name\": \"MaxAbsScaler, LightGBM\", \"run_properties\": \"copy=True\", \"primary_metric\": 0.6875, \"best_metric\": 0.71365248}, {\"run_id\": \"AutoML_2886a22c-d991-455c-93ec-194bd8969aaf_44\", \"run_number\": 49, \"metric\": null, \"status\": \"Completed\", \"run_type\": \"azureml.scriptrun\", \"training_percent\": \"100\", \"start_time\": \"2021-06-14T18:03:00.30156Z\", \"end_time\": \"2021-06-14T18:03:47.255684Z\", \"created_time\": \"2021-06-14T18:02:52.133Z\", \"created_time_dt\": \"2021-06-14T18:02:52.133Z\", \"duration\": \"0:00:55\", \"iteration\": \"44\", \"goal\": \"accuracy_max\", \"run_name\": \"MaxAbsScaler, LightGBM\", \"run_properties\": \"copy=True\", \"primary_metric\": 0.66090426, \"best_metric\": 0.71365248}, {\"run_id\": \"AutoML_2886a22c-d991-455c-93ec-194bd8969aaf_45\", \"run_number\": 50, \"metric\": null, \"status\": \"Completed\", \"run_type\": \"azureml.scriptrun\", \"training_percent\": \"100\", \"start_time\": \"2021-06-14T18:03:37.348675Z\", \"end_time\": \"2021-06-14T18:04:27.112574Z\", \"created_time\": \"2021-06-14T18:03:29.656585Z\", \"created_time_dt\": \"2021-06-14T18:03:29.656585Z\", \"duration\": \"0:00:57\", \"iteration\": \"45\", \"goal\": \"accuracy_max\", \"run_name\": \"TruncatedSVDWrapper, LogisticRegression\", \"run_properties\": \"n_components=0.8510526315789474, random_state=None\", \"primary_metric\": 0.57158688, \"best_metric\": 0.71365248}, {\"run_id\": \"AutoML_2886a22c-d991-455c-93ec-194bd8969aaf_46\", \"run_number\": 51, \"metric\": null, \"status\": \"Completed\", \"run_type\": \"azureml.scriptrun\", \"training_percent\": \"100\", \"start_time\": \"2021-06-14T18:03:45.645092Z\", \"end_time\": \"2021-06-14T18:04:32.551644Z\", \"created_time\": \"2021-06-14T18:03:37.916763Z\", \"created_time_dt\": \"2021-06-14T18:03:37.916763Z\", \"duration\": \"0:00:54\", \"iteration\": \"46\", \"goal\": \"accuracy_max\", \"run_name\": \"MaxAbsScaler, ExtremeRandomTrees\", \"run_properties\": \"copy=True\", \"primary_metric\": 0.66666667, \"best_metric\": 0.71365248}, {\"run_id\": \"AutoML_2886a22c-d991-455c-93ec-194bd8969aaf_47\", \"run_number\": 52, \"metric\": null, \"status\": \"Completed\", \"run_type\": \"azureml.scriptrun\", \"training_percent\": \"100\", \"start_time\": \"2021-06-14T18:03:55.58712Z\", \"end_time\": \"2021-06-14T18:04:42.514799Z\", \"created_time\": \"2021-06-14T18:03:48.245222Z\", \"created_time_dt\": \"2021-06-14T18:03:48.245222Z\", \"duration\": \"0:00:54\", \"iteration\": \"47\", \"goal\": \"accuracy_max\", \"run_name\": \"SparseNormalizer, LightGBM\", \"run_properties\": \"copy=True, norm='l2'\", \"primary_metric\": 0.70367908, \"best_metric\": 0.71365248}, {\"run_id\": \"AutoML_2886a22c-d991-455c-93ec-194bd8969aaf_48\", \"run_number\": 53, \"metric\": null, \"status\": \"Completed\", \"run_type\": \"azureml.scriptrun\", \"training_percent\": \"100\", \"start_time\": \"2021-06-14T18:04:04.955638Z\", \"end_time\": \"2021-06-14T18:04:50.531101Z\", \"created_time\": \"2021-06-14T18:03:51.346287Z\", \"created_time_dt\": \"2021-06-14T18:03:51.346287Z\", \"duration\": \"0:00:59\", \"iteration\": \"48\", \"goal\": \"accuracy_max\", \"run_name\": \"MaxAbsScaler, RandomForest\", \"run_properties\": \"copy=True\", \"primary_metric\": 0.69292996, \"best_metric\": 0.71365248}, {\"run_id\": \"AutoML_2886a22c-d991-455c-93ec-194bd8969aaf_49\", \"run_number\": 54, \"metric\": null, \"status\": \"Completed\", \"run_type\": \"azureml.scriptrun\", \"training_percent\": \"100\", \"start_time\": \"2021-06-14T18:04:40.193064Z\", \"end_time\": \"2021-06-14T18:05:36.744449Z\", \"created_time\": \"2021-06-14T18:04:29.832992Z\", \"created_time_dt\": \"2021-06-14T18:04:29.832992Z\", \"duration\": \"0:01:06\", \"iteration\": \"49\", \"goal\": \"accuracy_max\", \"run_name\": \"StandardScalerWrapper, XGBoostClassifier\", \"run_properties\": \"\\n    copy=True,\\n    with_mean=False,\\n    with_std=False\\n\", \"primary_metric\": 0.65580674, \"best_metric\": 0.71365248}, {\"run_id\": \"AutoML_2886a22c-d991-455c-93ec-194bd8969aaf_50\", \"run_number\": 55, \"metric\": null, \"status\": \"Completed\", \"run_type\": \"azureml.scriptrun\", \"training_percent\": \"100\", \"start_time\": \"2021-06-14T18:04:44.457381Z\", \"end_time\": \"2021-06-14T18:05:25.79087Z\", \"created_time\": \"2021-06-14T18:04:36.200667Z\", \"created_time_dt\": \"2021-06-14T18:04:36.200667Z\", \"duration\": \"0:00:49\", \"iteration\": \"50\", \"goal\": \"accuracy_max\", \"run_name\": \"TruncatedSVDWrapper, LogisticRegression\", \"run_properties\": \"n_components=0.05947368421052632, random_state=None\", \"primary_metric\": 0.66101507, \"best_metric\": 0.71365248}, {\"run_id\": \"AutoML_2886a22c-d991-455c-93ec-194bd8969aaf_51\", \"run_number\": 56, \"metric\": null, \"status\": \"Completed\", \"run_type\": \"azureml.scriptrun\", \"training_percent\": \"100\", \"start_time\": \"2021-06-14T18:04:51.739054Z\", \"end_time\": \"2021-06-14T18:05:41.415748Z\", \"created_time\": \"2021-06-14T18:04:44.359885Z\", \"created_time_dt\": \"2021-06-14T18:04:44.359885Z\", \"duration\": \"0:00:57\", \"iteration\": \"51\", \"goal\": \"accuracy_max\", \"run_name\": \"StandardScalerWrapper, ExtremeRandomTrees\", \"run_properties\": \"\\n    copy=True,\\n    with_mean=False,\\n    with_std=True\\n\", \"primary_metric\": 0.70888741, \"best_metric\": 0.71365248}, {\"run_id\": \"AutoML_2886a22c-d991-455c-93ec-194bd8969aaf_52\", \"run_number\": 57, \"metric\": null, \"status\": \"Completed\", \"run_type\": \"azureml.scriptrun\", \"training_percent\": \"100\", \"start_time\": \"2021-06-14T18:05:00.350992Z\", \"end_time\": \"2021-06-14T18:05:44.493384Z\", \"created_time\": \"2021-06-14T18:04:52.378719Z\", \"created_time_dt\": \"2021-06-14T18:04:52.378719Z\", \"duration\": \"0:00:52\", \"iteration\": \"52\", \"goal\": \"accuracy_max\", \"run_name\": \"StandardScalerWrapper, XGBoostClassifier\", \"run_properties\": \"\\n    copy=True,\\n    with_mean=False,\\n    with_std=False\\n\", \"primary_metric\": 0.64018174, \"best_metric\": 0.71365248}, {\"run_id\": \"AutoML_2886a22c-d991-455c-93ec-194bd8969aaf_53\", \"run_number\": 58, \"metric\": null, \"status\": \"Completed\", \"run_type\": \"azureml.scriptrun\", \"training_percent\": \"100\", \"start_time\": \"2021-06-14T18:05:35.113455Z\", \"end_time\": \"2021-06-14T18:06:27.884568Z\", \"created_time\": \"2021-06-14T18:05:27.604159Z\", \"created_time_dt\": \"2021-06-14T18:05:27.604159Z\", \"duration\": \"0:01:00\", \"iteration\": \"53\", \"goal\": \"accuracy_max\", \"run_name\": \"MaxAbsScaler, RandomForest\", \"run_properties\": \"copy=True\", \"primary_metric\": 0.67708333, \"best_metric\": 0.71365248}, {\"run_id\": \"AutoML_2886a22c-d991-455c-93ec-194bd8969aaf_54\", \"run_number\": 59, \"metric\": null, \"status\": \"Completed\", \"run_type\": \"azureml.scriptrun\", \"training_percent\": \"100\", \"start_time\": \"2021-06-14T18:05:46.100763Z\", \"end_time\": \"2021-06-14T18:06:34.184545Z\", \"created_time\": \"2021-06-14T18:05:38.68937Z\", \"created_time_dt\": \"2021-06-14T18:05:38.68937Z\", \"duration\": \"0:00:55\", \"iteration\": \"54\", \"goal\": \"accuracy_max\", \"run_name\": \"StandardScalerWrapper, LightGBM\", \"run_properties\": \"\\n    copy=True,\\n    with_mean=False,\\n    with_std=True\\n\", \"primary_metric\": 0.63984929, \"best_metric\": 0.71365248}, {\"run_id\": \"AutoML_2886a22c-d991-455c-93ec-194bd8969aaf_55\", \"run_number\": 60, \"metric\": null, \"status\": \"Canceled\", \"run_type\": \"azureml.scriptrun\", \"training_percent\": \"100\", \"start_time\": \"2021-06-14T18:05:52.237226Z\", \"end_time\": \"2021-06-14T18:06:35.516724Z\", \"created_time\": \"2021-06-14T18:05:44.550591Z\", \"created_time_dt\": \"2021-06-14T18:05:44.550591Z\", \"duration\": \"0:00:50\", \"iteration\": \"55\", \"goal\": \"accuracy_max\", \"run_name\": \"StandardScalerWrapper, LogisticRegression\", \"run_properties\": \"\\n    copy=True,\\n    with_mean=False,\\n    with_std=False\\n\", \"primary_metric\": 0.57158688, \"best_metric\": 0.71365248}, {\"run_id\": \"AutoML_2886a22c-d991-455c-93ec-194bd8969aaf_56\", \"run_number\": 61, \"metric\": null, \"status\": \"Canceled\", \"run_type\": \"azureml.scriptrun\", \"training_percent\": \"100\", \"start_time\": \"2021-06-14T18:05:57.92214Z\", \"end_time\": \"2021-06-14T18:06:40.480603Z\", \"created_time\": \"2021-06-14T18:05:47.905608Z\", \"created_time_dt\": \"2021-06-14T18:05:47.905608Z\", \"duration\": \"0:00:52\", \"iteration\": \"56\", \"goal\": \"accuracy_max\", \"run_name\": \"StandardScalerWrapper, LightGBM\", \"run_properties\": \"\\n    copy=True,\\n    with_mean=False,\\n    with_std=False\\n\", \"primary_metric\": 0.67719415, \"best_metric\": 0.71365248}, {\"run_id\": \"AutoML_2886a22c-d991-455c-93ec-194bd8969aaf_57\", \"run_number\": 62, \"metric\": null, \"status\": \"Canceled\", \"run_type\": \"azureml.scriptrun\", \"training_percent\": \"100\", \"start_time\": \"2021-06-14T18:06:37.219814Z\", \"end_time\": \"2021-06-14T18:06:44.478022Z\", \"created_time\": \"2021-06-14T18:06:29.773428Z\", \"created_time_dt\": \"2021-06-14T18:06:29.773428Z\", \"duration\": \"0:00:14\", \"iteration\": \"57\", \"goal\": null, \"run_name\": \"Canceled\", \"run_properties\": null}, {\"run_id\": \"AutoML_2886a22c-d991-455c-93ec-194bd8969aaf_58\", \"run_number\": 63, \"metric\": null, \"status\": \"Completed\", \"run_type\": \"azureml.scriptrun\", \"training_percent\": \"100\", \"start_time\": \"2021-06-14T18:06:52.778843Z\", \"end_time\": \"2021-06-14T18:08:07.31244Z\", \"created_time\": \"2021-06-14T18:06:45.345333Z\", \"created_time_dt\": \"2021-06-14T18:06:45.345333Z\", \"duration\": \"0:01:21\", \"iteration\": \"58\", \"goal\": \"accuracy_max\", \"run_name\": \"VotingEnsemble\", \"run_properties\": \"\\n    estimators=[('41', Pipeline(memory=None,\\n             steps=[('standardscalerwrapper',\\n                     StandardScalerWrapper(\\n        copy=True,\\n        with_mean=False,\\n        with_std=False\\n    \", \"primary_metric\": 0.74578901, \"best_metric\": 0.74578901}], \"children_metrics\": {\"categories\": [0], \"series\": {\"AUC_macro\": [{\"categories\": [\"0\", \"1\", \"2\", \"3\", \"4\", \"5\", \"6\", \"7\", \"8\", \"9\", \"10\", \"11\", \"12\", \"13\", \"14\", \"15\", \"16\", \"17\", \"18\", \"19\", \"20\", \"21\", \"22\", \"23\", \"24\", \"25\", \"26\", \"27\", \"28\", \"29\", \"30\", \"31\", \"32\", \"33\", \"34\", \"35\", \"36\", \"37\", \"38\", \"39\", \"40\", \"41\", \"42\", \"43\", \"44\", \"45\", \"46\", \"47\", \"48\", \"49\", \"50\", \"51\", \"52\", \"53\", \"54\", \"55\", \"56\", \"58\"], \"mode\": \"markers\", \"name\": \"AUC_macro\", \"stepped\": false, \"type\": \"scatter\", \"data\": [0.7196986442676099, 0.7204667777943641, 0.7434346703743255, 0.7127294959191511, 0.7586138956828612, 0.7585962090272435, 0.7517939595525803, 0.7080027092958128, 0.7257770326735844, 0.7284338586062724, 0.7468363054569951, 0.7447450856933615, 0.7254049590256487, 0.721488154246775, 0.7564536517122724, 0.7290688557929937, 0.7427660143177385, 0.7343086192224123, 0.70487920444817, 0.744553132053132, 0.7632418985867262, 0.7367764419488557, 0.729442731597904, 0.7584104911691119, 0.7040895726240555, 0.5, 0.7253894174152795, 0.7251944814444815, 0.7355118779687746, 0.744729831152245, 0.5, 0.7572734816269298, 0.7646804903270421, 0.709723418344108, 0.7400086822500616, 0.5, 0.7418603586707035, 0.7507524164851751, 0.7450148032044583, 0.7313760473243232, 0.7528117237168961, 0.7785573462297599, 0.7491062497528014, 0.7450987629866941, 0.7263181582147099, 0.7290894131411372, 0.717405774302326, 0.7525705695964318, 0.7740236615236615, 0.710399649839305, 0.7114976817563025, 0.7576685766340938, 0.7187507256472774, 0.7598720564237805, 0.7116790776273536, 0.7290894131411372, 0.7559088421157387, 0.7808941537389813]}, {\"categories\": [\"0\", \"1\", \"2\", \"3\", \"4\", \"5\", \"6\", \"7\", \"8\", \"9\", \"10\", \"11\", \"12\", \"13\", \"14\", \"15\", \"16\", \"17\", \"18\", \"19\", \"20\", \"21\", \"22\", \"23\", \"24\", \"25\", \"26\", \"27\", \"28\", \"29\", \"30\", \"31\", \"32\", \"33\", \"34\", \"35\", \"36\", \"37\", \"38\", \"39\", \"40\", \"41\", \"42\", \"43\", \"44\", \"45\", \"46\", \"47\", \"48\", \"49\", \"50\", \"51\", \"52\", \"53\", \"54\", \"55\", \"56\", \"58\"], \"mode\": \"lines\", \"name\": \"AUC_macro_max\", \"stepped\": true, \"type\": \"scatter\", \"data\": [0.7196986442676099, 0.7204667777943641, 0.7434346703743255, 0.7434346703743255, 0.7586138956828612, 0.7586138956828612, 0.7586138956828612, 0.7586138956828612, 0.7586138956828612, 0.7586138956828612, 0.7586138956828612, 0.7586138956828612, 0.7586138956828612, 0.7586138956828612, 0.7586138956828612, 0.7586138956828612, 0.7586138956828612, 0.7586138956828612, 0.7586138956828612, 0.7586138956828612, 0.7632418985867262, 0.7632418985867262, 0.7632418985867262, 0.7632418985867262, 0.7632418985867262, 0.7632418985867262, 0.7632418985867262, 0.7632418985867262, 0.7632418985867262, 0.7632418985867262, 0.7632418985867262, 0.7632418985867262, 0.7646804903270421, 0.7646804903270421, 0.7646804903270421, 0.7646804903270421, 0.7646804903270421, 0.7646804903270421, 0.7646804903270421, 0.7646804903270421, 0.7646804903270421, 0.7785573462297599, 0.7785573462297599, 0.7785573462297599, 0.7785573462297599, 0.7785573462297599, 0.7785573462297599, 0.7785573462297599, 0.7785573462297599, 0.7785573462297599, 0.7785573462297599, 0.7785573462297599, 0.7785573462297599, 0.7785573462297599, 0.7785573462297599, 0.7785573462297599, 0.7785573462297599, 0.7808941537389813]}], \"average_precision_score_macro\": [{\"categories\": [\"0\", \"1\", \"2\", \"3\", \"4\", \"5\", \"6\", \"7\", \"8\", \"9\", \"10\", \"11\", \"12\", \"13\", \"14\", \"15\", \"16\", \"17\", \"18\", \"19\", \"20\", \"21\", \"22\", \"23\", \"24\", \"25\", \"26\", \"27\", \"28\", \"29\", \"30\", \"31\", \"32\", \"33\", \"34\", \"35\", \"36\", \"37\", \"38\", \"39\", \"40\", \"41\", \"42\", \"43\", \"44\", \"45\", \"46\", \"47\", \"48\", \"49\", \"50\", \"51\", \"52\", \"53\", \"54\", \"55\", \"56\", \"58\"], \"mode\": \"markers\", \"name\": \"average_precision_score_macro\", \"stepped\": false, \"type\": \"scatter\", \"data\": [0.7362114008912582, 0.7414703612208252, 0.7506009866592127, 0.7271942894512453, 0.774159551788032, 0.7661456127839485, 0.7642778119313187, 0.7188491231364273, 0.7305573052696555, 0.7207763476161223, 0.7598152586267011, 0.7594252477676899, 0.7269504129126987, 0.729596324964404, 0.7633131429409818, 0.7484902247574898, 0.7671583599942415, 0.7429722839173758, 0.7087227566729842, 0.7373369431635393, 0.767852760951597, 0.7422156893390236, 0.7422888588783139, 0.7681333384152597, 0.7032614889154717, 0.5, 0.7178592748505919, 0.7205082165263981, 0.7237352316045473, 0.7177292083072802, 0.5, 0.7593432514223771, 0.7681844976846444, 0.7190008939594668, 0.7504301744566735, 0.5, 0.7425797234918774, 0.7547131209710858, 0.7564129285053831, 0.7434738371545178, 0.7569146539768667, 0.7938897583595692, 0.7305150487291816, 0.7450110782418428, 0.7340952207047082, 0.7256871064110806, 0.7179841437785831, 0.7514897406204939, 0.7916817735992352, 0.7050239080436451, 0.7063786341459942, 0.7563871353596856, 0.7344128710663674, 0.7741833338524575, 0.7137637555200624, 0.7256871064110806, 0.7599110826990942, 0.7874704802909486]}, {\"categories\": [\"0\", \"1\", \"2\", \"3\", \"4\", \"5\", \"6\", \"7\", \"8\", \"9\", \"10\", \"11\", \"12\", \"13\", \"14\", \"15\", \"16\", \"17\", \"18\", \"19\", \"20\", \"21\", \"22\", \"23\", \"24\", \"25\", \"26\", \"27\", \"28\", \"29\", \"30\", \"31\", \"32\", \"33\", \"34\", \"35\", \"36\", \"37\", \"38\", \"39\", \"40\", \"41\", \"42\", \"43\", \"44\", \"45\", \"46\", \"47\", \"48\", \"49\", \"50\", \"51\", \"52\", \"53\", \"54\", \"55\", \"56\", \"58\"], \"mode\": \"lines\", \"name\": \"average_precision_score_macro_max\", \"stepped\": true, \"type\": \"scatter\", \"data\": [0.7362114008912582, 0.7414703612208252, 0.7506009866592127, 0.7506009866592127, 0.774159551788032, 0.774159551788032, 0.774159551788032, 0.774159551788032, 0.774159551788032, 0.774159551788032, 0.774159551788032, 0.774159551788032, 0.774159551788032, 0.774159551788032, 0.774159551788032, 0.774159551788032, 0.774159551788032, 0.774159551788032, 0.774159551788032, 0.774159551788032, 0.774159551788032, 0.774159551788032, 0.774159551788032, 0.774159551788032, 0.774159551788032, 0.774159551788032, 0.774159551788032, 0.774159551788032, 0.774159551788032, 0.774159551788032, 0.774159551788032, 0.774159551788032, 0.774159551788032, 0.774159551788032, 0.774159551788032, 0.774159551788032, 0.774159551788032, 0.774159551788032, 0.774159551788032, 0.774159551788032, 0.774159551788032, 0.7938897583595692, 0.7938897583595692, 0.7938897583595692, 0.7938897583595692, 0.7938897583595692, 0.7938897583595692, 0.7938897583595692, 0.7938897583595692, 0.7938897583595692, 0.7938897583595692, 0.7938897583595692, 0.7938897583595692, 0.7938897583595692, 0.7938897583595692, 0.7938897583595692, 0.7938897583595692, 0.7938897583595692]}], \"recall_score_weighted\": [{\"categories\": [\"0\", \"1\", \"2\", \"3\", \"4\", \"5\", \"6\", \"7\", \"8\", \"9\", \"10\", \"11\", \"12\", \"13\", \"14\", \"15\", \"16\", \"17\", \"18\", \"19\", \"20\", \"21\", \"22\", \"23\", \"24\", \"25\", \"26\", \"27\", \"28\", \"29\", \"30\", \"31\", \"32\", \"33\", \"34\", \"35\", \"36\", \"37\", \"38\", \"39\", \"40\", \"41\", \"42\", \"43\", \"44\", \"45\", \"46\", \"47\", \"48\", \"49\", \"50\", \"51\", \"52\", \"53\", \"54\", \"55\", \"56\", \"58\"], \"mode\": \"markers\", \"name\": \"recall_score_weighted\", \"stepped\": false, \"type\": \"scatter\", \"data\": [0.650820035460993, 0.6399601063829787, 0.6821808510638299, 0.6716533687943262, 0.6879432624113475, 0.6875, 0.6824024822695036, 0.6821808510638299, 0.6717641843971631, 0.6396276595744681, 0.6927083333333333, 0.6555851063829787, 0.666445035460993, 0.645279255319149, 0.6980274822695035, 0.6508200354609929, 0.6399601063829787, 0.6824024822695035, 0.6240026595744681, 0.6610150709219857, 0.6873891843971631, 0.6930407801418439, 0.6771941489361702, 0.666445035460993, 0.6346409574468085, 0.5715868794326241, 0.6877216312056738, 0.6554742907801419, 0.6449468085106382, 0.6665558510638299, 0.5343528368794326, 0.6825132978723405, 0.6980274822695036, 0.6664450354609929, 0.6770833333333333, 0.5715868794326241, 0.6558067375886525, 0.682070035460993, 0.6822916666666667, 0.6770833333333334, 0.6821808510638299, 0.7136524822695036, 0.6612367021276596, 0.6875, 0.660904255319149, 0.5715868794326241, 0.6666666666666667, 0.7036790780141844, 0.6929299645390071, 0.6558067375886525, 0.6610150709219857, 0.7088874113475178, 0.6401817375886525, 0.6770833333333334, 0.6398492907801419, 0.5715868794326241, 0.6771941489361702, 0.7457890070921986]}, {\"categories\": [\"0\", \"1\", \"2\", \"3\", \"4\", \"5\", \"6\", \"7\", \"8\", \"9\", \"10\", \"11\", \"12\", \"13\", \"14\", \"15\", \"16\", \"17\", \"18\", \"19\", \"20\", \"21\", \"22\", \"23\", \"24\", \"25\", \"26\", \"27\", \"28\", \"29\", \"30\", \"31\", \"32\", \"33\", \"34\", \"35\", \"36\", \"37\", \"38\", \"39\", \"40\", \"41\", \"42\", \"43\", \"44\", \"45\", \"46\", \"47\", \"48\", \"49\", \"50\", \"51\", \"52\", \"53\", \"54\", \"55\", \"56\", \"58\"], \"mode\": \"lines\", \"name\": \"recall_score_weighted_max\", \"stepped\": true, \"type\": \"scatter\", \"data\": [0.650820035460993, 0.650820035460993, 0.6821808510638299, 0.6821808510638299, 0.6879432624113475, 0.6879432624113475, 0.6879432624113475, 0.6879432624113475, 0.6879432624113475, 0.6879432624113475, 0.6927083333333333, 0.6927083333333333, 0.6927083333333333, 0.6927083333333333, 0.6980274822695035, 0.6980274822695035, 0.6980274822695035, 0.6980274822695035, 0.6980274822695035, 0.6980274822695035, 0.6980274822695035, 0.6980274822695035, 0.6980274822695035, 0.6980274822695035, 0.6980274822695035, 0.6980274822695035, 0.6980274822695035, 0.6980274822695035, 0.6980274822695035, 0.6980274822695035, 0.6980274822695035, 0.6980274822695035, 0.6980274822695036, 0.6980274822695036, 0.6980274822695036, 0.6980274822695036, 0.6980274822695036, 0.6980274822695036, 0.6980274822695036, 0.6980274822695036, 0.6980274822695036, 0.7136524822695036, 0.7136524822695036, 0.7136524822695036, 0.7136524822695036, 0.7136524822695036, 0.7136524822695036, 0.7136524822695036, 0.7136524822695036, 0.7136524822695036, 0.7136524822695036, 0.7136524822695036, 0.7136524822695036, 0.7136524822695036, 0.7136524822695036, 0.7136524822695036, 0.7136524822695036, 0.7457890070921986]}], \"accuracy\": [{\"categories\": [\"0\", \"1\", \"2\", \"3\", \"4\", \"5\", \"6\", \"7\", \"8\", \"9\", \"10\", \"11\", \"12\", \"13\", \"14\", \"15\", \"16\", \"17\", \"18\", \"19\", \"20\", \"21\", \"22\", \"23\", \"24\", \"25\", \"26\", \"27\", \"28\", \"29\", \"30\", \"31\", \"32\", \"33\", \"34\", \"35\", \"36\", \"37\", \"38\", \"39\", \"40\", \"41\", \"42\", \"43\", \"44\", \"45\", \"46\", \"47\", \"48\", \"49\", \"50\", \"51\", \"52\", \"53\", \"54\", \"55\", \"56\", \"58\"], \"mode\": \"markers\", \"name\": \"accuracy\", \"stepped\": false, \"type\": \"scatter\", \"data\": [0.650820035460993, 0.6399601063829787, 0.6821808510638299, 0.6716533687943262, 0.6879432624113475, 0.6875, 0.6824024822695036, 0.6821808510638299, 0.6717641843971631, 0.6396276595744681, 0.6927083333333333, 0.6555851063829787, 0.666445035460993, 0.645279255319149, 0.6980274822695035, 0.6508200354609929, 0.6399601063829787, 0.6824024822695035, 0.6240026595744681, 0.6610150709219857, 0.6873891843971631, 0.6930407801418439, 0.6771941489361702, 0.666445035460993, 0.6346409574468085, 0.5715868794326241, 0.6877216312056738, 0.6554742907801419, 0.6449468085106382, 0.6665558510638299, 0.5343528368794326, 0.6825132978723405, 0.6980274822695036, 0.6664450354609929, 0.6770833333333333, 0.5715868794326241, 0.6558067375886525, 0.682070035460993, 0.6822916666666667, 0.6770833333333334, 0.6821808510638299, 0.7136524822695036, 0.6612367021276596, 0.6875, 0.660904255319149, 0.5715868794326241, 0.6666666666666667, 0.7036790780141844, 0.6929299645390071, 0.6558067375886525, 0.6610150709219857, 0.7088874113475178, 0.6401817375886525, 0.6770833333333334, 0.6398492907801419, 0.5715868794326241, 0.6771941489361702, 0.7457890070921986]}, {\"categories\": [\"0\", \"1\", \"2\", \"3\", \"4\", \"5\", \"6\", \"7\", \"8\", \"9\", \"10\", \"11\", \"12\", \"13\", \"14\", \"15\", \"16\", \"17\", \"18\", \"19\", \"20\", \"21\", \"22\", \"23\", \"24\", \"25\", \"26\", \"27\", \"28\", \"29\", \"30\", \"31\", \"32\", \"33\", \"34\", \"35\", \"36\", \"37\", \"38\", \"39\", \"40\", \"41\", \"42\", \"43\", \"44\", \"45\", \"46\", \"47\", \"48\", \"49\", \"50\", \"51\", \"52\", \"53\", \"54\", \"55\", \"56\", \"58\"], \"mode\": \"lines\", \"name\": \"accuracy_max\", \"stepped\": true, \"type\": \"scatter\", \"data\": [0.650820035460993, 0.650820035460993, 0.6821808510638299, 0.6821808510638299, 0.6879432624113475, 0.6879432624113475, 0.6879432624113475, 0.6879432624113475, 0.6879432624113475, 0.6879432624113475, 0.6927083333333333, 0.6927083333333333, 0.6927083333333333, 0.6927083333333333, 0.6980274822695035, 0.6980274822695035, 0.6980274822695035, 0.6980274822695035, 0.6980274822695035, 0.6980274822695035, 0.6980274822695035, 0.6980274822695035, 0.6980274822695035, 0.6980274822695035, 0.6980274822695035, 0.6980274822695035, 0.6980274822695035, 0.6980274822695035, 0.6980274822695035, 0.6980274822695035, 0.6980274822695035, 0.6980274822695035, 0.6980274822695036, 0.6980274822695036, 0.6980274822695036, 0.6980274822695036, 0.6980274822695036, 0.6980274822695036, 0.6980274822695036, 0.6980274822695036, 0.6980274822695036, 0.7136524822695036, 0.7136524822695036, 0.7136524822695036, 0.7136524822695036, 0.7136524822695036, 0.7136524822695036, 0.7136524822695036, 0.7136524822695036, 0.7136524822695036, 0.7136524822695036, 0.7136524822695036, 0.7136524822695036, 0.7136524822695036, 0.7136524822695036, 0.7136524822695036, 0.7136524822695036, 0.7457890070921986]}], \"recall_score_micro\": [{\"categories\": [\"0\", \"1\", \"2\", \"3\", \"4\", \"5\", \"6\", \"7\", \"8\", \"9\", \"10\", \"11\", \"12\", \"13\", \"14\", \"15\", \"16\", \"17\", \"18\", \"19\", \"20\", \"21\", \"22\", \"23\", \"24\", \"25\", \"26\", \"27\", \"28\", \"29\", \"30\", \"31\", \"32\", \"33\", \"34\", \"35\", \"36\", \"37\", \"38\", \"39\", \"40\", \"41\", \"42\", \"43\", \"44\", \"45\", \"46\", \"47\", \"48\", \"49\", \"50\", \"51\", \"52\", \"53\", \"54\", \"55\", \"56\", \"58\"], \"mode\": \"markers\", \"name\": \"recall_score_micro\", \"stepped\": false, \"type\": \"scatter\", \"data\": [0.650820035460993, 0.6399601063829787, 0.6821808510638299, 0.6716533687943262, 0.6879432624113475, 0.6875, 0.6824024822695036, 0.6821808510638299, 0.6717641843971631, 0.6396276595744681, 0.6927083333333333, 0.6555851063829787, 0.666445035460993, 0.645279255319149, 0.6980274822695035, 0.6508200354609929, 0.6399601063829787, 0.6824024822695035, 0.6240026595744681, 0.6610150709219857, 0.6873891843971631, 0.6930407801418439, 0.6771941489361702, 0.666445035460993, 0.6346409574468085, 0.5715868794326241, 0.6877216312056738, 0.6554742907801419, 0.6449468085106382, 0.6665558510638299, 0.5343528368794326, 0.6825132978723405, 0.6980274822695036, 0.6664450354609929, 0.6770833333333333, 0.5715868794326241, 0.6558067375886525, 0.682070035460993, 0.6822916666666667, 0.6770833333333334, 0.6821808510638299, 0.7136524822695036, 0.6612367021276596, 0.6875, 0.660904255319149, 0.5715868794326241, 0.6666666666666667, 0.7036790780141844, 0.6929299645390071, 0.6558067375886525, 0.6610150709219857, 0.7088874113475178, 0.6401817375886525, 0.6770833333333334, 0.6398492907801419, 0.5715868794326241, 0.6771941489361702, 0.7457890070921986]}, {\"categories\": [\"0\", \"1\", \"2\", \"3\", \"4\", \"5\", \"6\", \"7\", \"8\", \"9\", \"10\", \"11\", \"12\", \"13\", \"14\", \"15\", \"16\", \"17\", \"18\", \"19\", \"20\", \"21\", \"22\", \"23\", \"24\", \"25\", \"26\", \"27\", \"28\", \"29\", \"30\", \"31\", \"32\", \"33\", \"34\", \"35\", \"36\", \"37\", \"38\", \"39\", \"40\", \"41\", \"42\", \"43\", \"44\", \"45\", \"46\", \"47\", \"48\", \"49\", \"50\", \"51\", \"52\", \"53\", \"54\", \"55\", \"56\", \"58\"], \"mode\": \"lines\", \"name\": \"recall_score_micro_max\", \"stepped\": true, \"type\": \"scatter\", \"data\": [0.650820035460993, 0.650820035460993, 0.6821808510638299, 0.6821808510638299, 0.6879432624113475, 0.6879432624113475, 0.6879432624113475, 0.6879432624113475, 0.6879432624113475, 0.6879432624113475, 0.6927083333333333, 0.6927083333333333, 0.6927083333333333, 0.6927083333333333, 0.6980274822695035, 0.6980274822695035, 0.6980274822695035, 0.6980274822695035, 0.6980274822695035, 0.6980274822695035, 0.6980274822695035, 0.6980274822695035, 0.6980274822695035, 0.6980274822695035, 0.6980274822695035, 0.6980274822695035, 0.6980274822695035, 0.6980274822695035, 0.6980274822695035, 0.6980274822695035, 0.6980274822695035, 0.6980274822695035, 0.6980274822695036, 0.6980274822695036, 0.6980274822695036, 0.6980274822695036, 0.6980274822695036, 0.6980274822695036, 0.6980274822695036, 0.6980274822695036, 0.6980274822695036, 0.7136524822695036, 0.7136524822695036, 0.7136524822695036, 0.7136524822695036, 0.7136524822695036, 0.7136524822695036, 0.7136524822695036, 0.7136524822695036, 0.7136524822695036, 0.7136524822695036, 0.7136524822695036, 0.7136524822695036, 0.7136524822695036, 0.7136524822695036, 0.7136524822695036, 0.7136524822695036, 0.7457890070921986]}], \"f1_score_micro\": [{\"categories\": [\"0\", \"1\", \"2\", \"3\", \"4\", \"5\", \"6\", \"7\", \"8\", \"9\", \"10\", \"11\", \"12\", \"13\", \"14\", \"15\", \"16\", \"17\", \"18\", \"19\", \"20\", \"21\", \"22\", \"23\", \"24\", \"25\", \"26\", \"27\", \"28\", \"29\", \"30\", \"31\", \"32\", \"33\", \"34\", \"35\", \"36\", \"37\", \"38\", \"39\", \"40\", \"41\", \"42\", \"43\", \"44\", \"45\", \"46\", \"47\", \"48\", \"49\", \"50\", \"51\", \"52\", \"53\", \"54\", \"55\", \"56\", \"58\"], \"mode\": \"markers\", \"name\": \"f1_score_micro\", \"stepped\": false, \"type\": \"scatter\", \"data\": [0.650820035460993, 0.6399601063829787, 0.6821808510638299, 0.6716533687943261, 0.6879432624113475, 0.6875, 0.6824024822695036, 0.6821808510638299, 0.6717641843971631, 0.6396276595744681, 0.6927083333333333, 0.6555851063829787, 0.666445035460993, 0.645279255319149, 0.6980274822695035, 0.6508200354609929, 0.6399601063829787, 0.6824024822695035, 0.6240026595744681, 0.6610150709219857, 0.6873891843971631, 0.6930407801418439, 0.6771941489361702, 0.666445035460993, 0.6346409574468085, 0.5715868794326241, 0.6877216312056738, 0.6554742907801419, 0.6449468085106382, 0.6665558510638298, 0.5343528368794326, 0.6825132978723404, 0.6980274822695035, 0.6664450354609929, 0.6770833333333333, 0.5715868794326241, 0.6558067375886525, 0.6820700354609929, 0.6822916666666665, 0.6770833333333334, 0.6821808510638299, 0.7136524822695036, 0.6612367021276596, 0.6875, 0.660904255319149, 0.5715868794326241, 0.6666666666666667, 0.7036790780141844, 0.692929964539007, 0.6558067375886525, 0.6610150709219857, 0.7088874113475176, 0.6401817375886525, 0.6770833333333334, 0.6398492907801419, 0.5715868794326241, 0.6771941489361702, 0.7457890070921986]}, {\"categories\": [\"0\", \"1\", \"2\", \"3\", \"4\", \"5\", \"6\", \"7\", \"8\", \"9\", \"10\", \"11\", \"12\", \"13\", \"14\", \"15\", \"16\", \"17\", \"18\", \"19\", \"20\", \"21\", \"22\", \"23\", \"24\", \"25\", \"26\", \"27\", \"28\", \"29\", \"30\", \"31\", \"32\", \"33\", \"34\", \"35\", \"36\", \"37\", \"38\", \"39\", \"40\", \"41\", \"42\", \"43\", \"44\", \"45\", \"46\", \"47\", \"48\", \"49\", \"50\", \"51\", \"52\", \"53\", \"54\", \"55\", \"56\", \"58\"], \"mode\": \"lines\", \"name\": \"f1_score_micro_max\", \"stepped\": true, \"type\": \"scatter\", \"data\": [0.650820035460993, 0.650820035460993, 0.6821808510638299, 0.6821808510638299, 0.6879432624113475, 0.6879432624113475, 0.6879432624113475, 0.6879432624113475, 0.6879432624113475, 0.6879432624113475, 0.6927083333333333, 0.6927083333333333, 0.6927083333333333, 0.6927083333333333, 0.6980274822695035, 0.6980274822695035, 0.6980274822695035, 0.6980274822695035, 0.6980274822695035, 0.6980274822695035, 0.6980274822695035, 0.6980274822695035, 0.6980274822695035, 0.6980274822695035, 0.6980274822695035, 0.6980274822695035, 0.6980274822695035, 0.6980274822695035, 0.6980274822695035, 0.6980274822695035, 0.6980274822695035, 0.6980274822695035, 0.6980274822695035, 0.6980274822695035, 0.6980274822695035, 0.6980274822695035, 0.6980274822695035, 0.6980274822695035, 0.6980274822695035, 0.6980274822695035, 0.6980274822695035, 0.7136524822695036, 0.7136524822695036, 0.7136524822695036, 0.7136524822695036, 0.7136524822695036, 0.7136524822695036, 0.7136524822695036, 0.7136524822695036, 0.7136524822695036, 0.7136524822695036, 0.7136524822695036, 0.7136524822695036, 0.7136524822695036, 0.7136524822695036, 0.7136524822695036, 0.7136524822695036, 0.7457890070921986]}], \"f1_score_weighted\": [{\"categories\": [\"0\", \"1\", \"2\", \"3\", \"4\", \"5\", \"6\", \"7\", \"8\", \"9\", \"10\", \"11\", \"12\", \"13\", \"14\", \"15\", \"16\", \"17\", \"18\", \"19\", \"20\", \"21\", \"22\", \"23\", \"24\", \"25\", \"26\", \"27\", \"28\", \"29\", \"30\", \"31\", \"32\", \"33\", \"34\", \"35\", \"36\", \"37\", \"38\", \"39\", \"40\", \"41\", \"42\", \"43\", \"44\", \"45\", \"46\", \"47\", \"48\", \"49\", \"50\", \"51\", \"52\", \"53\", \"54\", \"55\", \"56\", \"58\"], \"mode\": \"markers\", \"name\": \"f1_score_weighted\", \"stepped\": false, \"type\": \"scatter\", \"data\": [0.649198164620897, 0.6392192207342682, 0.6812648676030536, 0.6625395435476746, 0.6881259615356536, 0.6891976017299254, 0.6796601576201798, 0.681965239492031, 0.6678946592976631, 0.6402969645671279, 0.6907175447908931, 0.6565643676905875, 0.6598013226684394, 0.6397728086652222, 0.6961042476782775, 0.6475256399245967, 0.6406109566931454, 0.6768967722396904, 0.6165386272321169, 0.6605323853064214, 0.6881068306494172, 0.6910907749090673, 0.6756671238652658, 0.6572804851615041, 0.6332372723689604, 0.4161939852921076, 0.6875160396570714, 0.6562903765540714, 0.64654574149255, 0.6673452446446481, 0.37490460127487346, 0.6841119998700704, 0.6981142746589235, 0.6657942733320673, 0.6762579061244608, 0.4161939852921076, 0.656596462678023, 0.6777250942486783, 0.6779025692763567, 0.6728342293268188, 0.6772949288014058, 0.7125932801044783, 0.6588568557430977, 0.6853776198919318, 0.6583484205093366, 0.4161939852921076, 0.6640289903696555, 0.7029046143589776, 0.6878801666673957, 0.6565176445894532, 0.6608427413518599, 0.704014202436726, 0.6358690305820984, 0.6752511926583332, 0.6400976711771116, 0.4161939852921076, 0.6686132392175885, 0.7446292948637574]}, {\"categories\": [\"0\", \"1\", \"2\", \"3\", \"4\", \"5\", \"6\", \"7\", \"8\", \"9\", \"10\", \"11\", \"12\", \"13\", \"14\", \"15\", \"16\", \"17\", \"18\", \"19\", \"20\", \"21\", \"22\", \"23\", \"24\", \"25\", \"26\", \"27\", \"28\", \"29\", \"30\", \"31\", \"32\", \"33\", \"34\", \"35\", \"36\", \"37\", \"38\", \"39\", \"40\", \"41\", \"42\", \"43\", \"44\", \"45\", \"46\", \"47\", \"48\", \"49\", \"50\", \"51\", \"52\", \"53\", \"54\", \"55\", \"56\", \"58\"], \"mode\": \"lines\", \"name\": \"f1_score_weighted_max\", \"stepped\": true, \"type\": \"scatter\", \"data\": [0.649198164620897, 0.649198164620897, 0.6812648676030536, 0.6812648676030536, 0.6881259615356536, 0.6891976017299254, 0.6891976017299254, 0.6891976017299254, 0.6891976017299254, 0.6891976017299254, 0.6907175447908931, 0.6907175447908931, 0.6907175447908931, 0.6907175447908931, 0.6961042476782775, 0.6961042476782775, 0.6961042476782775, 0.6961042476782775, 0.6961042476782775, 0.6961042476782775, 0.6961042476782775, 0.6961042476782775, 0.6961042476782775, 0.6961042476782775, 0.6961042476782775, 0.6961042476782775, 0.6961042476782775, 0.6961042476782775, 0.6961042476782775, 0.6961042476782775, 0.6961042476782775, 0.6961042476782775, 0.6981142746589235, 0.6981142746589235, 0.6981142746589235, 0.6981142746589235, 0.6981142746589235, 0.6981142746589235, 0.6981142746589235, 0.6981142746589235, 0.6981142746589235, 0.7125932801044783, 0.7125932801044783, 0.7125932801044783, 0.7125932801044783, 0.7125932801044783, 0.7125932801044783, 0.7125932801044783, 0.7125932801044783, 0.7125932801044783, 0.7125932801044783, 0.7125932801044783, 0.7125932801044783, 0.7125932801044783, 0.7125932801044783, 0.7125932801044783, 0.7125932801044783, 0.7446292948637574]}], \"weighted_accuracy\": [{\"categories\": [\"0\", \"1\", \"2\", \"3\", \"4\", \"5\", \"6\", \"7\", \"8\", \"9\", \"10\", \"11\", \"12\", \"13\", \"14\", \"15\", \"16\", \"17\", \"18\", \"19\", \"20\", \"21\", \"22\", \"23\", \"24\", \"25\", \"26\", \"27\", \"28\", \"29\", \"30\", \"31\", \"32\", \"33\", \"34\", \"35\", \"36\", \"37\", \"38\", \"39\", \"40\", \"41\", \"42\", \"43\", \"44\", \"45\", \"46\", \"47\", \"48\", \"49\", \"50\", \"51\", \"52\", \"53\", \"54\", \"55\", \"56\", \"58\"], \"mode\": \"markers\", \"name\": \"weighted_accuracy\", \"stepped\": false, \"type\": \"scatter\", \"data\": [0.6582972932420104, 0.6481054614807659, 0.6904378994883239, 0.6885978741985145, 0.6898975911272016, 0.6804140898122919, 0.6940177415575479, 0.6884366332563188, 0.6871746169664946, 0.6446045546831198, 0.7036926297139613, 0.6590818829183389, 0.6825430712499264, 0.658806738525361, 0.7088941529244919, 0.6629619359573867, 0.645178791179863, 0.6966121209158258, 0.6395294688616437, 0.6677443970831587, 0.6887717563114637, 0.7016128732266431, 0.6881798573678696, 0.6845217734266185, 0.64048895044497, 0.6388859188849166, 0.693652993076701, 0.6597533742060421, 0.6402023188831708, 0.6657528050282355, 0.5660338373968741, 0.6798551063893665, 0.7052303447945604, 0.6738685094454044, 0.6856538439021017, 0.6388859188849166, 0.6598199046129296, 0.6948647456195147, 0.6974637631742848, 0.6929937754266557, 0.6970181291285364, 0.7233671183629293, 0.6656885750309236, 0.6979966367055304, 0.6715593882472826, 0.6388859188849166, 0.6786265807589116, 0.7122520626410141, 0.7058337964200072, 0.6598715028439672, 0.647727575820995, 0.7213197723078217, 0.6531330990166446, 0.6817987050392191, 0.6361699109804149, 0.6388859188849166, 0.6950933255924575, 0.7542348962912881]}, {\"categories\": [\"0\", \"1\", \"2\", \"3\", \"4\", \"5\", \"6\", \"7\", \"8\", \"9\", \"10\", \"11\", \"12\", \"13\", \"14\", \"15\", \"16\", \"17\", \"18\", \"19\", \"20\", \"21\", \"22\", \"23\", \"24\", \"25\", \"26\", \"27\", \"28\", \"29\", \"30\", \"31\", \"32\", \"33\", \"34\", \"35\", \"36\", \"37\", \"38\", \"39\", \"40\", \"41\", \"42\", \"43\", \"44\", \"45\", \"46\", \"47\", \"48\", \"49\", \"50\", \"51\", \"52\", \"53\", \"54\", \"55\", \"56\", \"58\"], \"mode\": \"lines\", \"name\": \"weighted_accuracy_max\", \"stepped\": true, \"type\": \"scatter\", \"data\": [0.6582972932420104, 0.6582972932420104, 0.6904378994883239, 0.6904378994883239, 0.6904378994883239, 0.6904378994883239, 0.6940177415575479, 0.6940177415575479, 0.6940177415575479, 0.6940177415575479, 0.7036926297139613, 0.7036926297139613, 0.7036926297139613, 0.7036926297139613, 0.7088941529244919, 0.7088941529244919, 0.7088941529244919, 0.7088941529244919, 0.7088941529244919, 0.7088941529244919, 0.7088941529244919, 0.7088941529244919, 0.7088941529244919, 0.7088941529244919, 0.7088941529244919, 0.7088941529244919, 0.7088941529244919, 0.7088941529244919, 0.7088941529244919, 0.7088941529244919, 0.7088941529244919, 0.7088941529244919, 0.7088941529244919, 0.7088941529244919, 0.7088941529244919, 0.7088941529244919, 0.7088941529244919, 0.7088941529244919, 0.7088941529244919, 0.7088941529244919, 0.7088941529244919, 0.7233671183629293, 0.7233671183629293, 0.7233671183629293, 0.7233671183629293, 0.7233671183629293, 0.7233671183629293, 0.7233671183629293, 0.7233671183629293, 0.7233671183629293, 0.7233671183629293, 0.7233671183629293, 0.7233671183629293, 0.7233671183629293, 0.7233671183629293, 0.7233671183629293, 0.7233671183629293, 0.7542348962912881]}], \"AUC_weighted\": [{\"categories\": [\"0\", \"1\", \"2\", \"3\", \"4\", \"5\", \"6\", \"7\", \"8\", \"9\", \"10\", \"11\", \"12\", \"13\", \"14\", \"15\", \"16\", \"17\", \"18\", \"19\", \"20\", \"21\", \"22\", \"23\", \"24\", \"25\", \"26\", \"27\", \"28\", \"29\", \"30\", \"31\", \"32\", \"33\", \"34\", \"35\", \"36\", \"37\", \"38\", \"39\", \"40\", \"41\", \"42\", \"43\", \"44\", \"45\", \"46\", \"47\", \"48\", \"49\", \"50\", \"51\", \"52\", \"53\", \"54\", \"55\", \"56\", \"58\"], \"mode\": \"markers\", \"name\": \"AUC_weighted\", \"stepped\": false, \"type\": \"scatter\", \"data\": [0.7196986442676099, 0.720466777794364, 0.7434346703743255, 0.7127294959191511, 0.7586138956828612, 0.7585962090272433, 0.7517939595525803, 0.7080027092958128, 0.7257770326735843, 0.7284338586062724, 0.7468363054569951, 0.7447450856933615, 0.7254049590256486, 0.7214881542467748, 0.7564536517122724, 0.7290688557929937, 0.7427660143177384, 0.7343086192224122, 0.7048792044481699, 0.7445531320531321, 0.7632418985867262, 0.7367764419488557, 0.729442731597904, 0.7584104911691117, 0.7040895726240554, 0.5, 0.7253894174152795, 0.7251944814444815, 0.7355118779687746, 0.744729831152245, 0.5, 0.7572734816269299, 0.7646804903270421, 0.709723418344108, 0.7400086822500616, 0.5, 0.7418603586707035, 0.7507524164851751, 0.7450148032044583, 0.7313760473243232, 0.7528117237168961, 0.7785573462297599, 0.7491062497528014, 0.745098762986694, 0.72631815821471, 0.7290894131411374, 0.7174057743023261, 0.7525705695964318, 0.7740236615236615, 0.710399649839305, 0.7114976817563025, 0.7576685766340939, 0.7187507256472774, 0.7598720564237805, 0.7116790776273536, 0.7290894131411374, 0.7559088421157387, 0.7808941537389814]}, {\"categories\": [\"0\", \"1\", \"2\", \"3\", \"4\", \"5\", \"6\", \"7\", \"8\", \"9\", \"10\", \"11\", \"12\", \"13\", \"14\", \"15\", \"16\", \"17\", \"18\", \"19\", \"20\", \"21\", \"22\", \"23\", \"24\", \"25\", \"26\", \"27\", \"28\", \"29\", \"30\", \"31\", \"32\", \"33\", \"34\", \"35\", \"36\", \"37\", \"38\", \"39\", \"40\", \"41\", \"42\", \"43\", \"44\", \"45\", \"46\", \"47\", \"48\", \"49\", \"50\", \"51\", \"52\", \"53\", \"54\", \"55\", \"56\", \"58\"], \"mode\": \"lines\", \"name\": \"AUC_weighted_max\", \"stepped\": true, \"type\": \"scatter\", \"data\": [0.7196986442676099, 0.720466777794364, 0.7434346703743255, 0.7434346703743255, 0.7586138956828612, 0.7586138956828612, 0.7586138956828612, 0.7586138956828612, 0.7586138956828612, 0.7586138956828612, 0.7586138956828612, 0.7586138956828612, 0.7586138956828612, 0.7586138956828612, 0.7586138956828612, 0.7586138956828612, 0.7586138956828612, 0.7586138956828612, 0.7586138956828612, 0.7586138956828612, 0.7632418985867262, 0.7632418985867262, 0.7632418985867262, 0.7632418985867262, 0.7632418985867262, 0.7632418985867262, 0.7632418985867262, 0.7632418985867262, 0.7632418985867262, 0.7632418985867262, 0.7632418985867262, 0.7632418985867262, 0.7646804903270421, 0.7646804903270421, 0.7646804903270421, 0.7646804903270421, 0.7646804903270421, 0.7646804903270421, 0.7646804903270421, 0.7646804903270421, 0.7646804903270421, 0.7785573462297599, 0.7785573462297599, 0.7785573462297599, 0.7785573462297599, 0.7785573462297599, 0.7785573462297599, 0.7785573462297599, 0.7785573462297599, 0.7785573462297599, 0.7785573462297599, 0.7785573462297599, 0.7785573462297599, 0.7785573462297599, 0.7785573462297599, 0.7785573462297599, 0.7785573462297599, 0.7808941537389814]}], \"average_precision_score_weighted\": [{\"categories\": [\"0\", \"1\", \"2\", \"3\", \"4\", \"5\", \"6\", \"7\", \"8\", \"9\", \"10\", \"11\", \"12\", \"13\", \"14\", \"15\", \"16\", \"17\", \"18\", \"19\", \"20\", \"21\", \"22\", \"23\", \"24\", \"25\", \"26\", \"27\", \"28\", \"29\", \"30\", \"31\", \"32\", \"33\", \"34\", \"35\", \"36\", \"37\", \"38\", \"39\", \"40\", \"41\", \"42\", \"43\", \"44\", \"45\", \"46\", \"47\", \"48\", \"49\", \"50\", \"51\", \"52\", \"53\", \"54\", \"55\", \"56\", \"58\"], \"mode\": \"markers\", \"name\": \"average_precision_score_weighted\", \"stepped\": false, \"type\": \"scatter\", \"data\": [0.7462576976356361, 0.7508337203462909, 0.760994622642461, 0.7341655056272894, 0.7807589669883377, 0.7739108382376658, 0.7736690661706854, 0.7305666000751705, 0.7376029473228959, 0.734341888430946, 0.7679084325373956, 0.7695705874441641, 0.7398611073823853, 0.741514117163384, 0.7719022082149121, 0.7572840142819928, 0.7756748630575371, 0.7531867938630286, 0.724268657206526, 0.7515207405872498, 0.7778066167555892, 0.7513765217702542, 0.7494753791008917, 0.7789091205205884, 0.7131052127677179, 0.5119024602635682, 0.7298851727135083, 0.7337369197597252, 0.7372707793727787, 0.7316753379317089, 0.5119024602635682, 0.7682875467933374, 0.7761765425802232, 0.7300309828676192, 0.7593763702353156, 0.5119024602635682, 0.7555790713735966, 0.7654454124043465, 0.7630750712076179, 0.7504166830036785, 0.7634777259576664, 0.8019136826481825, 0.7457141583876082, 0.7584014300298205, 0.7462115677154466, 0.7392554759453766, 0.7285333509674401, 0.7627414697414446, 0.7988240536955693, 0.7192654113787856, 0.7219169070773913, 0.7620496746203783, 0.7463745018570008, 0.7832631855763178, 0.7257901821756577, 0.7392554759453766, 0.772094859251969, 0.79666626792115]}, {\"categories\": [\"0\", \"1\", \"2\", \"3\", \"4\", \"5\", \"6\", \"7\", \"8\", \"9\", \"10\", \"11\", \"12\", \"13\", \"14\", \"15\", \"16\", \"17\", \"18\", \"19\", \"20\", \"21\", \"22\", \"23\", \"24\", \"25\", \"26\", \"27\", \"28\", \"29\", \"30\", \"31\", \"32\", \"33\", \"34\", \"35\", \"36\", \"37\", \"38\", \"39\", \"40\", \"41\", \"42\", \"43\", \"44\", \"45\", \"46\", \"47\", \"48\", \"49\", \"50\", \"51\", \"52\", \"53\", \"54\", \"55\", \"56\", \"58\"], \"mode\": \"lines\", \"name\": \"average_precision_score_weighted_max\", \"stepped\": true, \"type\": \"scatter\", \"data\": [0.7462576976356361, 0.7508337203462909, 0.760994622642461, 0.760994622642461, 0.7807589669883377, 0.7807589669883377, 0.7807589669883377, 0.7807589669883377, 0.7807589669883377, 0.7807589669883377, 0.7807589669883377, 0.7807589669883377, 0.7807589669883377, 0.7807589669883377, 0.7807589669883377, 0.7807589669883377, 0.7807589669883377, 0.7807589669883377, 0.7807589669883377, 0.7807589669883377, 0.7807589669883377, 0.7807589669883377, 0.7807589669883377, 0.7807589669883377, 0.7807589669883377, 0.7807589669883377, 0.7807589669883377, 0.7807589669883377, 0.7807589669883377, 0.7807589669883377, 0.7807589669883377, 0.7807589669883377, 0.7807589669883377, 0.7807589669883377, 0.7807589669883377, 0.7807589669883377, 0.7807589669883377, 0.7807589669883377, 0.7807589669883377, 0.7807589669883377, 0.7807589669883377, 0.8019136826481825, 0.8019136826481825, 0.8019136826481825, 0.8019136826481825, 0.8019136826481825, 0.8019136826481825, 0.8019136826481825, 0.8019136826481825, 0.8019136826481825, 0.8019136826481825, 0.8019136826481825, 0.8019136826481825, 0.8019136826481825, 0.8019136826481825, 0.8019136826481825, 0.8019136826481825, 0.8019136826481825]}], \"matthews_correlation\": [{\"categories\": [\"0\", \"1\", \"2\", \"3\", \"4\", \"5\", \"6\", \"7\", \"8\", \"9\", \"10\", \"11\", \"12\", \"13\", \"14\", \"15\", \"16\", \"17\", \"18\", \"19\", \"20\", \"21\", \"22\", \"23\", \"24\", \"25\", \"26\", \"27\", \"28\", \"29\", \"30\", \"31\", \"32\", \"33\", \"34\", \"35\", \"36\", \"37\", \"38\", \"39\", \"40\", \"41\", \"42\", \"43\", \"44\", \"45\", \"46\", \"47\", \"48\", \"49\", \"50\", \"51\", \"52\", \"53\", \"54\", \"55\", \"56\", \"58\"], \"mode\": \"markers\", \"name\": \"matthews_correlation\", \"stepped\": false, \"type\": \"scatter\", \"data\": [0.28717850267014916, 0.26573514199774345, 0.3507426051845756, 0.3281879853019321, 0.3719894302662766, 0.38682587287470854, 0.34650472310337754, 0.35535758745863083, 0.31738939636610336, 0.27051415538657464, 0.3704096849310949, 0.30366608188926214, 0.32037677529002, 0.27467994039681265, 0.3802386686102534, 0.28140494134056887, 0.2700345415790441, 0.3515027268555491, 0.22845063109279093, 0.3086271427324674, 0.3716514733721482, 0.3800427466484828, 0.3355113479267431, 0.31974089292656593, 0.25939222895920583, 0.0, 0.36833606636661687, 0.3026833926774197, 0.2987663723341323, 0.335289329597012, 0.0, 0.36858808781358, 0.38305582935457405, 0.3197687101324325, 0.3389786093442477, 0.0, 0.30210432230394046, 0.3630234583195874, 0.34076985478059385, 0.32885219137670424, 0.34597851506459465, 0.4128451155860098, 0.32361692149209736, 0.36455841195598626, 0.3116708305328548, 0.0, 0.3128576278458216, 0.3921869135003929, 0.37630647350490376, 0.3037777048347896, 0.3502539833460395, 0.40782275158022663, 0.2602936578713648, 0.35507876672745775, 0.2894961824273705, 0.0, 0.33821917791815426, 0.48345758185324794]}, {\"categories\": [\"0\", \"1\", \"2\", \"3\", \"4\", \"5\", \"6\", \"7\", \"8\", \"9\", \"10\", \"11\", \"12\", \"13\", \"14\", \"15\", \"16\", \"17\", \"18\", \"19\", \"20\", \"21\", \"22\", \"23\", \"24\", \"25\", \"26\", \"27\", \"28\", \"29\", \"30\", \"31\", \"32\", \"33\", \"34\", \"35\", \"36\", \"37\", \"38\", \"39\", \"40\", \"41\", \"42\", \"43\", \"44\", \"45\", \"46\", \"47\", \"48\", \"49\", \"50\", \"51\", \"52\", \"53\", \"54\", \"55\", \"56\", \"58\"], \"mode\": \"lines\", \"name\": \"matthews_correlation_max\", \"stepped\": true, \"type\": \"scatter\", \"data\": [0.28717850267014916, 0.28717850267014916, 0.3507426051845756, 0.3507426051845756, 0.3719894302662766, 0.38682587287470854, 0.38682587287470854, 0.38682587287470854, 0.38682587287470854, 0.38682587287470854, 0.38682587287470854, 0.38682587287470854, 0.38682587287470854, 0.38682587287470854, 0.38682587287470854, 0.38682587287470854, 0.38682587287470854, 0.38682587287470854, 0.38682587287470854, 0.38682587287470854, 0.38682587287470854, 0.38682587287470854, 0.38682587287470854, 0.38682587287470854, 0.38682587287470854, 0.38682587287470854, 0.38682587287470854, 0.38682587287470854, 0.38682587287470854, 0.38682587287470854, 0.38682587287470854, 0.38682587287470854, 0.38682587287470854, 0.38682587287470854, 0.38682587287470854, 0.38682587287470854, 0.38682587287470854, 0.38682587287470854, 0.38682587287470854, 0.38682587287470854, 0.38682587287470854, 0.4128451155860098, 0.4128451155860098, 0.4128451155860098, 0.4128451155860098, 0.4128451155860098, 0.4128451155860098, 0.4128451155860098, 0.4128451155860098, 0.4128451155860098, 0.4128451155860098, 0.4128451155860098, 0.4128451155860098, 0.4128451155860098, 0.4128451155860098, 0.4128451155860098, 0.4128451155860098, 0.48345758185324794]}], \"AUC_micro\": [{\"categories\": [\"0\", \"1\", \"2\", \"3\", \"4\", \"5\", \"6\", \"7\", \"8\", \"9\", \"10\", \"11\", \"12\", \"13\", \"14\", \"15\", \"16\", \"17\", \"18\", \"19\", \"20\", \"21\", \"22\", \"23\", \"24\", \"25\", \"26\", \"27\", \"28\", \"29\", \"30\", \"31\", \"32\", \"33\", \"34\", \"35\", \"36\", \"37\", \"38\", \"39\", \"40\", \"41\", \"42\", \"43\", \"44\", \"45\", \"46\", \"47\", \"48\", \"49\", \"50\", \"51\", \"52\", \"53\", \"54\", \"55\", \"56\", \"58\"], \"mode\": \"markers\", \"name\": \"AUC_micro\", \"stepped\": false, \"type\": \"scatter\", \"data\": [0.7226992303424122, 0.723410984812761, 0.7513018377313766, 0.725007102808586, 0.7614150877408078, 0.7562208028393944, 0.7560073256186811, 0.7129290371460187, 0.7416353868014687, 0.7316120271081685, 0.7535384856301242, 0.7441590942671394, 0.7132171773615512, 0.7189750696330667, 0.7566594970543483, 0.7398036382884412, 0.7408980406072381, 0.7361575790013077, 0.7054047264819426, 0.751156048409914, 0.7594083723938686, 0.7462031902318798, 0.7424812890605352, 0.747627779821186, 0.7070171524476887, 0.5715868794326241, 0.7308396089545295, 0.7292493854056638, 0.7347692402608018, 0.7486533644717318, 0.5343528368794326, 0.7558532840714753, 0.760131768396962, 0.7139475975806047, 0.7442990873824253, 0.5715868794326241, 0.7419446487852724, 0.7515713613185957, 0.7576873903632866, 0.7458718240719783, 0.7526669425267843, 0.7814375416540917, 0.7486720302204366, 0.7484223512713144, 0.7272052403205322, 0.6836613396584679, 0.7228474265630501, 0.7534929510273628, 0.7778812744423067, 0.7152975241750917, 0.7351833742800915, 0.7617441452423168, 0.7297697177110054, 0.760456061220512, 0.7155133591745888, 0.6836613396584679, 0.7518758586244404, 0.7869421691879182]}, {\"categories\": [\"0\", \"1\", \"2\", \"3\", \"4\", \"5\", \"6\", \"7\", \"8\", \"9\", \"10\", \"11\", \"12\", \"13\", \"14\", \"15\", \"16\", \"17\", \"18\", \"19\", \"20\", \"21\", \"22\", \"23\", \"24\", \"25\", \"26\", \"27\", \"28\", \"29\", \"30\", \"31\", \"32\", \"33\", \"34\", \"35\", \"36\", \"37\", \"38\", \"39\", \"40\", \"41\", \"42\", \"43\", \"44\", \"45\", \"46\", \"47\", \"48\", \"49\", \"50\", \"51\", \"52\", \"53\", \"54\", \"55\", \"56\", \"58\"], \"mode\": \"lines\", \"name\": \"AUC_micro_max\", \"stepped\": true, \"type\": \"scatter\", \"data\": [0.7226992303424122, 0.723410984812761, 0.7513018377313766, 0.7513018377313766, 0.7614150877408078, 0.7614150877408078, 0.7614150877408078, 0.7614150877408078, 0.7614150877408078, 0.7614150877408078, 0.7614150877408078, 0.7614150877408078, 0.7614150877408078, 0.7614150877408078, 0.7614150877408078, 0.7614150877408078, 0.7614150877408078, 0.7614150877408078, 0.7614150877408078, 0.7614150877408078, 0.7614150877408078, 0.7614150877408078, 0.7614150877408078, 0.7614150877408078, 0.7614150877408078, 0.7614150877408078, 0.7614150877408078, 0.7614150877408078, 0.7614150877408078, 0.7614150877408078, 0.7614150877408078, 0.7614150877408078, 0.7614150877408078, 0.7614150877408078, 0.7614150877408078, 0.7614150877408078, 0.7614150877408078, 0.7614150877408078, 0.7614150877408078, 0.7614150877408078, 0.7614150877408078, 0.7814375416540917, 0.7814375416540917, 0.7814375416540917, 0.7814375416540917, 0.7814375416540917, 0.7814375416540917, 0.7814375416540917, 0.7814375416540917, 0.7814375416540917, 0.7814375416540917, 0.7814375416540917, 0.7814375416540917, 0.7814375416540917, 0.7814375416540917, 0.7814375416540917, 0.7814375416540917, 0.7869421691879182]}], \"precision_score_macro\": [{\"categories\": [\"0\", \"1\", \"2\", \"3\", \"4\", \"5\", \"6\", \"7\", \"8\", \"9\", \"10\", \"11\", \"12\", \"13\", \"14\", \"15\", \"16\", \"17\", \"18\", \"19\", \"20\", \"21\", \"22\", \"23\", \"24\", \"25\", \"26\", \"27\", \"28\", \"29\", \"30\", \"31\", \"32\", \"33\", \"34\", \"35\", \"36\", \"37\", \"38\", \"39\", \"40\", \"41\", \"42\", \"43\", \"44\", \"45\", \"46\", \"47\", \"48\", \"49\", \"50\", \"51\", \"52\", \"53\", \"54\", \"55\", \"56\", \"58\"], \"mode\": \"markers\", \"name\": \"precision_score_macro\", \"stepped\": false, \"type\": \"scatter\", \"data\": [0.6445151013203076, 0.6344895588411504, 0.6772474880640516, 0.675562387551952, 0.6859751719933944, 0.6917161280748237, 0.67658677317152, 0.6797344800793077, 0.6623150246940881, 0.6361156448291005, 0.689456557004994, 0.6519118381618382, 0.6721163150574916, 0.6442649954784512, 0.6939001929433549, 0.6436425062573543, 0.6354926550766131, 0.6851988371106018, 0.6213612387373163, 0.654937364481886, 0.685549944807816, 0.6964374514374514, 0.6701947018123489, 0.6739724736048266, 0.6307029706346667, 0.28579343971631205, 0.6869893773535954, 0.651719078231447, 0.6486238761238762, 0.6675873581953436, 0.2671764184397163, 0.683240008783487, 0.6927671320411792, 0.6613171338070531, 0.671098417836034, 0.28579343971631205, 0.6507542633758309, 0.6958766233766234, 0.6750496031746032, 0.669039407995796, 0.6800514723851417, 0.709569121558686, 0.6670096951176806, 0.6885363638101214, 0.6622796474358974, 0.28579343971631205, 0.6590899247416089, 0.6976677805625174, 0.697981159291456, 0.652332308392091, 0.6749449093521136, 0.7125813270550113, 0.6343143137007234, 0.6828680593599948, 0.6455638805638806, 0.28579343971631205, 0.6813487554112554, 0.7468130691464733]}, {\"categories\": [\"0\", \"1\", \"2\", \"3\", \"4\", \"5\", \"6\", \"7\", \"8\", \"9\", \"10\", \"11\", \"12\", \"13\", \"14\", \"15\", \"16\", \"17\", \"18\", \"19\", \"20\", \"21\", \"22\", \"23\", \"24\", \"25\", \"26\", \"27\", \"28\", \"29\", \"30\", \"31\", \"32\", \"33\", \"34\", \"35\", \"36\", \"37\", \"38\", \"39\", \"40\", \"41\", \"42\", \"43\", \"44\", \"45\", \"46\", \"47\", \"48\", \"49\", \"50\", \"51\", \"52\", \"53\", \"54\", \"55\", \"56\", \"58\"], \"mode\": \"lines\", \"name\": \"precision_score_macro_max\", \"stepped\": true, \"type\": \"scatter\", \"data\": [0.6445151013203076, 0.6445151013203076, 0.6772474880640516, 0.6772474880640516, 0.6859751719933944, 0.6917161280748237, 0.6917161280748237, 0.6917161280748237, 0.6917161280748237, 0.6917161280748237, 0.6917161280748237, 0.6917161280748237, 0.6917161280748237, 0.6917161280748237, 0.6939001929433549, 0.6939001929433549, 0.6939001929433549, 0.6939001929433549, 0.6939001929433549, 0.6939001929433549, 0.6939001929433549, 0.6964374514374514, 0.6964374514374514, 0.6964374514374514, 0.6964374514374514, 0.6964374514374514, 0.6964374514374514, 0.6964374514374514, 0.6964374514374514, 0.6964374514374514, 0.6964374514374514, 0.6964374514374514, 0.6964374514374514, 0.6964374514374514, 0.6964374514374514, 0.6964374514374514, 0.6964374514374514, 0.6964374514374514, 0.6964374514374514, 0.6964374514374514, 0.6964374514374514, 0.709569121558686, 0.709569121558686, 0.709569121558686, 0.709569121558686, 0.709569121558686, 0.709569121558686, 0.709569121558686, 0.709569121558686, 0.709569121558686, 0.709569121558686, 0.7125813270550113, 0.7125813270550113, 0.7125813270550113, 0.7125813270550113, 0.7125813270550113, 0.7125813270550113, 0.7468130691464733]}], \"norm_macro_recall\": [{\"categories\": [\"0\", \"1\", \"2\", \"3\", \"4\", \"5\", \"6\", \"7\", \"8\", \"9\", \"10\", \"11\", \"12\", \"13\", \"14\", \"15\", \"16\", \"17\", \"18\", \"19\", \"20\", \"21\", \"22\", \"23\", \"24\", \"25\", \"26\", \"27\", \"28\", \"29\", \"30\", \"31\", \"32\", \"33\", \"34\", \"35\", \"36\", \"37\", \"38\", \"39\", \"40\", \"41\", \"42\", \"43\", \"44\", \"45\", \"46\", \"47\", \"48\", \"49\", \"50\", \"51\", \"52\", \"53\", \"54\", \"55\", \"56\", \"58\"], \"mode\": \"markers\", \"name\": \"norm_macro_recall\", \"stepped\": false, \"type\": \"scatter\", \"data\": [0.28548821867787383, 0.2626245402107471, 0.34715464930982176, 0.30789729108694625, 0.37222263687780927, 0.39027790536411217, 0.34012478581444106, 0.3514200040062109, 0.3103710306296513, 0.2688607529124771, 0.3622535829432381, 0.3035370121577018, 0.2988077694974247, 0.2619361640913365, 0.3729786497027876, 0.2758663590560142, 0.2691271531788773, 0.3346683488924868, 0.21557821169890135, 0.30747858463375705, 0.3722986623848693, 0.3682639518846416, 0.3307847325088704, 0.294808209032347, 0.2575123790641031, 0.0, 0.36304232166301137, 0.3019836485353727, 0.3003124908297322, 0.33546252597976733, 0.0, 0.37076145438214403, 0.38065647634613153, 0.3171206507413404, 0.33589785055302296, 0.0, 0.30272731738248976, 0.3374133210340107, 0.3319452897039104, 0.3199864152450359, 0.33268422190835983, 0.4067401149297702, 0.31404412956137095, 0.352747061367751, 0.29959035217655905, 0.0, 0.3077554469795849, 0.38913272232237756, 0.35881119200084716, 0.30300652412721385, 0.3506415040897799, 0.3918714746300953, 0.25281565497082736, 0.3450822166339408, 0.2879808409980824, 0.0, 0.3162882615468822, 0.4737824755066134]}, {\"categories\": [\"0\", \"1\", \"2\", \"3\", \"4\", \"5\", \"6\", \"7\", \"8\", \"9\", \"10\", \"11\", \"12\", \"13\", \"14\", \"15\", \"16\", \"17\", \"18\", \"19\", \"20\", \"21\", \"22\", \"23\", \"24\", \"25\", \"26\", \"27\", \"28\", \"29\", \"30\", \"31\", \"32\", \"33\", \"34\", \"35\", \"36\", \"37\", \"38\", \"39\", \"40\", \"41\", \"42\", \"43\", \"44\", \"45\", \"46\", \"47\", \"48\", \"49\", \"50\", \"51\", \"52\", \"53\", \"54\", \"55\", \"56\", \"58\"], \"mode\": \"lines\", \"name\": \"norm_macro_recall_max\", \"stepped\": true, \"type\": \"scatter\", \"data\": [0.28548821867787383, 0.28548821867787383, 0.34715464930982176, 0.34715464930982176, 0.37222263687780927, 0.39027790536411217, 0.39027790536411217, 0.39027790536411217, 0.39027790536411217, 0.39027790536411217, 0.39027790536411217, 0.39027790536411217, 0.39027790536411217, 0.39027790536411217, 0.39027790536411217, 0.39027790536411217, 0.39027790536411217, 0.39027790536411217, 0.39027790536411217, 0.39027790536411217, 0.39027790536411217, 0.39027790536411217, 0.39027790536411217, 0.39027790536411217, 0.39027790536411217, 0.39027790536411217, 0.39027790536411217, 0.39027790536411217, 0.39027790536411217, 0.39027790536411217, 0.39027790536411217, 0.39027790536411217, 0.39027790536411217, 0.39027790536411217, 0.39027790536411217, 0.39027790536411217, 0.39027790536411217, 0.39027790536411217, 0.39027790536411217, 0.39027790536411217, 0.39027790536411217, 0.4067401149297702, 0.4067401149297702, 0.4067401149297702, 0.4067401149297702, 0.4067401149297702, 0.4067401149297702, 0.4067401149297702, 0.4067401149297702, 0.4067401149297702, 0.4067401149297702, 0.4067401149297702, 0.4067401149297702, 0.4067401149297702, 0.4067401149297702, 0.4067401149297702, 0.4067401149297702, 0.4737824755066134]}], \"balanced_accuracy\": [{\"categories\": [\"0\", \"1\", \"2\", \"3\", \"4\", \"5\", \"6\", \"7\", \"8\", \"9\", \"10\", \"11\", \"12\", \"13\", \"14\", \"15\", \"16\", \"17\", \"18\", \"19\", \"20\", \"21\", \"22\", \"23\", \"24\", \"25\", \"26\", \"27\", \"28\", \"29\", \"30\", \"31\", \"32\", \"33\", \"34\", \"35\", \"36\", \"37\", \"38\", \"39\", \"40\", \"41\", \"42\", \"43\", \"44\", \"45\", \"46\", \"47\", \"48\", \"49\", \"50\", \"51\", \"52\", \"53\", \"54\", \"55\", \"56\", \"58\"], \"mode\": \"markers\", \"name\": \"balanced_accuracy\", \"stepped\": false, \"type\": \"scatter\", \"data\": [0.642744109338937, 0.6313122701053736, 0.6735773246549108, 0.6539486455434731, 0.6861113184389047, 0.6951389526820562, 0.6700623929072205, 0.6757100020031055, 0.6551855153148256, 0.6344303764562385, 0.681126791471619, 0.6517685060788508, 0.6494038847487124, 0.6309680820456682, 0.6864893248513939, 0.6379331795280071, 0.6345635765894386, 0.6673341744462433, 0.6077891058494507, 0.6537392923168784, 0.6861493311924347, 0.6841319759423208, 0.6653923662544352, 0.6474041045161736, 0.6287561895320516, 0.5, 0.6815211608315057, 0.6509918242676864, 0.650156245414866, 0.6677312629898837, 0.5, 0.685380727191072, 0.6903282381730658, 0.6585603253706702, 0.6679489252765114, 0.5, 0.6513636586912449, 0.6687066605170053, 0.6659726448519552, 0.6599932076225179, 0.6663421109541798, 0.7033700574648851, 0.6570220647806855, 0.6763735306838755, 0.6497951760882795, 0.5, 0.6538777234897925, 0.6945663611611888, 0.6794055960004235, 0.6515032620636069, 0.67532075204489, 0.6959357373150477, 0.6264078274854137, 0.6725411083169703, 0.6439904204990412, 0.5, 0.658144130773441, 0.7368912377533068]}, {\"categories\": [\"0\", \"1\", \"2\", \"3\", \"4\", \"5\", \"6\", \"7\", \"8\", \"9\", \"10\", \"11\", \"12\", \"13\", \"14\", \"15\", \"16\", \"17\", \"18\", \"19\", \"20\", \"21\", \"22\", \"23\", \"24\", \"25\", \"26\", \"27\", \"28\", \"29\", \"30\", \"31\", \"32\", \"33\", \"34\", \"35\", \"36\", \"37\", \"38\", \"39\", \"40\", \"41\", \"42\", \"43\", \"44\", \"45\", \"46\", \"47\", \"48\", \"49\", \"50\", \"51\", \"52\", \"53\", \"54\", \"55\", \"56\", \"58\"], \"mode\": \"lines\", \"name\": \"balanced_accuracy_max\", \"stepped\": true, \"type\": \"scatter\", \"data\": [0.642744109338937, 0.642744109338937, 0.6735773246549108, 0.6735773246549108, 0.6861113184389047, 0.6951389526820562, 0.6951389526820562, 0.6951389526820562, 0.6951389526820562, 0.6951389526820562, 0.6951389526820562, 0.6951389526820562, 0.6951389526820562, 0.6951389526820562, 0.6951389526820562, 0.6951389526820562, 0.6951389526820562, 0.6951389526820562, 0.6951389526820562, 0.6951389526820562, 0.6951389526820562, 0.6951389526820562, 0.6951389526820562, 0.6951389526820562, 0.6951389526820562, 0.6951389526820562, 0.6951389526820562, 0.6951389526820562, 0.6951389526820562, 0.6951389526820562, 0.6951389526820562, 0.6951389526820562, 0.6951389526820562, 0.6951389526820562, 0.6951389526820562, 0.6951389526820562, 0.6951389526820562, 0.6951389526820562, 0.6951389526820562, 0.6951389526820562, 0.6951389526820562, 0.7033700574648851, 0.7033700574648851, 0.7033700574648851, 0.7033700574648851, 0.7033700574648851, 0.7033700574648851, 0.7033700574648851, 0.7033700574648851, 0.7033700574648851, 0.7033700574648851, 0.7033700574648851, 0.7033700574648851, 0.7033700574648851, 0.7033700574648851, 0.7033700574648851, 0.7033700574648851, 0.7368912377533068]}], \"f1_score_macro\": [{\"categories\": [\"0\", \"1\", \"2\", \"3\", \"4\", \"5\", \"6\", \"7\", \"8\", \"9\", \"10\", \"11\", \"12\", \"13\", \"14\", \"15\", \"16\", \"17\", \"18\", \"19\", \"20\", \"21\", \"22\", \"23\", \"24\", \"25\", \"26\", \"27\", \"28\", \"29\", \"30\", \"31\", \"32\", \"33\", \"34\", \"35\", \"36\", \"37\", \"38\", \"39\", \"40\", \"41\", \"42\", \"43\", \"44\", \"45\", \"46\", \"47\", \"48\", \"49\", \"50\", \"51\", \"52\", \"53\", \"54\", \"55\", \"56\", \"58\"], \"mode\": \"markers\", \"name\": \"f1_score_macro\", \"stepped\": false, \"type\": \"scatter\", \"data\": [0.6403321462032896, 0.6299865979754455, 0.672958218681903, 0.6507216448351235, 0.6823517058768167, 0.6863883782210376, 0.6698419603339891, 0.6744556335502033, 0.6562697462557255, 0.6326231961406381, 0.681567979923243, 0.649405450439285, 0.6481525356774609, 0.6285604096808615, 0.6870738016938333, 0.6370938846387932, 0.6330388474737082, 0.6663064105478665, 0.6043647783015103, 0.651979960010675, 0.6823661028145882, 0.6830094340687561, 0.6661037490682501, 0.6450184488776374, 0.6253935697222226, 0.36348988678657024, 0.6801923456218222, 0.6489110334929258, 0.6429785639892023, 0.6624980653587396, 0.3469005362419958, 0.6798479181876834, 0.6902696558036503, 0.6572501704080651, 0.6674469256706099, 0.36348988678657024, 0.6491609791609791, 0.6680521126511241, 0.6664983580581293, 0.6611446869859294, 0.6661236652509205, 0.7041044833807991, 0.6523512204268715, 0.6760113430742135, 0.6489221489694523, 0.36348988678657024, 0.6539332021516671, 0.6946494768135054, 0.6781205929043319, 0.6493856143856144, 0.6606961933709654, 0.6951030360040172, 0.6246732344531519, 0.6687651919424035, 0.6363131886229713, 0.36348988678657024, 0.6563523037543599, 0.7373953985796091]}, {\"categories\": [\"0\", \"1\", \"2\", \"3\", \"4\", \"5\", \"6\", \"7\", \"8\", \"9\", \"10\", \"11\", \"12\", \"13\", \"14\", \"15\", \"16\", \"17\", \"18\", \"19\", \"20\", \"21\", \"22\", \"23\", \"24\", \"25\", \"26\", \"27\", \"28\", \"29\", \"30\", \"31\", \"32\", \"33\", \"34\", \"35\", \"36\", \"37\", \"38\", \"39\", \"40\", \"41\", \"42\", \"43\", \"44\", \"45\", \"46\", \"47\", \"48\", \"49\", \"50\", \"51\", \"52\", \"53\", \"54\", \"55\", \"56\", \"58\"], \"mode\": \"lines\", \"name\": \"f1_score_macro_max\", \"stepped\": true, \"type\": \"scatter\", \"data\": [0.6403321462032896, 0.6403321462032896, 0.672958218681903, 0.672958218681903, 0.6823517058768167, 0.6863883782210376, 0.6863883782210376, 0.6863883782210376, 0.6863883782210376, 0.6863883782210376, 0.6863883782210376, 0.6863883782210376, 0.6863883782210376, 0.6863883782210376, 0.6870738016938333, 0.6870738016938333, 0.6870738016938333, 0.6870738016938333, 0.6870738016938333, 0.6870738016938333, 0.6870738016938333, 0.6870738016938333, 0.6870738016938333, 0.6870738016938333, 0.6870738016938333, 0.6870738016938333, 0.6870738016938333, 0.6870738016938333, 0.6870738016938333, 0.6870738016938333, 0.6870738016938333, 0.6870738016938333, 0.6902696558036503, 0.6902696558036503, 0.6902696558036503, 0.6902696558036503, 0.6902696558036503, 0.6902696558036503, 0.6902696558036503, 0.6902696558036503, 0.6902696558036503, 0.7041044833807991, 0.7041044833807991, 0.7041044833807991, 0.7041044833807991, 0.7041044833807991, 0.7041044833807991, 0.7041044833807991, 0.7041044833807991, 0.7041044833807991, 0.7041044833807991, 0.7041044833807991, 0.7041044833807991, 0.7041044833807991, 0.7041044833807991, 0.7041044833807991, 0.7041044833807991, 0.7373953985796091]}], \"log_loss\": [{\"categories\": [\"0\", \"1\", \"2\", \"3\", \"4\", \"5\", \"6\", \"7\", \"8\", \"9\", \"10\", \"11\", \"12\", \"13\", \"14\", \"15\", \"16\", \"17\", \"18\", \"19\", \"20\", \"21\", \"22\", \"23\", \"24\", \"25\", \"26\", \"27\", \"28\", \"29\", \"30\", \"31\", \"32\", \"33\", \"34\", \"35\", \"36\", \"37\", \"38\", \"39\", \"40\", \"41\", \"42\", \"43\", \"44\", \"45\", \"46\", \"47\", \"48\", \"49\", \"50\", \"51\", \"52\", \"53\", \"54\", \"55\", \"56\", \"58\"], \"mode\": \"markers\", \"name\": \"log_loss\", \"stepped\": false, \"type\": \"scatter\", \"data\": [0.6478435881783974, 0.6592954210521269, 0.5822688557558785, 0.6157518753923767, 0.5760714847255646, 0.5950814823137025, 0.5974876437124922, 0.7421057667749479, 0.7525766841230865, 0.6181147713017742, 0.6003038493138662, 0.5919699194812985, 0.6207616096640584, 0.6155951681877199, 0.5866929623042534, 0.5995919091601841, 0.5875703174819991, 0.6021064475690304, 0.6208437540482746, 0.598005971693341, 0.5871228025228299, 0.6110964785317586, 0.7981555017587998, 0.6037617724795894, 0.6862571220684877, 0.6835878021987332, 0.6205120528887473, 0.6172710736857324, 0.6266723937799201, 0.5999471465528182, 0.6958014374490906, 0.5970139016829653, 0.5916465314338881, 0.6396809980235957, 0.628444478402424, 0.6840481679159826, 0.6010585100428235, 0.5961883268859491, 0.6405505138161006, 0.8718514826032142, 0.5905882387235213, 0.5686223838436829, 0.594374542557083, 0.6013179380787059, 0.6048604555166021, 0.6118536807088439, 0.6313739688489242, 0.5908957122618398, 0.5710035564778562, 0.6248824316323618, 0.6131409131532845, 0.5906911828907042, 0.6125744953959736, 0.579035841129711, 0.6193141419081369, 0.6118756535959613, 0.606385579948711, 0.5676111827808709]}, {\"categories\": [\"0\", \"1\", \"2\", \"3\", \"4\", \"5\", \"6\", \"7\", \"8\", \"9\", \"10\", \"11\", \"12\", \"13\", \"14\", \"15\", \"16\", \"17\", \"18\", \"19\", \"20\", \"21\", \"22\", \"23\", \"24\", \"25\", \"26\", \"27\", \"28\", \"29\", \"30\", \"31\", \"32\", \"33\", \"34\", \"35\", \"36\", \"37\", \"38\", \"39\", \"40\", \"41\", \"42\", \"43\", \"44\", \"45\", \"46\", \"47\", \"48\", \"49\", \"50\", \"51\", \"52\", \"53\", \"54\", \"55\", \"56\", \"58\"], \"mode\": \"lines\", \"name\": \"log_loss_min\", \"stepped\": true, \"type\": \"scatter\", \"data\": [0.6478435881783974, 0.6478435881783974, 0.5822688557558785, 0.5822688557558785, 0.5760714847255646, 0.5760714847255646, 0.5760714847255646, 0.5760714847255646, 0.5760714847255646, 0.5760714847255646, 0.5760714847255646, 0.5760714847255646, 0.5760714847255646, 0.5760714847255646, 0.5760714847255646, 0.5760714847255646, 0.5760714847255646, 0.5760714847255646, 0.5760714847255646, 0.5760714847255646, 0.5760714847255646, 0.5760714847255646, 0.5760714847255646, 0.5760714847255646, 0.5760714847255646, 0.5760714847255646, 0.5760714847255646, 0.5760714847255646, 0.5760714847255646, 0.5760714847255646, 0.5760714847255646, 0.5760714847255646, 0.5760714847255646, 0.5760714847255646, 0.5760714847255646, 0.5760714847255646, 0.5760714847255646, 0.5760714847255646, 0.5760714847255646, 0.5760714847255646, 0.5760714847255646, 0.5686223838436829, 0.5686223838436829, 0.5686223838436829, 0.5686223838436829, 0.5686223838436829, 0.5686223838436829, 0.5686223838436829, 0.5686223838436829, 0.5686223838436829, 0.5686223838436829, 0.5686223838436829, 0.5686223838436829, 0.5686223838436829, 0.5686223838436829, 0.5686223838436829, 0.5686223838436829, 0.5676111827808709]}], \"precision_score_micro\": [{\"categories\": [\"0\", \"1\", \"2\", \"3\", \"4\", \"5\", \"6\", \"7\", \"8\", \"9\", \"10\", \"11\", \"12\", \"13\", \"14\", \"15\", \"16\", \"17\", \"18\", \"19\", \"20\", \"21\", \"22\", \"23\", \"24\", \"25\", \"26\", \"27\", \"28\", \"29\", \"30\", \"31\", \"32\", \"33\", \"34\", \"35\", \"36\", \"37\", \"38\", \"39\", \"40\", \"41\", \"42\", \"43\", \"44\", \"45\", \"46\", \"47\", \"48\", \"49\", \"50\", \"51\", \"52\", \"53\", \"54\", \"55\", \"56\", \"58\"], \"mode\": \"markers\", \"name\": \"precision_score_micro\", \"stepped\": false, \"type\": \"scatter\", \"data\": [0.650820035460993, 0.6399601063829787, 0.6821808510638299, 0.6716533687943262, 0.6879432624113475, 0.6875, 0.6824024822695036, 0.6821808510638299, 0.6717641843971631, 0.6396276595744681, 0.6927083333333333, 0.6555851063829787, 0.666445035460993, 0.645279255319149, 0.6980274822695035, 0.6508200354609929, 0.6399601063829787, 0.6824024822695035, 0.6240026595744681, 0.6610150709219857, 0.6873891843971631, 0.6930407801418439, 0.6771941489361702, 0.666445035460993, 0.6346409574468085, 0.5715868794326241, 0.6877216312056738, 0.6554742907801419, 0.6449468085106382, 0.6665558510638299, 0.5343528368794326, 0.6825132978723405, 0.6980274822695036, 0.6664450354609929, 0.6770833333333333, 0.5715868794326241, 0.6558067375886525, 0.682070035460993, 0.6822916666666667, 0.6770833333333334, 0.6821808510638299, 0.7136524822695036, 0.6612367021276596, 0.6875, 0.660904255319149, 0.5715868794326241, 0.6666666666666667, 0.7036790780141844, 0.6929299645390071, 0.6558067375886525, 0.6610150709219857, 0.7088874113475178, 0.6401817375886525, 0.6770833333333334, 0.6398492907801419, 0.5715868794326241, 0.6771941489361702, 0.7457890070921986]}, {\"categories\": [\"0\", \"1\", \"2\", \"3\", \"4\", \"5\", \"6\", \"7\", \"8\", \"9\", \"10\", \"11\", \"12\", \"13\", \"14\", \"15\", \"16\", \"17\", \"18\", \"19\", \"20\", \"21\", \"22\", \"23\", \"24\", \"25\", \"26\", \"27\", \"28\", \"29\", \"30\", \"31\", \"32\", \"33\", \"34\", \"35\", \"36\", \"37\", \"38\", \"39\", \"40\", \"41\", \"42\", \"43\", \"44\", \"45\", \"46\", \"47\", \"48\", \"49\", \"50\", \"51\", \"52\", \"53\", \"54\", \"55\", \"56\", \"58\"], \"mode\": \"lines\", \"name\": \"precision_score_micro_max\", \"stepped\": true, \"type\": \"scatter\", \"data\": [0.650820035460993, 0.650820035460993, 0.6821808510638299, 0.6821808510638299, 0.6879432624113475, 0.6879432624113475, 0.6879432624113475, 0.6879432624113475, 0.6879432624113475, 0.6879432624113475, 0.6927083333333333, 0.6927083333333333, 0.6927083333333333, 0.6927083333333333, 0.6980274822695035, 0.6980274822695035, 0.6980274822695035, 0.6980274822695035, 0.6980274822695035, 0.6980274822695035, 0.6980274822695035, 0.6980274822695035, 0.6980274822695035, 0.6980274822695035, 0.6980274822695035, 0.6980274822695035, 0.6980274822695035, 0.6980274822695035, 0.6980274822695035, 0.6980274822695035, 0.6980274822695035, 0.6980274822695035, 0.6980274822695036, 0.6980274822695036, 0.6980274822695036, 0.6980274822695036, 0.6980274822695036, 0.6980274822695036, 0.6980274822695036, 0.6980274822695036, 0.6980274822695036, 0.7136524822695036, 0.7136524822695036, 0.7136524822695036, 0.7136524822695036, 0.7136524822695036, 0.7136524822695036, 0.7136524822695036, 0.7136524822695036, 0.7136524822695036, 0.7136524822695036, 0.7136524822695036, 0.7136524822695036, 0.7136524822695036, 0.7136524822695036, 0.7136524822695036, 0.7136524822695036, 0.7457890070921986]}], \"average_precision_score_micro\": [{\"categories\": [\"0\", \"1\", \"2\", \"3\", \"4\", \"5\", \"6\", \"7\", \"8\", \"9\", \"10\", \"11\", \"12\", \"13\", \"14\", \"15\", \"16\", \"17\", \"18\", \"19\", \"20\", \"21\", \"22\", \"23\", \"24\", \"25\", \"26\", \"27\", \"28\", \"29\", \"30\", \"31\", \"32\", \"33\", \"34\", \"35\", \"36\", \"37\", \"38\", \"39\", \"40\", \"41\", \"42\", \"43\", \"44\", \"45\", \"46\", \"47\", \"48\", \"49\", \"50\", \"51\", \"52\", \"53\", \"54\", \"55\", \"56\", \"58\"], \"mode\": \"markers\", \"name\": \"average_precision_score_micro\", \"stepped\": false, \"type\": \"scatter\", \"data\": [0.7411071102230884, 0.7395503533828934, 0.7601341788589502, 0.7232853371366736, 0.7732879458043125, 0.7605669996667114, 0.7693343947513348, 0.7264677433567548, 0.7321647523423902, 0.7386140831329293, 0.7570215691037689, 0.7595548068622597, 0.7222395835449138, 0.7317141892239925, 0.7617231796563779, 0.7490215796276704, 0.7623469679368425, 0.7448382421328132, 0.7275586617762225, 0.7507710934738684, 0.768987415514284, 0.7452456402583916, 0.7420008396895627, 0.7604338008243885, 0.7036934155296957, 0.5417446698480962, 0.7310650096338863, 0.7360565827592459, 0.7403168282584277, 0.7438066262878662, 0.5231276485715004, 0.7603767907622916, 0.7629201187316004, 0.7213221402648673, 0.7498021595892175, 0.5417446698480962, 0.7508147835383552, 0.7546707077250279, 0.7542449142014067, 0.7435258187558664, 0.7516441719072825, 0.7919116334491905, 0.7553232519049599, 0.7573605920851156, 0.7346011955553566, 0.7127790066406189, 0.7263011916181903, 0.7551378305911831, 0.7872519103552232, 0.7226110099851326, 0.7471339475902374, 0.748788965624512, 0.7464620382813306, 0.7714814251145167, 0.7220145301543548, 0.7127790066406189, 0.760924770906015, 0.7931578028154541]}, {\"categories\": [\"0\", \"1\", \"2\", \"3\", \"4\", \"5\", \"6\", \"7\", \"8\", \"9\", \"10\", \"11\", \"12\", \"13\", \"14\", \"15\", \"16\", \"17\", \"18\", \"19\", \"20\", \"21\", \"22\", \"23\", \"24\", \"25\", \"26\", \"27\", \"28\", \"29\", \"30\", \"31\", \"32\", \"33\", \"34\", \"35\", \"36\", \"37\", \"38\", \"39\", \"40\", \"41\", \"42\", \"43\", \"44\", \"45\", \"46\", \"47\", \"48\", \"49\", \"50\", \"51\", \"52\", \"53\", \"54\", \"55\", \"56\", \"58\"], \"mode\": \"lines\", \"name\": \"average_precision_score_micro_max\", \"stepped\": true, \"type\": \"scatter\", \"data\": [0.7411071102230884, 0.7411071102230884, 0.7601341788589502, 0.7601341788589502, 0.7732879458043125, 0.7732879458043125, 0.7732879458043125, 0.7732879458043125, 0.7732879458043125, 0.7732879458043125, 0.7732879458043125, 0.7732879458043125, 0.7732879458043125, 0.7732879458043125, 0.7732879458043125, 0.7732879458043125, 0.7732879458043125, 0.7732879458043125, 0.7732879458043125, 0.7732879458043125, 0.7732879458043125, 0.7732879458043125, 0.7732879458043125, 0.7732879458043125, 0.7732879458043125, 0.7732879458043125, 0.7732879458043125, 0.7732879458043125, 0.7732879458043125, 0.7732879458043125, 0.7732879458043125, 0.7732879458043125, 0.7732879458043125, 0.7732879458043125, 0.7732879458043125, 0.7732879458043125, 0.7732879458043125, 0.7732879458043125, 0.7732879458043125, 0.7732879458043125, 0.7732879458043125, 0.7919116334491905, 0.7919116334491905, 0.7919116334491905, 0.7919116334491905, 0.7919116334491905, 0.7919116334491905, 0.7919116334491905, 0.7919116334491905, 0.7919116334491905, 0.7919116334491905, 0.7919116334491905, 0.7919116334491905, 0.7919116334491905, 0.7919116334491905, 0.7919116334491905, 0.7919116334491905, 0.7931578028154541]}], \"precision_score_weighted\": [{\"categories\": [\"0\", \"1\", \"2\", \"3\", \"4\", \"5\", \"6\", \"7\", \"8\", \"9\", \"10\", \"11\", \"12\", \"13\", \"14\", \"15\", \"16\", \"17\", \"18\", \"19\", \"20\", \"21\", \"22\", \"23\", \"24\", \"25\", \"26\", \"27\", \"28\", \"29\", \"30\", \"31\", \"32\", \"33\", \"34\", \"35\", \"36\", \"37\", \"38\", \"39\", \"40\", \"41\", \"42\", \"43\", \"44\", \"45\", \"46\", \"47\", \"48\", \"49\", \"50\", \"51\", \"52\", \"53\", \"54\", \"55\", \"56\", \"58\"], \"mode\": \"markers\", \"name\": \"precision_score_weighted\", \"stepped\": false, \"type\": \"scatter\", \"data\": [0.654008584245969, 0.6441555706504023, 0.6850786408111355, 0.6802752148301344, 0.695406286431821, 0.7047224874326516, 0.6836791012344375, 0.6880823980915691, 0.668750509722366, 0.6461212780940284, 0.6959581716767189, 0.6623388136686008, 0.6773542201436444, 0.651766625552472, 0.7002249434163721, 0.6513780982487541, 0.6450987592295263, 0.6903982378466107, 0.6287979783829931, 0.6646642768111144, 0.6955654618038187, 0.7031032924915903, 0.6774043385615142, 0.6781654485307489, 0.640241620826755, 0.3275381095644082, 0.6951530731311998, 0.6618563289238988, 0.6607866070100112, 0.6782558019556997, 0.2903040670112167, 0.6944339673329035, 0.7006816831749739, 0.6703333827291446, 0.679464786347197, 0.3275381095644082, 0.6611225609699549, 0.700576855177919, 0.6811565396450149, 0.675016911272691, 0.6860591721197042, 0.7161373362892844, 0.6752111515706237, 0.6957410711989448, 0.6695344922696983, 0.3275381095644082, 0.6663240295458239, 0.7049941268656275, 0.7030239706482266, 0.6621516624072128, 0.6895450008843012, 0.716767913093501, 0.6424534693855721, 0.6907631114845747, 0.6570506926092032, 0.3275381095644082, 0.6856047749531793, 0.7520840535178757]}, {\"categories\": [\"0\", \"1\", \"2\", \"3\", \"4\", \"5\", \"6\", \"7\", \"8\", \"9\", \"10\", \"11\", \"12\", \"13\", \"14\", \"15\", \"16\", \"17\", \"18\", \"19\", \"20\", \"21\", \"22\", \"23\", \"24\", \"25\", \"26\", \"27\", \"28\", \"29\", \"30\", \"31\", \"32\", \"33\", \"34\", \"35\", \"36\", \"37\", \"38\", \"39\", \"40\", \"41\", \"42\", \"43\", \"44\", \"45\", \"46\", \"47\", \"48\", \"49\", \"50\", \"51\", \"52\", \"53\", \"54\", \"55\", \"56\", \"58\"], \"mode\": \"lines\", \"name\": \"precision_score_weighted_max\", \"stepped\": true, \"type\": \"scatter\", \"data\": [0.654008584245969, 0.654008584245969, 0.6850786408111355, 0.6850786408111355, 0.695406286431821, 0.7047224874326516, 0.7047224874326516, 0.7047224874326516, 0.7047224874326516, 0.7047224874326516, 0.7047224874326516, 0.7047224874326516, 0.7047224874326516, 0.7047224874326516, 0.7047224874326516, 0.7047224874326516, 0.7047224874326516, 0.7047224874326516, 0.7047224874326516, 0.7047224874326516, 0.7047224874326516, 0.7047224874326516, 0.7047224874326516, 0.7047224874326516, 0.7047224874326516, 0.7047224874326516, 0.7047224874326516, 0.7047224874326516, 0.7047224874326516, 0.7047224874326516, 0.7047224874326516, 0.7047224874326516, 0.7047224874326516, 0.7047224874326516, 0.7047224874326516, 0.7047224874326516, 0.7047224874326516, 0.7047224874326516, 0.7047224874326516, 0.7047224874326516, 0.7047224874326516, 0.7161373362892844, 0.7161373362892844, 0.7161373362892844, 0.7161373362892844, 0.7161373362892844, 0.7161373362892844, 0.7161373362892844, 0.7161373362892844, 0.7161373362892844, 0.7161373362892844, 0.716767913093501, 0.716767913093501, 0.716767913093501, 0.716767913093501, 0.716767913093501, 0.716767913093501, 0.7520840535178757]}], \"recall_score_macro\": [{\"categories\": [\"0\", \"1\", \"2\", \"3\", \"4\", \"5\", \"6\", \"7\", \"8\", \"9\", \"10\", \"11\", \"12\", \"13\", \"14\", \"15\", \"16\", \"17\", \"18\", \"19\", \"20\", \"21\", \"22\", \"23\", \"24\", \"25\", \"26\", \"27\", \"28\", \"29\", \"30\", \"31\", \"32\", \"33\", \"34\", \"35\", \"36\", \"37\", \"38\", \"39\", \"40\", \"41\", \"42\", \"43\", \"44\", \"45\", \"46\", \"47\", \"48\", \"49\", \"50\", \"51\", \"52\", \"53\", \"54\", \"55\", \"56\", \"58\"], \"mode\": \"markers\", \"name\": \"recall_score_macro\", \"stepped\": false, \"type\": \"scatter\", \"data\": [0.642744109338937, 0.6313122701053736, 0.6735773246549108, 0.6539486455434731, 0.6861113184389047, 0.6951389526820562, 0.6700623929072205, 0.6757100020031055, 0.6551855153148256, 0.6344303764562385, 0.681126791471619, 0.6517685060788508, 0.6494038847487124, 0.6309680820456682, 0.6864893248513939, 0.6379331795280071, 0.6345635765894386, 0.6673341744462433, 0.6077891058494507, 0.6537392923168784, 0.6861493311924347, 0.6841319759423208, 0.6653923662544352, 0.6474041045161736, 0.6287561895320516, 0.5, 0.6815211608315057, 0.6509918242676864, 0.650156245414866, 0.6677312629898837, 0.5, 0.685380727191072, 0.6903282381730658, 0.6585603253706702, 0.6679489252765114, 0.5, 0.6513636586912449, 0.6687066605170053, 0.6659726448519552, 0.6599932076225179, 0.6663421109541798, 0.7033700574648851, 0.6570220647806855, 0.6763735306838755, 0.6497951760882795, 0.5, 0.6538777234897925, 0.6945663611611888, 0.6794055960004235, 0.6515032620636069, 0.67532075204489, 0.6959357373150477, 0.6264078274854137, 0.6725411083169703, 0.6439904204990412, 0.5, 0.658144130773441, 0.7368912377533068]}, {\"categories\": [\"0\", \"1\", \"2\", \"3\", \"4\", \"5\", \"6\", \"7\", \"8\", \"9\", \"10\", \"11\", \"12\", \"13\", \"14\", \"15\", \"16\", \"17\", \"18\", \"19\", \"20\", \"21\", \"22\", \"23\", \"24\", \"25\", \"26\", \"27\", \"28\", \"29\", \"30\", \"31\", \"32\", \"33\", \"34\", \"35\", \"36\", \"37\", \"38\", \"39\", \"40\", \"41\", \"42\", \"43\", \"44\", \"45\", \"46\", \"47\", \"48\", \"49\", \"50\", \"51\", \"52\", \"53\", \"54\", \"55\", \"56\", \"58\"], \"mode\": \"lines\", \"name\": \"recall_score_macro_max\", \"stepped\": true, \"type\": \"scatter\", \"data\": [0.642744109338937, 0.642744109338937, 0.6735773246549108, 0.6735773246549108, 0.6861113184389047, 0.6951389526820562, 0.6951389526820562, 0.6951389526820562, 0.6951389526820562, 0.6951389526820562, 0.6951389526820562, 0.6951389526820562, 0.6951389526820562, 0.6951389526820562, 0.6951389526820562, 0.6951389526820562, 0.6951389526820562, 0.6951389526820562, 0.6951389526820562, 0.6951389526820562, 0.6951389526820562, 0.6951389526820562, 0.6951389526820562, 0.6951389526820562, 0.6951389526820562, 0.6951389526820562, 0.6951389526820562, 0.6951389526820562, 0.6951389526820562, 0.6951389526820562, 0.6951389526820562, 0.6951389526820562, 0.6951389526820562, 0.6951389526820562, 0.6951389526820562, 0.6951389526820562, 0.6951389526820562, 0.6951389526820562, 0.6951389526820562, 0.6951389526820562, 0.6951389526820562, 0.7033700574648851, 0.7033700574648851, 0.7033700574648851, 0.7033700574648851, 0.7033700574648851, 0.7033700574648851, 0.7033700574648851, 0.7033700574648851, 0.7033700574648851, 0.7033700574648851, 0.7033700574648851, 0.7033700574648851, 0.7033700574648851, 0.7033700574648851, 0.7033700574648851, 0.7033700574648851, 0.7368912377533068]}]}, \"metricName\": null, \"primaryMetricName\": \"accuracy\", \"showLegend\": false}, \"run_metrics\": [{\"name\": \"experiment_status\", \"run_id\": \"AutoML_2886a22c-d991-455c-93ec-194bd8969aaf\", \"categories\": [0, 1, 2, 3, 4, 5, 6, 7, 8, 9, 10, 11, 12, 13], \"series\": [{\"data\": [\"DatasetEvaluation\", \"FeaturesGeneration\", \"DatasetFeaturization\", \"DatasetFeaturizationCompleted\", \"DatasetCrossValidationSplit\", \"ModelSelection\", \"BestRunExplainModel\", \"ModelExplanationDataSetSetup\", \"PickSurrogateModel\", \"EngineeredFeatureExplanations\", \"EngineeredFeatureExplanations\", \"RawFeaturesExplanations\", \"RawFeaturesExplanations\", \"BestRunExplainModel\"]}]}, {\"name\": \"experiment_status_description\", \"run_id\": \"AutoML_2886a22c-d991-455c-93ec-194bd8969aaf\", \"categories\": [0, 1, 2, 3, 4, 5, 6, 7, 8, 9, 10, 11, 12, 13], \"series\": [{\"data\": [\"Gathering dataset statistics.\", \"Generating features for the dataset.\", \"Beginning to fit featurizers and featurize the dataset.\", \"Completed fit featurizers and featurizing the dataset.\", \"Generating individually featurized CV splits.\", \"Beginning model selection.\", \"Best run model explanations started\", \"Model explanations data setup completed\", \"Choosing LightGBM as the surrogate model for explanations\", \"Computation of engineered features started\", \"Computation of engineered features completed\", \"Computation of raw features started\", \"Computation of raw features completed\", \"Best run model explanations completed\"]}]}, {\"name\": \"matthews_correlation\", \"run_id\": \"AutoML_2886a22c-d991-455c-93ec-194bd8969aaf\", \"categories\": [0], \"series\": [{\"data\": [0.48345758185324794]}]}, {\"name\": \"average_precision_score_micro\", \"run_id\": \"AutoML_2886a22c-d991-455c-93ec-194bd8969aaf\", \"categories\": [0], \"series\": [{\"data\": [0.7931578028154541]}]}, {\"name\": \"precision_score_micro\", \"run_id\": \"AutoML_2886a22c-d991-455c-93ec-194bd8969aaf\", \"categories\": [0], \"series\": [{\"data\": [0.7457890070921986]}]}, {\"name\": \"precision_score_macro\", \"run_id\": \"AutoML_2886a22c-d991-455c-93ec-194bd8969aaf\", \"categories\": [0], \"series\": [{\"data\": [0.7468130691464733]}]}, {\"name\": \"recall_score_weighted\", \"run_id\": \"AutoML_2886a22c-d991-455c-93ec-194bd8969aaf\", \"categories\": [0], \"series\": [{\"data\": [0.7457890070921986]}]}, {\"name\": \"average_precision_score_weighted\", \"run_id\": \"AutoML_2886a22c-d991-455c-93ec-194bd8969aaf\", \"categories\": [0], \"series\": [{\"data\": [0.79666626792115]}]}, {\"name\": \"precision_score_weighted\", \"run_id\": \"AutoML_2886a22c-d991-455c-93ec-194bd8969aaf\", \"categories\": [0], \"series\": [{\"data\": [0.7520840535178757]}]}, {\"name\": \"recall_score_micro\", \"run_id\": \"AutoML_2886a22c-d991-455c-93ec-194bd8969aaf\", \"categories\": [0], \"series\": [{\"data\": [0.7457890070921986]}]}, {\"name\": \"AUC_weighted\", \"run_id\": \"AutoML_2886a22c-d991-455c-93ec-194bd8969aaf\", \"categories\": [0], \"series\": [{\"data\": [0.7808941537389814]}]}, {\"name\": \"f1_score_macro\", \"run_id\": \"AutoML_2886a22c-d991-455c-93ec-194bd8969aaf\", \"categories\": [0], \"series\": [{\"data\": [0.7373953985796091]}]}, {\"name\": \"f1_score_weighted\", \"run_id\": \"AutoML_2886a22c-d991-455c-93ec-194bd8969aaf\", \"categories\": [0], \"series\": [{\"data\": [0.7446292948637574]}]}, {\"name\": \"balanced_accuracy\", \"run_id\": \"AutoML_2886a22c-d991-455c-93ec-194bd8969aaf\", \"categories\": [0], \"series\": [{\"data\": [0.7368912377533068]}]}, {\"name\": \"log_loss\", \"run_id\": \"AutoML_2886a22c-d991-455c-93ec-194bd8969aaf\", \"categories\": [0], \"series\": [{\"data\": [0.5676111827808709]}]}, {\"name\": \"average_precision_score_macro\", \"run_id\": \"AutoML_2886a22c-d991-455c-93ec-194bd8969aaf\", \"categories\": [0], \"series\": [{\"data\": [0.7874704802909486]}]}, {\"name\": \"AUC_macro\", \"run_id\": \"AutoML_2886a22c-d991-455c-93ec-194bd8969aaf\", \"categories\": [0], \"series\": [{\"data\": [0.7808941537389813]}]}, {\"name\": \"accuracy\", \"run_id\": \"AutoML_2886a22c-d991-455c-93ec-194bd8969aaf\", \"categories\": [0], \"series\": [{\"data\": [0.7457890070921986]}]}, {\"name\": \"AUC_micro\", \"run_id\": \"AutoML_2886a22c-d991-455c-93ec-194bd8969aaf\", \"categories\": [0], \"series\": [{\"data\": [0.7869421691879182]}]}, {\"name\": \"recall_score_macro\", \"run_id\": \"AutoML_2886a22c-d991-455c-93ec-194bd8969aaf\", \"categories\": [0], \"series\": [{\"data\": [0.7368912377533068]}]}, {\"name\": \"norm_macro_recall\", \"run_id\": \"AutoML_2886a22c-d991-455c-93ec-194bd8969aaf\", \"categories\": [0], \"series\": [{\"data\": [0.4737824755066134]}]}, {\"name\": \"f1_score_micro\", \"run_id\": \"AutoML_2886a22c-d991-455c-93ec-194bd8969aaf\", \"categories\": [0], \"series\": [{\"data\": [0.7457890070921986]}]}, {\"name\": \"weighted_accuracy\", \"run_id\": \"AutoML_2886a22c-d991-455c-93ec-194bd8969aaf\", \"categories\": [0], \"series\": [{\"data\": [0.7542348962912881]}]}], \"run_logs\": \"\\nRun is completed.\", \"graph\": {}, \"widget_settings\": {\"childWidgetDisplay\": \"popup\", \"send_telemetry\": false, \"log_level\": \"INFO\", \"sdk_version\": \"1.28.0\"}, \"loading\": false}"
     },
     "metadata": {},
     "output_type": "display_data"
    },
    {
     "data": {
      "text/html": [
       "<table style=\"width:100%\"><tr><th>Experiment</th><th>Id</th><th>Type</th><th>Status</th><th>Details Page</th><th>Docs Page</th></tr><tr><td>AR-Capstone-Automl</td><td>AutoML_2886a22c-d991-455c-93ec-194bd8969aaf</td><td>automl</td><td>Completed</td><td><a href=\"https://ml.azure.com/runs/AutoML_2886a22c-d991-455c-93ec-194bd8969aaf?wsid=/subscriptions/48a74bb7-9950-4cc1-9caa-5d50f995cc55/resourcegroups/aml-quickstarts-147168/workspaces/quick-starts-ws-147168&amp;tid=660b3398-b80e-49d2-bc5b-ac1dc93b5254\" target=\"_blank\" rel=\"noopener\">Link to Azure Machine Learning studio</a></td><td><a href=\"https://docs.microsoft.com/en-us/python/api/overview/azure/ml/intro?view=azure-ml-py\" target=\"_blank\" rel=\"noopener\">Link to Documentation</a></td></tr></table>"
      ],
      "text/plain": [
       "<IPython.core.display.HTML object>"
      ]
     },
     "metadata": {},
     "output_type": "display_data"
    },
    {
     "name": "stdout",
     "output_type": "stream",
     "text": [
      "\n",
      "\n",
      "****************************************************************************************************\n",
      "DATA GUARDRAILS: \n",
      "\n",
      "TYPE:         Class balancing detection\n",
      "STATUS:       PASSED\n",
      "DESCRIPTION:  Your inputs were analyzed, and all classes are balanced in your training data.\n",
      "              Learn more about imbalanced data: https://aka.ms/AutomatedMLImbalancedData\n",
      "\n",
      "****************************************************************************************************\n",
      "\n",
      "TYPE:         Missing feature values imputation\n",
      "STATUS:       PASSED\n",
      "DESCRIPTION:  No feature missing values were detected in the training data.\n",
      "              Learn more about missing value imputation: https://aka.ms/AutomatedMLFeaturization\n",
      "\n",
      "****************************************************************************************************\n",
      "\n",
      "TYPE:         High cardinality feature detection\n",
      "STATUS:       PASSED\n",
      "DESCRIPTION:  Your inputs were analyzed, and no high cardinality features were detected.\n",
      "              Learn more about high cardinality feature handling: https://aka.ms/AutomatedMLFeaturization\n",
      "\n",
      "****************************************************************************************************\n",
      "\n",
      "****************************************************************************************************\n",
      "ITERATION: The iteration being evaluated.\n",
      "PIPELINE: A summary description of the pipeline being evaluated.\n",
      "DURATION: Time taken for the current iteration.\n",
      "METRIC: The result of computing score on the fitted pipeline.\n",
      "BEST: The best observed score thus far.\n",
      "****************************************************************************************************\n",
      "\n",
      " ITERATION   PIPELINE                                       DURATION      METRIC      BEST\n",
      "         0   MaxAbsScaler LightGBM                          0:00:46       0.6508    0.6508\n",
      "         1   MaxAbsScaler XGBoostClassifier                 0:00:47       0.6400    0.6508\n",
      "         2   MaxAbsScaler RandomForest                      0:00:49       0.6822    0.6822\n",
      "         3   MaxAbsScaler RandomForest                      0:02:14       0.6717    0.6822\n",
      "         4   MaxAbsScaler RandomForest                      0:05:36       0.6879    0.6879\n",
      "         5   MaxAbsScaler RandomForest                      0:00:49       0.6875    0.6879\n",
      "         6   SparseNormalizer LightGBM                      0:05:21       0.6824    0.6879\n",
      "         7   SparseNormalizer XGBoostClassifier             0:00:51       0.6822    0.6879\n",
      "        10   StandardScalerWrapper RandomForest             0:00:46       0.6927    0.6927\n",
      "        11   MaxAbsScaler RandomForest                      0:00:54       0.6556    0.6927\n",
      "         8   MaxAbsScaler LogisticRegression                0:00:45       0.6718    0.6927\n",
      "         9   SparseNormalizer XGBoostClassifier             0:00:45       0.6396    0.6927\n",
      "        12   StandardScalerWrapper LightGBM                 0:00:47       0.6664    0.6927\n",
      "        13   MaxAbsScaler LightGBM                          0:00:48       0.6453    0.6927\n",
      "        14   MaxAbsScaler ExtremeRandomTrees                0:02:11       0.6980    0.6980\n",
      "        15   StandardScalerWrapper XGBoostClassifier        0:00:44       0.6508    0.6980\n",
      "        16   SparseNormalizer ExtremeRandomTrees            0:00:47       0.6400    0.6980\n",
      "        17   StandardScalerWrapper LightGBM                 0:00:47       0.6824    0.6980\n",
      "        18   SparseNormalizer LightGBM                      0:00:45       0.6240    0.6980\n",
      "        19   SparseNormalizer XGBoostClassifier             0:00:43       0.6610    0.6980\n",
      "        20   SparseNormalizer XGBoostClassifier             0:00:47       0.6874    0.6980\n",
      "        21   MaxAbsScaler LightGBM                          0:00:47       0.6930    0.6980\n",
      "        22   StandardScalerWrapper LogisticRegression       0:00:44       0.6772    0.6980\n",
      "        23   MaxAbsScaler LightGBM                          0:00:47       0.6664    0.6980\n",
      "        24   TruncatedSVDWrapper XGBoostClassifier          0:00:42       0.6346    0.6980\n",
      "        25   TruncatedSVDWrapper ExtremeRandomTrees         0:00:44       0.5716    0.6980\n",
      "        26   StandardScalerWrapper XGBoostClassifier        0:00:47       0.6877    0.6980\n",
      "        27   SparseNormalizer XGBoostClassifier             0:00:47       0.6555    0.6980\n",
      "        28   StandardScalerWrapper XGBoostClassifier        0:00:42       0.6449    0.6980\n",
      "        29   StandardScalerWrapper LightGBM                 0:00:47       0.6666    0.6980\n",
      "        30   MaxAbsScaler ExtremeRandomTrees                0:00:51       0.5344    0.6980\n",
      "        31   StandardScalerWrapper ExtremeRandomTrees       0:00:51       0.6825    0.6980\n",
      "        32   StandardScalerWrapper ExtremeRandomTrees       0:00:51       0.6980    0.6980\n",
      "        33   StandardScalerWrapper XGBoostClassifier        0:00:50       0.6664    0.6980\n",
      "        34   SparseNormalizer XGBoostClassifier             0:00:47       0.6771    0.6980\n",
      "        35   StandardScalerWrapper ExtremeRandomTrees       0:00:54       0.5716    0.6980\n",
      "        36   StandardScalerWrapper LightGBM                 0:00:45       0.6558    0.6980\n",
      "        37   StandardScalerWrapper LightGBM                 0:00:50       0.6821    0.6980\n",
      "        38   StandardScalerWrapper LogisticRegression       0:00:45       0.6823    0.6980\n",
      "        39   StandardScalerWrapper LogisticRegression       0:00:47       0.6771    0.6980\n",
      "        40   MaxAbsScaler ExtremeRandomTrees                0:00:45       0.6822    0.6980\n",
      "        41   StandardScalerWrapper LogisticRegression       0:00:48       0.7137    0.7137\n",
      "        42   MaxAbsScaler LightGBM                          0:00:50       0.6612    0.7137\n",
      "        43   MaxAbsScaler LightGBM                          0:00:50       0.6875    0.7137\n",
      "        44   MaxAbsScaler LightGBM                          0:00:47       0.6609    0.7137\n",
      "        45   TruncatedSVDWrapper LogisticRegression         0:00:50       0.5716    0.7137\n",
      "        46   MaxAbsScaler ExtremeRandomTrees                0:00:47       0.6667    0.7137\n",
      "        47   SparseNormalizer LightGBM                      0:00:47       0.7037    0.7137\n",
      "        48   MaxAbsScaler RandomForest                      0:00:46       0.6929    0.7137\n",
      "        49   StandardScalerWrapper XGBoostClassifier        0:00:57       0.6558    0.7137\n",
      "        50   TruncatedSVDWrapper LogisticRegression         0:00:41       0.6610    0.7137\n",
      "        51   StandardScalerWrapper ExtremeRandomTrees       0:00:50       0.7089    0.7137\n",
      "        52   StandardScalerWrapper XGBoostClassifier        0:00:44       0.6402    0.7137\n",
      "        53   MaxAbsScaler RandomForest                      0:00:53       0.6771    0.7137\n",
      "        54   StandardScalerWrapper LightGBM                 0:00:48       0.6398    0.7137\n",
      "        55   StandardScalerWrapper LogisticRegression       0:00:43       0.5716    0.7137\n",
      "        56   StandardScalerWrapper LightGBM                 0:00:43       0.6772    0.7137\n",
      "        57                                                  0:00:07          nan    0.7137\n",
      "        58    VotingEnsemble                                0:01:15       0.7458    0.7458\n"
     ]
    },
    {
     "data": {
      "text/plain": [
       "{'runId': 'AutoML_2886a22c-d991-455c-93ec-194bd8969aaf',\n",
       " 'target': 'ar-compute',\n",
       " 'status': 'Completed',\n",
       " 'startTimeUtc': '2021-06-14T17:39:32.909418Z',\n",
       " 'endTimeUtc': '2021-06-14T18:08:09.529527Z',\n",
       " 'properties': {'num_iterations': '1000',\n",
       "  'training_type': 'TrainFull',\n",
       "  'acquisition_function': 'EI',\n",
       "  'primary_metric': 'accuracy',\n",
       "  'train_split': '0',\n",
       "  'acquisition_parameter': '0',\n",
       "  'num_cross_validation': '4',\n",
       "  'target': 'ar-compute',\n",
       "  'AMLSettingsJsonString': '{\"path\":null,\"name\":\"AR-Capstone-Automl\",\"subscription_id\":\"48a74bb7-9950-4cc1-9caa-5d50f995cc55\",\"resource_group\":\"aml-quickstarts-147168\",\"workspace_name\":\"quick-starts-ws-147168\",\"region\":\"southcentralus\",\"compute_target\":\"ar-compute\",\"spark_service\":null,\"azure_service\":\"remote\",\"many_models\":false,\"pipeline_fetch_max_batch_size\":1,\"enable_batch_run\":false,\"enable_run_restructure\":false,\"start_auxiliary_runs_before_parent_complete\":false,\"enable_code_generation\":false,\"iterations\":1000,\"primary_metric\":\"accuracy\",\"task_type\":\"classification\",\"data_script\":null,\"test_size\":0.0,\"validation_size\":0.0,\"n_cross_validations\":4,\"y_min\":null,\"y_max\":null,\"num_classes\":null,\"featurization\":\"auto\",\"_ignore_package_version_incompatibilities\":false,\"is_timeseries\":false,\"max_cores_per_iteration\":1,\"max_concurrent_iterations\":4,\"iteration_timeout_minutes\":null,\"mem_in_mb\":null,\"enforce_time_on_windows\":false,\"experiment_timeout_minutes\":30,\"experiment_exit_score\":null,\"whitelist_models\":null,\"blacklist_algos\":[\"TensorFlowLinearClassifier\",\"TensorFlowDNN\"],\"supported_models\":[\"LinearSVM\",\"GradientBoosting\",\"BernoulliNaiveBayes\",\"ExtremeRandomTrees\",\"TensorFlowLinearClassifier\",\"XGBoostClassifier\",\"KNN\",\"MultinomialNaiveBayes\",\"LightGBM\",\"LogisticRegression\",\"RandomForest\",\"TensorFlowDNN\",\"SGD\",\"SVM\",\"AveragedPerceptronClassifier\",\"DecisionTree\"],\"private_models\":[],\"auto_blacklist\":true,\"blacklist_samples_reached\":false,\"exclude_nan_labels\":true,\"verbosity\":20,\"_debug_log\":\"azureml_automl.log\",\"show_warnings\":false,\"model_explainability\":true,\"service_url\":null,\"sdk_url\":null,\"sdk_packages\":null,\"enable_onnx_compatible_models\":true,\"enable_split_onnx_featurizer_estimator_models\":false,\"vm_type\":\"STANDARD_D2_V2\",\"telemetry_verbosity\":20,\"send_telemetry\":true,\"enable_dnn\":false,\"scenario\":\"SDK-1.13.0\",\"environment_label\":null,\"save_mlflow\":false,\"force_text_dnn\":false,\"enable_feature_sweeping\":false,\"enable_early_stopping\":true,\"early_stopping_n_iters\":10,\"metrics\":null,\"enable_metric_confidence\":false,\"enable_ensembling\":true,\"enable_stack_ensembling\":false,\"ensemble_iterations\":15,\"enable_tf\":false,\"enable_subsampling\":null,\"subsample_seed\":null,\"enable_nimbusml\":false,\"enable_streaming\":false,\"force_streaming\":false,\"track_child_runs\":true,\"allowed_private_models\":[],\"label_column_name\":\"Label1\",\"weight_column_name\":null,\"cv_split_column_names\":null,\"enable_local_managed\":false,\"_local_managed_run_id\":null,\"cost_mode\":1,\"lag_length\":0,\"metric_operation\":\"maximize\",\"preprocess\":true}',\n",
       "  'DataPrepJsonString': '{\\\\\"training_data\\\\\": {\\\\\"datasetId\\\\\": \\\\\"f0411195-08dc-48b6-9b2a-5071d27264fb\\\\\"}, \\\\\"datasets\\\\\": 0}',\n",
       "  'EnableSubsampling': None,\n",
       "  'runTemplate': 'AutoML',\n",
       "  'azureml.runsource': 'automl',\n",
       "  'display_task_type': 'classification',\n",
       "  'dependencies_versions': '{\"azureml-widgets\": \"1.28.0\", \"azureml-train\": \"1.28.0\", \"azureml-train-restclients-hyperdrive\": \"1.28.0\", \"azureml-train-core\": \"1.28.0\", \"azureml-train-automl\": \"1.28.0\", \"azureml-train-automl-runtime\": \"1.28.0\", \"azureml-train-automl-client\": \"1.28.0\", \"azureml-tensorboard\": \"1.28.0\", \"azureml-telemetry\": \"1.28.0\", \"azureml-sdk\": \"1.28.0\", \"azureml-samples\": \"0+unknown\", \"azureml-pipeline\": \"1.28.0\", \"azureml-pipeline-steps\": \"1.28.0\", \"azureml-pipeline-core\": \"1.28.0\", \"azureml-opendatasets\": \"1.28.0\", \"azureml-model-management-sdk\": \"1.0.1b6.post1\", \"azureml-mlflow\": \"1.28.0\", \"azureml-interpret\": \"1.28.0\", \"azureml-explain-model\": \"1.28.0\", \"azureml-defaults\": \"1.28.0\", \"azureml-dataset-runtime\": \"1.28.0\", \"azureml-dataprep\": \"2.15.0\", \"azureml-dataprep-rslex\": \"1.13.0\", \"azureml-dataprep-native\": \"33.0.0\", \"azureml-datadrift\": \"1.28.0\", \"azureml-core\": \"1.28.0\", \"azureml-contrib-services\": \"1.28.0\", \"azureml-contrib-server\": \"1.28.0\", \"azureml-contrib-reinforcementlearning\": \"1.28.0\", \"azureml-contrib-pipeline-steps\": \"1.28.0\", \"azureml-contrib-notebook\": \"1.28.0\", \"azureml-contrib-gbdt\": \"1.28.0\", \"azureml-contrib-fairness\": \"1.28.0\", \"azureml-contrib-dataset\": \"1.28.0\", \"azureml-cli-common\": \"1.28.0\", \"azureml-automl-runtime\": \"1.28.0.post2\", \"azureml-automl-dnn-nlp\": \"1.28.0\", \"azureml-automl-core\": \"1.28.0\", \"azureml-accel-models\": \"1.28.0\"}',\n",
       "  '_aml_system_scenario_identification': 'Remote.Parent',\n",
       "  'ClientType': 'SDK',\n",
       "  'environment_cpu_name': 'AzureML-AutoML',\n",
       "  'environment_cpu_label': 'prod',\n",
       "  'environment_gpu_name': 'AzureML-AutoML-GPU',\n",
       "  'environment_gpu_label': 'prod',\n",
       "  'root_attribution': 'automl',\n",
       "  'attribution': 'AutoML',\n",
       "  'Orchestrator': 'AutoML',\n",
       "  'CancelUri': 'https://southcentralus.api.azureml.ms/jasmine/v1.0/subscriptions/48a74bb7-9950-4cc1-9caa-5d50f995cc55/resourceGroups/aml-quickstarts-147168/providers/Microsoft.MachineLearningServices/workspaces/quick-starts-ws-147168/experimentids/dd7fdef6-922f-45e9-98de-16dc0dd52210/cancel/AutoML_2886a22c-d991-455c-93ec-194bd8969aaf',\n",
       "  'ClientSdkVersion': '1.29.0',\n",
       "  'snapshotId': '00000000-0000-0000-0000-000000000000',\n",
       "  'SetupRunId': 'AutoML_2886a22c-d991-455c-93ec-194bd8969aaf_setup',\n",
       "  'SetupRunContainerId': 'dcid.AutoML_2886a22c-d991-455c-93ec-194bd8969aaf_setup',\n",
       "  'FeaturizationRunJsonPath': 'featurizer_container.json',\n",
       "  'FeaturizationRunId': 'AutoML_2886a22c-d991-455c-93ec-194bd8969aaf_featurize',\n",
       "  'ProblemInfoJsonString': '{\"dataset_num_categorical\": 0, \"is_sparse\": true, \"subsampling\": false, \"has_extra_col\": true, \"dataset_classes\": 2, \"dataset_features\": 68, \"dataset_samples\": 189, \"single_frequency_class_detected\": false}',\n",
       "  'ModelExplainRunId': 'AutoML_2886a22c-d991-455c-93ec-194bd8969aaf_ModelExplain'},\n",
       " 'inputDatasets': [{'dataset': {'id': 'f0411195-08dc-48b6-9b2a-5071d27264fb'}, 'consumptionDetails': {'type': 'RunInput', 'inputName': 'training_data', 'mechanism': 'Direct'}}],\n",
       " 'outputDatasets': [],\n",
       " 'logFiles': {},\n",
       " 'submittedBy': 'ODL_User 147168'}"
      ]
     },
     "execution_count": 9,
     "metadata": {},
     "output_type": "execute_result"
    }
   ],
   "source": [
    "from azureml.widgets import RunDetails\n",
    "\n",
    "RunDetails(remote_run).show()\n",
    "remote_run.wait_for_completion(show_output=True)"
   ]
  },
  {
   "cell_type": "markdown",
   "metadata": {},
   "source": [
    "## Best Model\n",
    "\n",
    "In the cell below, get the best model from the automl experiments and display all the properties of the model.\n",
    "\n"
   ]
  },
  {
   "cell_type": "markdown",
   "metadata": {},
   "source": [
    "### Save the Best model"
   ]
  },
  {
   "cell_type": "code",
   "execution_count": 11,
   "metadata": {},
   "outputs": [],
   "source": [
    "# Retrieve the best automl model\n",
    "best_run, best_model = remote_run.get_output()"
   ]
  },
  {
   "cell_type": "code",
   "execution_count": 14,
   "metadata": {},
   "outputs": [
    {
     "data": {
      "text/html": [
       "<table style=\"width:100%\"><tr><th>Experiment</th><th>Id</th><th>Type</th><th>Status</th><th>Details Page</th><th>Docs Page</th></tr><tr><td>AR-Capstone-Automl</td><td>AutoML_2886a22c-d991-455c-93ec-194bd8969aaf_58</td><td>azureml.scriptrun</td><td>Completed</td><td><a href=\"https://ml.azure.com/runs/AutoML_2886a22c-d991-455c-93ec-194bd8969aaf_58?wsid=/subscriptions/48a74bb7-9950-4cc1-9caa-5d50f995cc55/resourcegroups/aml-quickstarts-147168/workspaces/quick-starts-ws-147168&amp;tid=660b3398-b80e-49d2-bc5b-ac1dc93b5254\" target=\"_blank\" rel=\"noopener\">Link to Azure Machine Learning studio</a></td><td><a href=\"https://docs.microsoft.com/en-us/python/api/azureml-core/azureml.core.run.Run?view=azure-ml-py\" target=\"_blank\" rel=\"noopener\">Link to Documentation</a></td></tr></table>"
      ],
      "text/plain": [
       "Run(Experiment: AR-Capstone-Automl,\n",
       "Id: AutoML_2886a22c-d991-455c-93ec-194bd8969aaf_58,\n",
       "Type: azureml.scriptrun,\n",
       "Status: Completed)"
      ]
     },
     "execution_count": 14,
     "metadata": {},
     "output_type": "execute_result"
    }
   ],
   "source": [
    "best_run"
   ]
  },
  {
   "cell_type": "code",
   "execution_count": 15,
   "metadata": {},
   "outputs": [
    {
     "name": "stdout",
     "output_type": "stream",
     "text": [
      "Best model Run Id:          AutoML_2886a22c-d991-455c-93ec-194bd8969aaf_58\n",
      "Best model Name:            AutoML2886a22cd58\n",
      "Best model Accurecy:        0.7457890070921986\n"
     ]
    }
   ],
   "source": [
    "print('Best model Run Id:          ' + str(best_run.get_details()['runId']))\n",
    "print('Best model Name:            ' + str(best_run.properties['model_name']))\n",
    "print('Best model Accurecy:        ' + str(best_run.get_metrics()['accuracy']))"
   ]
  },
  {
   "cell_type": "code",
   "execution_count": 16,
   "metadata": {},
   "outputs": [
    {
     "name": "stdout",
     "output_type": "stream",
     "text": [
      "Run(Experiment: AR-Capstone-Automl,\n",
      "Id: AutoML_2886a22c-d991-455c-93ec-194bd8969aaf_58,\n",
      "Type: azureml.scriptrun,\n",
      "Status: Completed)\n"
     ]
    }
   ],
   "source": [
    "print(best_run)"
   ]
  },
  {
   "cell_type": "code",
   "execution_count": 17,
   "metadata": {},
   "outputs": [
    {
     "name": "stdout",
     "output_type": "stream",
     "text": [
      "Pipeline(memory=None,\n",
      "         steps=[('datatransformer',\n",
      "                 DataTransformer(enable_dnn=False, enable_feature_sweeping=False, feature_sweeping_config={}, feature_sweeping_timeout=86400, featurization_config=None, force_text_dnn=False, is_cross_validation=True, is_onnx_compatible=True, observer=None, task='classification', working_dir='/mnt/batch/tasks/shared/LS_root/mount...\n",
      "    weight_column_name=None,\n",
      "    cv_split_column_names=None,\n",
      "    enable_streaming=None,\n",
      "    timeseries_param_dict=None,\n",
      "    gpu_training_param_dict={'processing_unit_type': 'cpu'}\n",
      "), random_state=0, reg_alpha=0.3125, reg_lambda=0.4166666666666667, subsample=0.5, tree_method='hist'))], verbose=False))], flatten_transform=None, weights=[0.125, 0.125, 0.125, 0.125, 0.125, 0.125, 0.125, 0.125]))],\n",
      "         verbose=False)\n"
     ]
    }
   ],
   "source": [
    "print(best_model)"
   ]
  },
  {
   "cell_type": "markdown",
   "metadata": {},
   "source": [
    "#### Best metrics"
   ]
  },
  {
   "cell_type": "code",
   "execution_count": 19,
   "metadata": {},
   "outputs": [
    {
     "name": "stdout",
     "output_type": "stream",
     "text": [
      "balanced_accuracy                :  0.7368912377533068\n",
      "weighted_accuracy                :  0.7542348962912881\n",
      "f1_score_micro                   :  0.7457890070921986\n",
      "precision_score_macro            :  0.7468130691464733\n",
      "AUC_macro                        :  0.7808941537389813\n",
      "norm_macro_recall                :  0.4737824755066134\n",
      "accuracy                         :  0.7457890070921986\n",
      "precision_score_micro            :  0.7457890070921986\n",
      "matthews_correlation             :  0.48345758185324794\n",
      "recall_score_micro               :  0.7457890070921986\n",
      "AUC_micro                        :  0.7869421691879182\n",
      "precision_score_weighted         :  0.7520840535178757\n",
      "average_precision_score_micro    :  0.7931578028154541\n",
      "f1_score_weighted                :  0.7446292948637574\n",
      "average_precision_score_weighted :  0.79666626792115\n",
      "log_loss                         :  0.5676111827808709\n",
      "recall_score_weighted            :  0.7457890070921986\n",
      "average_precision_score_macro    :  0.7874704802909486\n",
      "f1_score_macro                   :  0.7373953985796091\n",
      "AUC_weighted                     :  0.7808941537389814\n",
      "recall_score_macro               :  0.7368912377533068\n",
      "accuracy_table                   :  aml://artifactId/ExperimentRun/dcid.AutoML_2886a22c-d991-455c-93ec-194bd8969aaf_58/accuracy_table\n",
      "confusion_matrix                 :  aml://artifactId/ExperimentRun/dcid.AutoML_2886a22c-d991-455c-93ec-194bd8969aaf_58/confusion_matrix\n"
     ]
    }
   ],
   "source": [
    "best_run_metrics = best_run.get_metrics() \n",
    "\n",
    "for metric_name in best_run_metrics:\n",
    "    metric = best_run_metrics[metric_name]\n",
    "    # print(metric_name, metric)\n",
    "    print(\"{:33}:  {}\".format(metric_name, metric))"
   ]
  },
  {
   "cell_type": "markdown",
   "metadata": {},
   "source": [
    "#### Register best model"
   ]
  },
  {
   "cell_type": "code",
   "execution_count": 21,
   "metadata": {},
   "outputs": [],
   "source": [
    "reg_model = best_run.register_model(model_path='outputs/model.pkl', model_name='automl_best_model',\n",
    "                        properties={'Accuracy': best_run_metrics['accuracy'], 'AUC': best_run_metrics['AUC_weighted']})"
   ]
  },
  {
   "cell_type": "markdown",
   "metadata": {},
   "source": [
    "#### Download best model"
   ]
  },
  {
   "cell_type": "code",
   "execution_count": 22,
   "metadata": {},
   "outputs": [
    {
     "name": "stdout",
     "output_type": "stream",
     "text": [
      "Creating download_automl ...\n"
     ]
    }
   ],
   "source": [
    "import os\n",
    "out_dir = 'download_automl'\n",
    "if not os.path.isdir(out_dir):\n",
    "    print (\"Creating {:} ...\".format(out_dir))\n",
    "    os.mkdir(out_dir)"
   ]
  },
  {
   "cell_type": "code",
   "execution_count": 23,
   "metadata": {},
   "outputs": [
    {
     "data": {
      "text/plain": [
       "'download_automl/model.pkl'"
      ]
     },
     "execution_count": 23,
     "metadata": {},
     "output_type": "execute_result"
    }
   ],
   "source": [
    "reg_model.download(target_dir = \"./download_automl/\", exist_ok=True)"
   ]
  },
  {
   "cell_type": "markdown",
   "metadata": {},
   "source": [
    "#### Save model"
   ]
  },
  {
   "cell_type": "code",
   "execution_count": 24,
   "metadata": {},
   "outputs": [
    {
     "name": "stdout",
     "output_type": "stream",
     "text": [
      "Creating outputs ...\n"
     ]
    }
   ],
   "source": [
    "import os\n",
    "out_dir = 'outputs'\n",
    "if not os.path.isdir(out_dir):\n",
    "    print (\"Creating {:} ...\".format(out_dir))\n",
    "    os.mkdir(out_dir)"
   ]
  },
  {
   "cell_type": "code",
   "execution_count": 25,
   "metadata": {},
   "outputs": [
    {
     "data": {
      "text/plain": [
       "['outputs/automl_best_model.pkl']"
      ]
     },
     "execution_count": 25,
     "metadata": {},
     "output_type": "execute_result"
    }
   ],
   "source": [
    "import joblib\n",
    "joblib.dump(best_model, filename = \"outputs/automl_best_model.pkl\")"
   ]
  },
  {
   "cell_type": "markdown",
   "metadata": {},
   "source": [
    "## Model Deployment\n",
    "\n",
    "Remember you have to deploy only one of the two models you trained. Perform the steps in the rest of this notebook only if you wish to deploy this model."
   ]
  },
  {
   "cell_type": "markdown",
   "metadata": {},
   "source": [
    "### Register the Model\n",
    "\n",
    "In the cell below, register the model, create an inference config and deploy the model as a web service."
   ]
  },
  {
   "cell_type": "markdown",
   "metadata": {},
   "source": [
    "#### Download env file"
   ]
  },
  {
   "cell_type": "code",
   "execution_count": 26,
   "metadata": {},
   "outputs": [],
   "source": [
    "# Download scoring file \n",
    "best_run.download_file('outputs/scoring_file_v_1_0_0.py', 'azure_scoring.py')\n",
    "\n",
    "# Download environment file\n",
    "best_run.download_file('outputs/conda_env_v_1_0_0.yml', 'azure_env.yml')"
   ]
  },
  {
   "cell_type": "markdown",
   "metadata": {},
   "source": [
    "#### List registered models"
   ]
  },
  {
   "cell_type": "code",
   "execution_count": 27,
   "metadata": {},
   "outputs": [
    {
     "name": "stdout",
     "output_type": "stream",
     "text": [
      "automl_best_model version: 1\n",
      "\t Accuracy : 0.7457890070921986\n",
      "\t AUC : 0.7808941537389814\n"
     ]
    }
   ],
   "source": [
    "from azureml.core import Model\n",
    "\n",
    "# List registered models\n",
    "for model in Model.list(ws):\n",
    "    print(model.name, 'version:', model.version)\n",
    "    for tag_name in model.tags:\n",
    "        tag = model.tags[tag_name]\n",
    "        print ('\\t',tag_name, ':', tag)\n",
    "    for prop_name in model.properties:\n",
    "        prop = model.properties[prop_name]\n",
    "        print ('\\t',prop_name, ':', prop)"
   ]
  },
  {
   "cell_type": "markdown",
   "metadata": {},
   "source": [
    "#### Download env file"
   ]
  },
  {
   "cell_type": "code",
   "execution_count": 28,
   "metadata": {},
   "outputs": [],
   "source": [
    "# Download env file\n",
    "from azureml.automl.core.shared import constants\n",
    "best_run.download_file(constants.CONDA_ENV_FILE_PATH, 'automl_env.yml')"
   ]
  },
  {
   "cell_type": "code",
   "execution_count": 29,
   "metadata": {},
   "outputs": [],
   "source": [
    "# Create env from Conda specification file\n",
    "myenv = Environment.from_conda_specification(name = \"myenv\", file_path = \"./automl_env.yml\")"
   ]
  },
  {
   "cell_type": "code",
   "execution_count": 30,
   "metadata": {},
   "outputs": [
    {
     "data": {
      "text/plain": [
       "{\n",
       "    \"databricks\": {\n",
       "        \"eggLibraries\": [],\n",
       "        \"jarLibraries\": [],\n",
       "        \"mavenLibraries\": [],\n",
       "        \"pypiLibraries\": [],\n",
       "        \"rcranLibraries\": []\n",
       "    },\n",
       "    \"docker\": {\n",
       "        \"arguments\": [],\n",
       "        \"baseDockerfile\": null,\n",
       "        \"baseImage\": \"mcr.microsoft.com/azureml/openmpi3.1.2-ubuntu18.04:20210301.v1\",\n",
       "        \"baseImageRegistry\": {\n",
       "            \"address\": null,\n",
       "            \"password\": null,\n",
       "            \"registryIdentity\": null,\n",
       "            \"username\": null\n",
       "        },\n",
       "        \"enabled\": false,\n",
       "        \"platform\": {\n",
       "            \"architecture\": \"amd64\",\n",
       "            \"os\": \"Linux\"\n",
       "        },\n",
       "        \"sharedVolumes\": true,\n",
       "        \"shmSize\": \"2g\"\n",
       "    },\n",
       "    \"environmentVariables\": {\n",
       "        \"EXAMPLE_ENV_VAR\": \"EXAMPLE_VALUE\"\n",
       "    },\n",
       "    \"inferencingStackVersion\": null,\n",
       "    \"name\": \"myenv\",\n",
       "    \"python\": {\n",
       "        \"baseCondaEnvironment\": null,\n",
       "        \"condaDependencies\": {\n",
       "            \"channels\": [\n",
       "                \"anaconda\",\n",
       "                \"conda-forge\"\n",
       "            ],\n",
       "            \"dependencies\": [\n",
       "                \"python=3.6.2\",\n",
       "                {\n",
       "                    \"pip\": [\n",
       "                        \"azureml-train-automl-runtime==1.29.0\",\n",
       "                        \"inference-schema\",\n",
       "                        \"azureml-interpret==1.29.0\",\n",
       "                        \"azureml-defaults==1.29.0\"\n",
       "                    ]\n",
       "                },\n",
       "                \"numpy>=1.16.0,<1.19.0\",\n",
       "                \"pandas==0.25.1\",\n",
       "                \"scikit-learn==0.22.1\",\n",
       "                \"py-xgboost<=0.90\",\n",
       "                \"fbprophet==0.5\",\n",
       "                \"holidays==0.9.11\",\n",
       "                \"psutil>=5.2.2,<6.0.0\"\n",
       "            ],\n",
       "            \"name\": \"project_environment\"\n",
       "        },\n",
       "        \"condaDependenciesFile\": null,\n",
       "        \"interpreterPath\": \"python\",\n",
       "        \"userManagedDependencies\": false\n",
       "    },\n",
       "    \"r\": null,\n",
       "    \"spark\": {\n",
       "        \"packages\": [],\n",
       "        \"precachePackages\": true,\n",
       "        \"repositories\": []\n",
       "    },\n",
       "    \"version\": null\n",
       "}"
      ]
     },
     "execution_count": 30,
     "metadata": {},
     "output_type": "execute_result"
    }
   ],
   "source": [
    "myenv"
   ]
  },
  {
   "cell_type": "markdown",
   "metadata": {},
   "source": [
    "#### List cureted environments"
   ]
  },
  {
   "cell_type": "code",
   "execution_count": 31,
   "metadata": {},
   "outputs": [],
   "source": [
    "# Microsoft Reference\n",
    "# https://docs.microsoft.com/en-us/azure/machine-learning/how-to-use-environments\n",
    "\n",
    "# List the curated environments and their packages\n",
    "# from azureml.core.environment import Environment\n",
    "# envs = Environment.list(workspace=ws)\n",
    "# for env in envs:\n",
    "#     if env.startswith(\"AzureML\"):\n",
    "#         print(\"Name\",env)\n",
    "#         print(\"packages\", envs[env].python.conda_dependencies.serialize_to_string())"
   ]
  },
  {
   "cell_type": "markdown",
   "metadata": {},
   "source": [
    "#### Deploy model"
   ]
  },
  {
   "cell_type": "code",
   "execution_count": 29,
   "metadata": {},
   "outputs": [
    {
     "name": "stdout",
     "output_type": "stream",
     "text": [
      "Tips: You can try get_logs(): https://aka.ms/debugimage#dockerlog or local deployment: https://aka.ms/debugimage#debug-locally to debug if deployment takes longer than 10 minutes.\n",
      "Running\n",
      "2021-06-12 23:49:24+00:00 Creating Container Registry if not exists.\n",
      "2021-06-12 23:49:24+00:00 Registering the environment.\n",
      "2021-06-12 23:49:25+00:00 Building image..\n",
      "2021-06-13 00:02:33+00:00 Generating deployment configuration.\n",
      "2021-06-13 00:02:34+00:00 Submitting deployment to compute..\n",
      "2021-06-13 00:02:37+00:00 Checking the status of deployment amphibians-predict-automl..\n",
      "2021-06-13 00:06:44+00:00 Checking the status of inference endpoint amphibians-predict-automl.\n",
      "Succeeded\n",
      "ACI service creation operation finished, operation \"Succeeded\"\n"
     ]
    }
   ],
   "source": [
    "# Deploy model\n",
    "\n",
    "from azureml.core.model import InferenceConfig\n",
    "\n",
    "inference_config  = InferenceConfig(entry_script = \"score.py\", environment = myenv)\n",
    "\n",
    "deployment_config = AciWebservice.deploy_configuration( cpu_cores = 1, \n",
    "                                                        memory_gb = 1, \n",
    "                                                        enable_app_insights = True,\n",
    "                                                        description = 'Predict presence of amphibians - AutoML model')\n",
    "\n",
    "model = Model(ws, 'automl_best_model')\n",
    "\n",
    "service = Model.deploy(workspace = ws, \n",
    "                       name = 'amphibians-predict-automl', \n",
    "                       models = [model], \n",
    "                       inference_config = inference_config, \n",
    "                       deployment_config = deployment_config)\n",
    "\n",
    "service.wait_for_deployment(show_output=True)"
   ]
  },
  {
   "cell_type": "markdown",
   "metadata": {},
   "source": [
    "### Send request to Web Service "
   ]
  },
  {
   "cell_type": "markdown",
   "metadata": {
    "collapsed": true,
    "gather": {
     "logged": 1598431657736
    },
    "jupyter": {
     "outputs_hidden": false,
     "source_hidden": false
    },
    "nteract": {
     "transient": {
      "deleting": false
     }
    }
   },
   "source": [
    "In the cell below, send a request to the web service you deployed to test it."
   ]
  },
  {
   "cell_type": "code",
   "execution_count": 32,
   "metadata": {},
   "outputs": [],
   "source": [
    "# Enable Application Insights\n",
    "service.update(enable_app_insights = True)"
   ]
  },
  {
   "cell_type": "code",
   "execution_count": 34,
   "metadata": {},
   "outputs": [
    {
     "name": "stdout",
     "output_type": "stream",
     "text": [
      "Service state: Healthy\n",
      "Swagger URI:   http://4c070f13-3bf9-43f4-9e49-4d932edfd971.southcentralus.azurecontainer.io/swagger.json\n",
      "Scoring URI:   http://4c070f13-3bf9-43f4-9e49-4d932edfd971.southcentralus.azurecontainer.io/score\n"
     ]
    }
   ],
   "source": [
    "print(\"Service state: \" + service.state)\n",
    "print(\"Swagger URI:   \" + service.swagger_uri)\n",
    "print(\"Scoring URI:   \" + service.scoring_uri)"
   ]
  },
  {
   "cell_type": "markdown",
   "metadata": {},
   "source": [
    "#### Request"
   ]
  },
  {
   "cell_type": "code",
   "execution_count": 36,
   "metadata": {},
   "outputs": [
    {
     "name": "stdout",
     "output_type": "stream",
     "text": [
      "[1, 0, 1, 1]\n"
     ]
    }
   ],
   "source": [
    "import requests\n",
    "import json\n",
    "\n",
    "data = {\n",
    "      \"data\": [\n",
    "        {\n",
    "          \"SR\": 7000,\n",
    "          \"NR\": 1,\n",
    "          \"TR\": 1,\n",
    "          \"VR\": 1,\n",
    "          \"SUR1\": 2,\n",
    "          \"SUR2\": 6,\n",
    "          \"SUR3\": 10,\n",
    "          \"UR\": 3,\n",
    "          \"FR\": 3,\n",
    "          \"OR\": 50,\n",
    "          \"RR\": 1,\n",
    "          \"BR\": 5,\n",
    "          \"MR\": 0,\n",
    "          \"CR\": 1\n",
    "        },\n",
    "        {\n",
    "          \"SR\": 250,\n",
    "          \"NR\": 1,\n",
    "          \"TR\": 5,\n",
    "          \"VR\": 0,\n",
    "          \"SUR1\": 6,\n",
    "          \"SUR2\": 8,\n",
    "          \"SUR3\": 2,\n",
    "          \"UR\": 3,\n",
    "          \"FR\": 4,\n",
    "          \"OR\": 15,\n",
    "          \"RR\": 0,\n",
    "          \"BR\": 0,\n",
    "          \"MR\": 0,\n",
    "          \"CR\": 1\n",
    "        },\n",
    "        {\n",
    "          \"SR\": 1700,\n",
    "          \"NR\": 1,\n",
    "          \"TR\": 1,\n",
    "          \"VR\": 1,\n",
    "          \"SUR1\": 2,\n",
    "          \"SUR2\": 6,\n",
    "          \"SUR3\": 10,\n",
    "          \"UR\": 0,\n",
    "          \"FR\": 1,\n",
    "          \"OR\": 100,\n",
    "          \"RR\": 2,\n",
    "          \"BR\": 2,\n",
    "          \"MR\": 2,\n",
    "          \"CR\": 1\n",
    "        },\n",
    "        {\n",
    "          \"SR\": 30000,\n",
    "          \"NR\": 1,\n",
    "          \"TR\": 1,\n",
    "          \"VR\": 3,\n",
    "          \"SUR1\": 1,\n",
    "          \"SUR2\": 1,\n",
    "          \"SUR3\": 1,\n",
    "          \"UR\": 0,\n",
    "          \"FR\": 0,\n",
    "          \"OR\": 100,\n",
    "          \"RR\": 2,\n",
    "          \"BR\": 10,\n",
    "          \"MR\": 0,\n",
    "          \"CR\": 1\n",
    "        }   \n",
    "    ]\n",
    "}\n",
    "\n",
    "# Convert to JSON string\n",
    "input_data = json.dumps(data)\n",
    "\n",
    "with open(\"input_data_2.json\", \"w\") as f:\n",
    "    f.write(input_data)\n",
    "              \n",
    "# Set the content type to json\n",
    "headers = {'Content-Type': 'application/json'}\n",
    "\n",
    "# Make the request and display the result\n",
    "result = requests.post(service.scoring_uri, input_data, headers=headers)\n",
    "print(result.json())"
   ]
  },
  {
   "cell_type": "markdown",
   "metadata": {},
   "source": [
    "### Logs"
   ]
  },
  {
   "cell_type": "markdown",
   "metadata": {
    "collapsed": true,
    "gather": {
     "logged": 1598432765711
    },
    "jupyter": {
     "outputs_hidden": false,
     "source_hidden": false
    },
    "nteract": {
     "transient": {
      "deleting": false
     }
    }
   },
   "source": [
    "In the cell below, print the logs of the web service and delete the service"
   ]
  },
  {
   "cell_type": "code",
   "execution_count": 35,
   "metadata": {},
   "outputs": [
    {
     "name": "stdout",
     "output_type": "stream",
     "text": [
      "2021-06-13T00:06:38,430516800+00:00 - rsyslog/run \n",
      "rsyslogd: /azureml-envs/azureml_9f0c3287c829596c71d31603ecf0cccf/lib/libuuid.so.1: no version information available (required by rsyslogd)\n",
      "2021-06-13T00:06:38,465690900+00:00 - nginx/run \n",
      "2021-06-13T00:06:38,472118500+00:00 - gunicorn/run \n",
      "2021-06-13T00:06:38,490567400+00:00 - iot-server/run \n",
      "EdgeHubConnectionString and IOTEDGE_IOTHUBHOSTNAME are not set. Exiting...\n",
      "2021-06-13T00:06:38,838046100+00:00 - iot-server/finish 1 0\n",
      "2021-06-13T00:06:38,844979100+00:00 - Exit code 1 is normal. Not restarting iot-server.\n",
      "Starting gunicorn 20.1.0\n",
      "Listening at: http://127.0.0.1:31311 (69)\n",
      "Using worker: sync\n",
      "worker timeout is set to 300\n",
      "Booting worker with pid: 98\n",
      "SPARK_HOME not set. Skipping PySpark Initialization.\n",
      "Generating new fontManager, this may take some time...\n",
      "Initializing logger\n",
      "2021-06-13 00:06:44,513 | root | INFO | Starting up app insights client\n",
      "2021-06-13 00:06:44,514 | root | INFO | Starting up request id generator\n",
      "2021-06-13 00:06:44,514 | root | INFO | Starting up app insight hooks\n",
      "2021-06-13 00:06:44,514 | root | INFO | Invoking user's init function\n",
      "2021-06-13 00:06:47,482 | root | INFO | Users's init has completed successfully\n",
      "2021-06-13 00:06:47,485 | root | INFO | Skipping middleware: dbg_model_info as it's not enabled.\n",
      "2021-06-13 00:06:47,485 | root | INFO | Skipping middleware: dbg_resource_usage as it's not enabled.\n",
      "/azureml-envs/azureml_9f0c3287c829596c71d31603ecf0cccf/lib/python3.6/site-packages/sklearn/externals/joblib/__init__.py:15: FutureWarning: sklearn.externals.joblib is deprecated in 0.21 and will be removed in 0.23. Please import this functionality directly from joblib, which can be installed with: pip install joblib. If this warning is raised when loading pickled models, you may need to re-serialize those models with scikit-learn 0.21+.\n",
      "  warnings.warn(msg, category=FutureWarning)\n",
      "2021-06-13 00:06:47,492 | root | INFO | Scoring timeout is found from os.environ: 60000 ms\n",
      "2021-06-13 00:06:47,506 | root | INFO | Swagger file not present\n",
      "2021-06-13 00:06:47,507 | root | INFO | 404\n",
      "127.0.0.1 - - [13/Jun/2021:00:06:47 +0000] \"GET /swagger.json HTTP/1.0\" 404 19 \"-\" \"Go-http-client/1.1\"\n",
      "2021-06-13 00:06:51,620 | root | INFO | Swagger file not present\n",
      "2021-06-13 00:06:51,621 | root | INFO | 404\n",
      "127.0.0.1 - - [13/Jun/2021:00:06:51 +0000] \"GET /swagger.json HTTP/1.0\" 404 19 \"-\" \"Go-http-client/1.1\"\n",
      "2021-06-13 00:06:52,702 | root | INFO | Swagger file not present\n",
      "2021-06-13 00:06:52,703 | root | INFO | 404\n",
      "127.0.0.1 - - [13/Jun/2021:00:06:52 +0000] \"GET /swagger.json HTTP/1.0\" 404 19 \"-\" \"Go-http-client/1.1\"\n",
      "2021-06-13 00:07:29,320 | root | INFO | Swagger file not present\n",
      "2021-06-13 00:07:29,321 | root | INFO | 404\n",
      "127.0.0.1 - - [13/Jun/2021:00:07:29 +0000] \"GET /swagger.json HTTP/1.0\" 404 19 \"-\" \"Go-http-client/1.1\"\n",
      "2021-06-13 00:18:20,563 | root | INFO | Swagger file not present\n",
      "2021-06-13 00:18:20,565 | root | INFO | 404\n",
      "127.0.0.1 - - [13/Jun/2021:00:18:20 +0000] \"GET /swagger.json HTTP/1.0\" 404 19 \"-\" \"Go-http-client/1.1\"\n",
      "127.0.0.1 - - [13/Jun/2021:00:21:13 +0000] \"GET /owa/auth/x.js HTTP/1.0\" 404 232 \"-\" \"Mozilla/5.0 (compatible; Nmap Scripting Engine; https://nmap.org/book/nse.html)\"\n",
      "2021-06-13 00:26:23,271 | root | INFO | Swagger file not present\n",
      "2021-06-13 00:26:23,273 | root | INFO | 404\n",
      "127.0.0.1 - - [13/Jun/2021:00:26:23 +0000] \"GET /swagger.json HTTP/1.0\" 404 19 \"-\" \"Go-http-client/1.1\"\n",
      "2021-06-13 00:27:32,121 | root | INFO | Swagger file not present\n",
      "2021-06-13 00:27:32,122 | root | INFO | 404\n",
      "127.0.0.1 - - [13/Jun/2021:00:27:32 +0000] \"GET /swagger.json HTTP/1.0\" 404 19 \"-\" \"Mozilla/5.0 (Windows NT 10.0; Win64; x64) AppleWebKit/537.36 (KHTML, like Gecko) Chrome/91.0.4472.77 Safari/537.36\"\n",
      "127.0.0.1 - - [13/Jun/2021:00:27:32 +0000] \"GET /favicon.ico HTTP/1.0\" 404 232 \"http://4c070f13-3bf9-43f4-9e49-4d932edfd971.southcentralus.azurecontainer.io/swagger.json\" \"Mozilla/5.0 (Windows NT 10.0; Win64; x64) AppleWebKit/537.36 (KHTML, like Gecko) Chrome/91.0.4472.77 Safari/537.36\"\n",
      "2021-06-13 00:28:09,654 | root | INFO | Scoring Timer is set to 60.0 seconds\n",
      "2021-06-13 00:28:09,656 | root | INFO | 200\n",
      "127.0.0.1 - - [13/Jun/2021:00:28:09 +0000] \"GET /score HTTP/1.0\" 200 8 \"-\" \"Mozilla/5.0 (Windows NT 10.0; Win64; x64) AppleWebKit/537.36 (KHTML, like Gecko) Chrome/91.0.4472.77 Safari/537.36\"\n",
      "2021-06-13 00:28:48,816 | root | INFO | Swagger file not present\n",
      "2021-06-13 00:28:48,817 | root | INFO | 404\n",
      "127.0.0.1 - - [13/Jun/2021:00:28:48 +0000] \"GET /swagger.json HTTP/1.0\" 404 19 \"-\" \"Go-http-client/1.1\"\n",
      "2021-06-13 00:28:54,957 | root | INFO | Swagger file not present\n",
      "2021-06-13 00:28:54,957 | root | INFO | 404\n",
      "127.0.0.1 - - [13/Jun/2021:00:28:54 +0000] \"GET /swagger.json HTTP/1.0\" 404 19 \"-\" \"Mozilla/5.0 (Windows NT 10.0; Win64; x64) AppleWebKit/537.36 (KHTML, like Gecko) Chrome/91.0.4472.77 Safari/537.36\"\n",
      "\n"
     ]
    }
   ],
   "source": [
    "# Print the logs of the deployed service\n",
    "print(service.get_logs())"
   ]
  },
  {
   "cell_type": "markdown",
   "metadata": {},
   "source": [
    "## Save model in ONNX format"
   ]
  },
  {
   "cell_type": "markdown",
   "metadata": {},
   "source": [
    "### Retrieve the Best ONNX Model\n",
    "\n",
    "Below we select the best pipeline from our iterations. The `get_output` method returns the best run and the fitted model. The Model includes the pipeline and any pre-processing.  Overloads on `get_output` allow you to retrieve the best run and fitted model for *any* logged metric or for a particular *iteration*.\n",
    "\n",
    "Set the parameter return_onnx_model=True to retrieve the best ONNX model, instead of the Python model."
   ]
  },
  {
   "cell_type": "code",
   "execution_count": 32,
   "metadata": {},
   "outputs": [],
   "source": [
    "best_run, onnx_model = remote_run.get_output(return_onnx_model=True)"
   ]
  },
  {
   "cell_type": "code",
   "execution_count": 33,
   "metadata": {},
   "outputs": [
    {
     "data": {
      "text/html": [
       "<table style=\"width:100%\"><tr><th>Experiment</th><th>Id</th><th>Type</th><th>Status</th><th>Details Page</th><th>Docs Page</th></tr><tr><td>AR-Capstone-Automl</td><td>AutoML_2886a22c-d991-455c-93ec-194bd8969aaf_58</td><td>azureml.scriptrun</td><td>Completed</td><td><a href=\"https://ml.azure.com/runs/AutoML_2886a22c-d991-455c-93ec-194bd8969aaf_58?wsid=/subscriptions/48a74bb7-9950-4cc1-9caa-5d50f995cc55/resourcegroups/aml-quickstarts-147168/workspaces/quick-starts-ws-147168&amp;tid=660b3398-b80e-49d2-bc5b-ac1dc93b5254\" target=\"_blank\" rel=\"noopener\">Link to Azure Machine Learning studio</a></td><td><a href=\"https://docs.microsoft.com/en-us/python/api/azureml-core/azureml.core.run.Run?view=azure-ml-py\" target=\"_blank\" rel=\"noopener\">Link to Documentation</a></td></tr></table>"
      ],
      "text/plain": [
       "Run(Experiment: AR-Capstone-Automl,\n",
       "Id: AutoML_2886a22c-d991-455c-93ec-194bd8969aaf_58,\n",
       "Type: azureml.scriptrun,\n",
       "Status: Completed)"
      ]
     },
     "execution_count": 33,
     "metadata": {},
     "output_type": "execute_result"
    }
   ],
   "source": [
    "best_run"
   ]
  },
  {
   "cell_type": "code",
   "execution_count": 1,
   "metadata": {},
   "outputs": [],
   "source": [
    "# onnx_model"
   ]
  },
  {
   "cell_type": "markdown",
   "metadata": {},
   "source": [
    "### Save the Best ONNX Model"
   ]
  },
  {
   "cell_type": "code",
   "execution_count": 35,
   "metadata": {},
   "outputs": [
    {
     "name": "stdout",
     "output_type": "stream",
     "text": [
      "Creating onnx ...\n"
     ]
    }
   ],
   "source": [
    "out_dir = 'onnx'\n",
    "if not os.path.isdir(out_dir):\n",
    "    print (\"Creating {:} ...\".format(out_dir))\n",
    "    os.mkdir(out_dir)"
   ]
  },
  {
   "cell_type": "code",
   "execution_count": 38,
   "metadata": {},
   "outputs": [],
   "source": [
    "from azureml.automl.runtime.onnx_convert import OnnxConverter\n",
    "onnx_path = out_dir + \"/automl_best_model.onnx\"\n",
    "OnnxConverter.save_onnx_model(onnx_model, onnx_path)"
   ]
  },
  {
   "cell_type": "code",
   "execution_count": 39,
   "metadata": {},
   "outputs": [
    {
     "name": "stdout",
     "output_type": "stream",
     "text": [
      "615846\n"
     ]
    }
   ],
   "source": [
    "# Check saved model size\n",
    "print(os.path.getsize(onnx_path))"
   ]
  },
  {
   "cell_type": "markdown",
   "metadata": {},
   "source": [
    "### Test data"
   ]
  },
  {
   "cell_type": "code",
   "execution_count": 40,
   "metadata": {},
   "outputs": [],
   "source": [
    "test_data = \"https://raw.githubusercontent.com/arees88/ML_Azure_P3_Capstone/main/Amphibians_testset.csv\"\n",
    "# test_data = \"./Amphibians_testset.csv\"\n",
    "test_dataset = Dataset.Tabular.from_delimited_files(test_data)"
   ]
  },
  {
   "cell_type": "code",
   "execution_count": 41,
   "metadata": {},
   "outputs": [
    {
     "data": {
      "text/plain": [
       "{\n",
       "  \"source\": [\n",
       "    \"https://raw.githubusercontent.com/arees88/ML_Azure_P3_Capstone/main/Amphibians_testset.csv\"\n",
       "  ],\n",
       "  \"definition\": [\n",
       "    \"GetFiles\",\n",
       "    \"ParseDelimited\",\n",
       "    \"DropColumns\",\n",
       "    \"SetColumnTypes\"\n",
       "  ]\n",
       "}"
      ]
     },
     "execution_count": 41,
     "metadata": {},
     "output_type": "execute_result"
    }
   ],
   "source": [
    "test_dataset"
   ]
  },
  {
   "cell_type": "code",
   "execution_count": 42,
   "metadata": {},
   "outputs": [
    {
     "data": {
      "text/html": [
       "<div>\n",
       "<style scoped>\n",
       "    .dataframe tbody tr th:only-of-type {\n",
       "        vertical-align: middle;\n",
       "    }\n",
       "\n",
       "    .dataframe tbody tr th {\n",
       "        vertical-align: top;\n",
       "    }\n",
       "\n",
       "    .dataframe thead th {\n",
       "        text-align: right;\n",
       "    }\n",
       "</style>\n",
       "<table border=\"1\" class=\"dataframe\">\n",
       "  <thead>\n",
       "    <tr style=\"text-align: right;\">\n",
       "      <th></th>\n",
       "      <th>SR</th>\n",
       "      <th>NR</th>\n",
       "      <th>TR</th>\n",
       "      <th>VR</th>\n",
       "      <th>SUR1</th>\n",
       "      <th>SUR2</th>\n",
       "      <th>SUR3</th>\n",
       "      <th>UR</th>\n",
       "      <th>FR</th>\n",
       "      <th>OR</th>\n",
       "      <th>RR</th>\n",
       "      <th>BR</th>\n",
       "      <th>MR</th>\n",
       "      <th>CR</th>\n",
       "      <th>Label1</th>\n",
       "    </tr>\n",
       "  </thead>\n",
       "  <tbody>\n",
       "    <tr>\n",
       "      <th>0</th>\n",
       "      <td>7000</td>\n",
       "      <td>1</td>\n",
       "      <td>1</td>\n",
       "      <td>1</td>\n",
       "      <td>2</td>\n",
       "      <td>6</td>\n",
       "      <td>10</td>\n",
       "      <td>3</td>\n",
       "      <td>3</td>\n",
       "      <td>50</td>\n",
       "      <td>1</td>\n",
       "      <td>5</td>\n",
       "      <td>0</td>\n",
       "      <td>1</td>\n",
       "      <td>1</td>\n",
       "    </tr>\n",
       "    <tr>\n",
       "      <th>1</th>\n",
       "      <td>250</td>\n",
       "      <td>1</td>\n",
       "      <td>5</td>\n",
       "      <td>0</td>\n",
       "      <td>6</td>\n",
       "      <td>8</td>\n",
       "      <td>2</td>\n",
       "      <td>3</td>\n",
       "      <td>4</td>\n",
       "      <td>15</td>\n",
       "      <td>0</td>\n",
       "      <td>0</td>\n",
       "      <td>0</td>\n",
       "      <td>1</td>\n",
       "      <td>0</td>\n",
       "    </tr>\n",
       "    <tr>\n",
       "      <th>2</th>\n",
       "      <td>1700</td>\n",
       "      <td>1</td>\n",
       "      <td>1</td>\n",
       "      <td>1</td>\n",
       "      <td>2</td>\n",
       "      <td>6</td>\n",
       "      <td>10</td>\n",
       "      <td>0</td>\n",
       "      <td>1</td>\n",
       "      <td>100</td>\n",
       "      <td>2</td>\n",
       "      <td>2</td>\n",
       "      <td>2</td>\n",
       "      <td>1</td>\n",
       "      <td>1</td>\n",
       "    </tr>\n",
       "    <tr>\n",
       "      <th>3</th>\n",
       "      <td>30000</td>\n",
       "      <td>1</td>\n",
       "      <td>1</td>\n",
       "      <td>3</td>\n",
       "      <td>1</td>\n",
       "      <td>1</td>\n",
       "      <td>1</td>\n",
       "      <td>0</td>\n",
       "      <td>0</td>\n",
       "      <td>100</td>\n",
       "      <td>2</td>\n",
       "      <td>10</td>\n",
       "      <td>0</td>\n",
       "      <td>1</td>\n",
       "      <td>1</td>\n",
       "    </tr>\n",
       "  </tbody>\n",
       "</table>\n",
       "</div>"
      ],
      "text/plain": [
       "      SR  NR  TR  VR  SUR1  SUR2  SUR3  UR  FR   OR  RR  BR  MR  CR  Label1\n",
       "0   7000   1   1   1     2     6    10   3   3   50   1   5   0   1       1\n",
       "1    250   1   5   0     6     8     2   3   4   15   0   0   0   1       0\n",
       "2   1700   1   1   1     2     6    10   0   1  100   2   2   2   1       1\n",
       "3  30000   1   1   3     1     1     1   0   0  100   2  10   0   1       1"
      ]
     },
     "execution_count": 42,
     "metadata": {},
     "output_type": "execute_result"
    }
   ],
   "source": [
    "df = test_dataset.to_pandas_dataframe()\n",
    "df"
   ]
  },
  {
   "cell_type": "markdown",
   "metadata": {},
   "source": [
    "### Predict with ONNX Model\n",
    "\n",
    "#### Using onnxruntime package"
   ]
  },
  {
   "cell_type": "code",
   "execution_count": 43,
   "metadata": {},
   "outputs": [
    {
     "name": "stdout",
     "output_type": "stream",
     "text": [
      "[1 0 1 1]\n",
      "[[0.1954983  0.80450165]\n",
      " [0.57295805 0.42704195]\n",
      " [0.34642792 0.65357214]\n",
      " [0.23338166 0.7666183 ]]\n"
     ]
    }
   ],
   "source": [
    "import sys\n",
    "import json\n",
    "from azureml.automl.core.onnx_convert import OnnxConvertConstants\n",
    "from azureml.train.automl import constants\n",
    "\n",
    "if sys.version_info < OnnxConvertConstants.OnnxIncompatiblePythonVersion:\n",
    "    python_version_compatible = True\n",
    "else:\n",
    "    python_version_compatible = False\n",
    "\n",
    "import onnxruntime\n",
    "from azureml.automl.runtime.onnx_convert import OnnxInferenceHelper\n",
    "\n",
    "def get_onnx_res(run):\n",
    "    res_path = 'onnx_resource.json'\n",
    "    run.download_file(name=constants.MODEL_RESOURCE_PATH_ONNX, output_file_path=res_path)\n",
    "    with open(res_path) as f:\n",
    "        onnx_res = json.load(f)\n",
    "    return onnx_res\n",
    "\n",
    "if python_version_compatible:\n",
    "    test_df = test_dataset.to_pandas_dataframe()\n",
    "    mdl_bytes = onnx_model.SerializeToString()\n",
    "    onnx_res = get_onnx_res(best_run)\n",
    "\n",
    "    onnxrt_helper = OnnxInferenceHelper(mdl_bytes, onnx_res)\n",
    "    pred_onnx, pred_prob_onnx = onnxrt_helper.predict(test_df)\n",
    "\n",
    "    print(pred_onnx)\n",
    "    print(pred_prob_onnx)\n",
    "else:\n",
    "    print('Please use Python version 3.6 or 3.7 to run the inference helper.')"
   ]
  },
  {
   "cell_type": "markdown",
   "metadata": {},
   "source": [
    "### Delete Web Service"
   ]
  },
  {
   "cell_type": "code",
   "execution_count": null,
   "metadata": {},
   "outputs": [],
   "source": [
    "# Delete the deployed service\n",
    "service.delete()"
   ]
  }
 ],
 "metadata": {
  "kernel_info": {
   "name": "python3"
  },
  "kernelspec": {
   "display_name": "Python 3",
   "language": "python",
   "name": "python3"
  },
  "language_info": {
   "codemirror_mode": {
    "name": "ipython",
    "version": 3
   },
   "file_extension": ".py",
   "mimetype": "text/x-python",
   "name": "python",
   "nbconvert_exporter": "python",
   "pygments_lexer": "ipython3",
   "version": "3.7.3"
  },
  "nteract": {
   "version": "nteract-front-end@1.0.0"
  }
 },
 "nbformat": 4,
 "nbformat_minor": 2
}
